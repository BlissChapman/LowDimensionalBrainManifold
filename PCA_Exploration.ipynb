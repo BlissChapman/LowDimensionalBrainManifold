{
 "cells": [
  {
   "cell_type": "code",
   "execution_count": 5,
   "metadata": {},
   "outputs": [],
   "source": [
    "import copy\n",
    "import matplotlib.cm as cmx\n",
    "import matplotlib.colors as colors\n",
    "import matplotlib.pyplot as plt\n",
    "import numpy as np\n",
    "import utils\n",
    "\n",
    "import warnings; warnings.simplefilter('ignore')\n",
    "\n",
    "from mpl_toolkits.mplot3d import Axes3D\n",
    "from nilearn import datasets, plotting\n",
    "from sklearn.cluster import KMeans\n",
    "from sklearn.decomposition import PCA"
   ]
  },
  {
   "cell_type": "markdown",
   "metadata": {},
   "source": [
    "# Low Dimensional Connectome Dynamics"
   ]
  },
  {
   "cell_type": "markdown",
   "metadata": {},
   "source": [
    "### Prepare Data - Separate Modalities"
   ]
  },
  {
   "cell_type": "code",
   "execution_count": null,
   "metadata": {},
   "outputs": [],
   "source": [
    "all_subjects_all_trials_connectomes = utils.load_connectomes(utils.ALL_SUBJECT_IDS, utils.ALL_TRIAL_IDS)\n",
    "all_subjects_all_trials_connectomes['fmri'].shape"
   ]
  },
  {
   "cell_type": "markdown",
   "metadata": {},
   "source": [
    "Extract flattened representation of upper triangular of Pearson correlation matrix for each connectome type."
   ]
  },
  {
   "cell_type": "code",
   "execution_count": 2,
   "metadata": {},
   "outputs": [
    {
     "ename": "NameError",
     "evalue": "name 'all_subjects_all_trials_connectomes' is not defined",
     "output_type": "error",
     "traceback": [
      "\u001b[0;31m---------------------------------------------------------------------------\u001b[0m",
      "\u001b[0;31mNameError\u001b[0m                                 Traceback (most recent call last)",
      "\u001b[0;32m<ipython-input-2-dadb52cc4dca>\u001b[0m in \u001b[0;36m<module>\u001b[0;34m()\u001b[0m\n\u001b[1;32m      1\u001b[0m \u001b[0;31m# NOTE: The below logic would have to change if we move away from using Desikan Atlas where the number of regions\u001b[0m\u001b[0;34m\u001b[0m\u001b[0;34m\u001b[0m\u001b[0m\n\u001b[1;32m      2\u001b[0m \u001b[0;31m# are the same between EEG and fMRI\u001b[0m\u001b[0;34m\u001b[0m\u001b[0;34m\u001b[0m\u001b[0m\n\u001b[0;32m----> 3\u001b[0;31m \u001b[0mnum_regions\u001b[0m \u001b[0;34m=\u001b[0m \u001b[0mall_subjects_all_trials_connectomes\u001b[0m\u001b[0;34m[\u001b[0m\u001b[0;34m'fmri'\u001b[0m\u001b[0;34m]\u001b[0m\u001b[0;34m.\u001b[0m\u001b[0mshape\u001b[0m\u001b[0;34m[\u001b[0m\u001b[0;36m1\u001b[0m\u001b[0;34m]\u001b[0m\u001b[0;34m\u001b[0m\u001b[0m\n\u001b[0m\u001b[1;32m      4\u001b[0m \u001b[0mnum_regions\u001b[0m\u001b[0;34m\u001b[0m\u001b[0m\n",
      "\u001b[0;31mNameError\u001b[0m: name 'all_subjects_all_trials_connectomes' is not defined"
     ]
    }
   ],
   "source": [
    "# NOTE: The below logic would have to change if we move away from using Desikan Atlas where the number of regions \n",
    "# are the same between EEG and fMRI\n",
    "num_regions = all_subjects_all_trials_connectomes['fmri'].shape[1]\n",
    "num_regions"
   ]
  },
  {
   "cell_type": "code",
   "execution_count": 3,
   "metadata": {},
   "outputs": [
    {
     "ename": "NameError",
     "evalue": "name 'np' is not defined",
     "output_type": "error",
     "traceback": [
      "\u001b[0;31m---------------------------------------------------------------------------\u001b[0m",
      "\u001b[0;31mNameError\u001b[0m                                 Traceback (most recent call last)",
      "\u001b[0;32m<ipython-input-3-4b1dd9161bc9>\u001b[0m in \u001b[0;36m<module>\u001b[0;34m()\u001b[0m\n\u001b[0;32m----> 1\u001b[0;31m \u001b[0mupper_triangular_including_diagonal_idxs\u001b[0m \u001b[0;34m=\u001b[0m \u001b[0mnp\u001b[0m\u001b[0;34m.\u001b[0m\u001b[0mtriu_indices\u001b[0m\u001b[0;34m(\u001b[0m\u001b[0mnum_regions\u001b[0m\u001b[0;34m,\u001b[0m \u001b[0mk\u001b[0m\u001b[0;34m=\u001b[0m\u001b[0;36m0\u001b[0m\u001b[0;34m)\u001b[0m\u001b[0;34m\u001b[0m\u001b[0m\n\u001b[0m\u001b[1;32m      2\u001b[0m \u001b[0mlower_triangular_idxs\u001b[0m \u001b[0;34m=\u001b[0m \u001b[0mnp\u001b[0m\u001b[0;34m.\u001b[0m\u001b[0mtril_indices\u001b[0m\u001b[0;34m(\u001b[0m\u001b[0mnum_regions\u001b[0m\u001b[0;34m,\u001b[0m \u001b[0mk\u001b[0m\u001b[0;34m=\u001b[0m\u001b[0;34m-\u001b[0m\u001b[0;36m1\u001b[0m\u001b[0;34m)\u001b[0m\u001b[0;34m\u001b[0m\u001b[0m\n",
      "\u001b[0;31mNameError\u001b[0m: name 'np' is not defined"
     ]
    }
   ],
   "source": [
    "upper_triangular_including_diagonal_idxs = np.triu_indices(num_regions, k=0)\n",
    "lower_triangular_idxs = np.tril_indices(num_regions, k=-1)"
   ]
  },
  {
   "cell_type": "code",
   "execution_count": 4,
   "metadata": {},
   "outputs": [
    {
     "ename": "NameError",
     "evalue": "name 'copy' is not defined",
     "output_type": "error",
     "traceback": [
      "\u001b[0;31m---------------------------------------------------------------------------\u001b[0m",
      "\u001b[0;31mNameError\u001b[0m                                 Traceback (most recent call last)",
      "\u001b[0;32m<ipython-input-4-1eb7cf562e56>\u001b[0m in \u001b[0;36m<module>\u001b[0;34m()\u001b[0m\n\u001b[0;32m----> 1\u001b[0;31m \u001b[0mall_subjects_all_trials_connectome_upper_triangular_flattened\u001b[0m \u001b[0;34m=\u001b[0m \u001b[0mcopy\u001b[0m\u001b[0;34m.\u001b[0m\u001b[0mdeepcopy\u001b[0m\u001b[0;34m(\u001b[0m\u001b[0mall_subjects_all_trials_connectomes\u001b[0m\u001b[0;34m)\u001b[0m\u001b[0;34m\u001b[0m\u001b[0m\n\u001b[0m\u001b[1;32m      2\u001b[0m \u001b[0;32mfor\u001b[0m \u001b[0mk\u001b[0m \u001b[0;32min\u001b[0m \u001b[0mall_subjects_all_trials_connectome_upper_triangular_flattened\u001b[0m\u001b[0;34m:\u001b[0m\u001b[0;34m\u001b[0m\u001b[0m\n\u001b[1;32m      3\u001b[0m     \u001b[0mall_subjects_all_trials_connectome_upper_triangular_flattened\u001b[0m\u001b[0;34m[\u001b[0m\u001b[0mk\u001b[0m\u001b[0;34m]\u001b[0m \u001b[0;34m=\u001b[0m \u001b[0mnp\u001b[0m\u001b[0;34m.\u001b[0m\u001b[0marray\u001b[0m\u001b[0;34m(\u001b[0m\u001b[0;34m[\u001b[0m\u001b[0mc\u001b[0m\u001b[0;34m[\u001b[0m\u001b[0mupper_triangular_including_diagonal_idxs\u001b[0m\u001b[0;34m]\u001b[0m\u001b[0;34m.\u001b[0m\u001b[0mflatten\u001b[0m\u001b[0;34m(\u001b[0m\u001b[0;34m)\u001b[0m \u001b[0;32mfor\u001b[0m \u001b[0mc\u001b[0m \u001b[0;32min\u001b[0m \u001b[0mall_subjects_all_trials_connectomes\u001b[0m\u001b[0;34m[\u001b[0m\u001b[0mk\u001b[0m\u001b[0;34m]\u001b[0m\u001b[0;34m]\u001b[0m\u001b[0;34m)\u001b[0m\u001b[0;34m\u001b[0m\u001b[0m\n",
      "\u001b[0;31mNameError\u001b[0m: name 'copy' is not defined"
     ]
    }
   ],
   "source": [
    "all_subjects_all_trials_connectome_upper_triangular_flattened = copy.deepcopy(all_subjects_all_trials_connectomes)\n",
    "for k in all_subjects_all_trials_connectome_upper_triangular_flattened:\n",
    "    all_subjects_all_trials_connectome_upper_triangular_flattened[k] = np.array([c[upper_triangular_including_diagonal_idxs].flatten() for c in all_subjects_all_trials_connectomes[k]])"
   ]
  },
  {
   "cell_type": "code",
   "execution_count": null,
   "metadata": {},
   "outputs": [],
   "source": [
    "all_subjects_all_trials_connectome_upper_triangular_flattened['fmri'].shape"
   ]
  },
  {
   "cell_type": "markdown",
   "metadata": {},
   "source": [
    "## Principal Component Analysis"
   ]
  },
  {
   "cell_type": "markdown",
   "metadata": {},
   "source": [
    "Compute principal components of every connectome time series individually."
   ]
  },
  {
   "cell_type": "code",
   "execution_count": null,
   "metadata": {},
   "outputs": [],
   "source": [
    "n_components = 10\n",
    "pca_models = [PCA(n_components=n_components).fit(all_subjects_all_trials_connectome_upper_triangular_flattened[k]) for k in all_subjects_all_trials_connectome_upper_triangular_flattened]"
   ]
  },
  {
   "cell_type": "markdown",
   "metadata": {},
   "source": [
    "Plot variance explained ratio for each connectome type."
   ]
  },
  {
   "cell_type": "code",
   "execution_count": null,
   "metadata": {},
   "outputs": [],
   "source": [
    "fig = plt.figure(figsize=(30, 5))\n",
    "fig.suptitle('Total Variance Explained w/ ' + str(n_components) + ' Components')\n",
    "\n",
    "subplot_idx = 1\n",
    "for (k, pca_model) in zip(all_subjects_all_trials_connectome_upper_triangular_flattened, pca_models):\n",
    "    fig.add_subplot(1, len(pca_models), subplot_idx)\n",
    "    plt.plot(pca_model.explained_variance_ratio_)\n",
    "    plt.title(\"{0} - {1:.2f}%\".format(k, 100*sum(pca_model.explained_variance_ratio_)))\n",
    "    subplot_idx += 1    \n",
    "\n",
    "plt.savefig('output/principal_component_analysis/variance_explained.png')\n",
    "fig.close()"
   ]
  },
  {
   "cell_type": "markdown",
   "metadata": {},
   "source": [
    "Plot spatial representation of each principal component in connectome space."
   ]
  },
  {
   "cell_type": "code",
   "execution_count": 1,
   "metadata": {},
   "outputs": [
    {
     "ename": "NameError",
     "evalue": "name 'pca_models' is not defined",
     "output_type": "error",
     "traceback": [
      "\u001b[0;31m---------------------------------------------------------------------------\u001b[0m",
      "\u001b[0;31mNameError\u001b[0m                                 Traceback (most recent call last)",
      "\u001b[0;32m<ipython-input-1-baddab527e80>\u001b[0m in \u001b[0;36m<module>\u001b[0;34m()\u001b[0m\n\u001b[0;32m----> 1\u001b[0;31m \u001b[0mpca_models\u001b[0m\u001b[0;34m[\u001b[0m\u001b[0;36m0\u001b[0m\u001b[0;34m]\u001b[0m\u001b[0;34m.\u001b[0m\u001b[0mcomponents_\u001b[0m\u001b[0;34m.\u001b[0m\u001b[0mshape\u001b[0m\u001b[0;34m\u001b[0m\u001b[0m\n\u001b[0m",
      "\u001b[0;31mNameError\u001b[0m: name 'pca_models' is not defined"
     ]
    }
   ],
   "source": [
    "pca_models[0].components_.shape"
   ]
  },
  {
   "cell_type": "code",
   "execution_count": null,
   "metadata": {},
   "outputs": [],
   "source": [
    "fig = plt.figure(figsize=(180, 60))\n",
    "fig.suptitle('Spatial Loadings of Principal Components', fontsize=40)\n",
    "\n",
    "subplot_idx = 1\n",
    "for (k, pca_model) in zip(all_subjects_all_trials_connectome_upper_triangular_flattened, pca_models):\n",
    "    for component_idx in range(0, n_components):\n",
    "        \n",
    "        # Extract connectome representation of the principal component\n",
    "        pc = np.zeros((num_regions, num_regions))\n",
    "        pc[upper_triangular_including_diagonal_idxs] = pca_model.components_[component_idx]\n",
    "        pc[lower_triangular_idxs] = pc.T[lower_triangular_idxs]\n",
    "\n",
    "        # Plot connectome representation of the principal component\n",
    "        ax = fig.add_subplot(len(pca_models), n_components, subplot_idx)\n",
    "        plotting.plot_connectome(pc, desikan_atlas_coordinates(), title='{0} PC{1} Connectome'.format(k, component_idx+1),\n",
    "                                 edge_threshold='95%', node_size=20, colorbar=True, axes=ax)\n",
    "        subplot_idx += 1\n",
    "\n",
    "plt.savefig('output/principal_component_analysis/spatial_loadings.png')\n",
    "fig.close()"
   ]
  },
  {
   "cell_type": "markdown",
   "metadata": {},
   "source": [
    "Plot correlation of principal component with connectome through time."
   ]
  },
  {
   "cell_type": "code",
   "execution_count": null,
   "metadata": {},
   "outputs": [],
   "source": [
    "def add_arrow(line, position=None, direction='right', size=15, color=None):\n",
    "    \"\"\"\n",
    "    add an arrow to a line.\n",
    "\n",
    "    line:       Line2D object\n",
    "    position:   x-position of the arrow. If None, mean of xdata is taken\n",
    "    direction:  'left' or 'right'\n",
    "    size:       size of the arrow in fontsize points\n",
    "    color:      if None, line color is taken.\n",
    "    \"\"\"\n",
    "    if color is None:\n",
    "        color = line.get_color()\n",
    "\n",
    "    xdata = line.get_xdata()\n",
    "    ydata = line.get_ydata()\n",
    "\n",
    "    if position is None:\n",
    "        position = xdata.mean()\n",
    "    # find closest index\n",
    "    start_ind = np.argmin(np.absolute(xdata - position))\n",
    "    if direction == 'right':\n",
    "        end_ind = start_ind + 1\n",
    "    else:\n",
    "        end_ind = start_ind - 1\n",
    "\n",
    "    line.axes.annotate('',\n",
    "        xytext=(xdata[start_ind], ydata[start_ind]),\n",
    "        xy=(xdata[end_ind], ydata[end_ind]),\n",
    "        arrowprops=dict(arrowstyle=\"->\", color=color),\n",
    "        size=size\n",
    "    )"
   ]
  },
  {
   "cell_type": "code",
   "execution_count": null,
   "metadata": {},
   "outputs": [],
   "source": [
    "fig = plt.figure(figsize=(300, 300))\n",
    "fig.suptitle('Low-Dimensional Manifold Traversed by Brain State', fontsize=60)\n",
    "\n",
    "subplot_idx = 1\n",
    "for (k, pca_model) in zip(all_subjects_all_trials_connectome_upper_triangular_flattened, pca_models):\n",
    "    \n",
    "    correlation_timeseries_for_first_three_pcs = []\n",
    "    \n",
    "    # Gather correlation timeseries for the first 3 principal components\n",
    "    for component_idx in range(0, 3):\n",
    "        \n",
    "        # Compute correlation between pc and connectome timeseries\n",
    "        pc = pca_model.components_[component_idx]\n",
    "        connectome_timeseries = all_subjects_all_trials_connectome_upper_triangular_flattened[k]\n",
    "        \n",
    "        correlation_between_pc_and_connectome_timeseries = [np.corrcoef(pc, time_pt)[0, 1] for time_pt in connectome_timeseries]\n",
    "        correlation_timeseries_for_first_three_pcs.append(correlation_between_pc_and_connectome_timeseries)\n",
    "        \n",
    "    # Cluster time series\n",
    "    time_series_data = np.array(correlation_timeseries_for_first_three_pcs)\n",
    "    time = np.arange(0, 3*time_series_data[0].shape[0], step=3)\n",
    "    time_series_data_including_time = np.vstack((time_series_data, time)).T\n",
    "    clustered_correlation_timeseries_for_first_three_pcs = KMeans(n_clusters=30).fit(time_series_data_including_time)\n",
    "    time_ordered_cluster_centers = clustered_correlation_timeseries_for_first_three_pcs.cluster_centers_\n",
    "    time_ordered_cluster_centers = time_ordered_cluster_centers[time_ordered_cluster_centers[:, 3].argsort()]\n",
    "    \n",
    "    ax = fig.add_subplot(len(pca_models), 5, subplot_idx, projection='3d')\n",
    "    lines = ax.plot(time_ordered_cluster_centers[:, 0],\n",
    "                    time_ordered_cluster_centers[:, 1],\n",
    "                    time_ordered_cluster_centers[:, 2],\n",
    "                    c='black',\n",
    "                    alpha=0.5,\n",
    "                    linewidth=3.0)\n",
    "    for line in lines:\n",
    "        add_arrow(line, color='black', size=15)\n",
    "        \n",
    "    ax.scatter(time_ordered_cluster_centers[:, 0],\n",
    "               time_ordered_cluster_centers[:, 1],\n",
    "               time_ordered_cluster_centers[:, 2],\n",
    "               c=np.arange(len(clustered_correlation_timeseries_for_first_three_pcs.cluster_centers_[:, 0])), \n",
    "               alpha=1.0,\n",
    "               cmap='YlGnBu',\n",
    "               marker='o',\n",
    "               s=400)\n",
    "    ax.set_xlabel('PC1', fontsize=20)\n",
    "    ax.set_ylabel('PC2', fontsize=20)\n",
    "    ax.set_zlabel('PC3', fontsize=20)\n",
    "    ax.set_title(k+\" Clustered (Time+Space) Low-Dimensional Manifold\", fontsize=30)\n",
    "    subplot_idx += 1\n",
    "    \n",
    "    # Plot correlation timeseries for first 3 PCs in a 3d scatterplot\n",
    "    ax = fig.add_subplot(len(pca_models), 5, subplot_idx, projection='3d')\n",
    "    ax.plot(correlation_timeseries_for_first_three_pcs[0],\n",
    "            correlation_timeseries_for_first_three_pcs[1],\n",
    "            correlation_timeseries_for_first_three_pcs[2],\n",
    "            c='black',\n",
    "            alpha=0.2,\n",
    "            linewidth=0.5)\n",
    "    ax.scatter(correlation_timeseries_for_first_three_pcs[0],\n",
    "               correlation_timeseries_for_first_three_pcs[1],\n",
    "               correlation_timeseries_for_first_three_pcs[2],\n",
    "               c=np.arange(len(correlation_timeseries_for_first_three_pcs[0])), \n",
    "               alpha=0.5,\n",
    "               cmap='YlGnBu',\n",
    "               marker='o')\n",
    "    ax.set_xlabel('PC1', fontsize=20)\n",
    "    ax.set_ylabel('PC2', fontsize=20)\n",
    "    ax.set_zlabel('PC3', fontsize=20)\n",
    "    ax.set_title(k+\" Low Dimensional Manifold\", fontsize=30)\n",
    "    subplot_idx += 1\n",
    "    \n",
    "    # Plot correlation timeseries for each PC separately\n",
    "    cm = plt.get_cmap('YlGnBu') \n",
    "    cNorm = colors.Normalize(vmin=0, vmax=len(correlation_timeseries_for_first_three_pcs[0]))\n",
    "    scalarMap = cmx.ScalarMappable(norm=cNorm, cmap=cm)\n",
    "    colorVals = scalarMap.to_rgba(np.arange(len(correlation_timeseries_for_first_three_pcs[0])))\n",
    "    \n",
    "    ax = fig.add_subplot(len(pca_models), 5, subplot_idx)\n",
    "    ax.plot(correlation_timeseries_for_first_three_pcs[0])#, color=colorVals)\n",
    "    ax.set_xlabel('Time', fontsize=20)\n",
    "    ax.set_ylabel('PC1 Correlation', fontsize=20)\n",
    "    ax.set_title(\"{0} PC1\".format(k), fontsize=30)\n",
    "    subplot_idx += 1\n",
    "    \n",
    "    ax = fig.add_subplot(len(pca_models), 5, subplot_idx)\n",
    "    ax.plot(correlation_timeseries_for_first_three_pcs[1])#, color=colorVals)\n",
    "    ax.set_xlabel('Time', fontsize=20)    \n",
    "    ax.set_ylabel('PC2 Correlation', fontsize=20)\n",
    "    ax.set_title(\"{0} PC2\".format(k), fontsize=30)\n",
    "    subplot_idx += 1\n",
    "    \n",
    "    ax = fig.add_subplot(len(pca_models), 5, subplot_idx)\n",
    "    ax.plot(correlation_timeseries_for_first_three_pcs[1])#, color=colorVals)\n",
    "    ax.set_xlabel('Time', fontsize=20)\n",
    "    ax.set_ylabel('PC3 Correlation', fontsize=20)\n",
    "    ax.set_title(\"{0} PC3\".format(k), fontsize=30)\n",
    "    subplot_idx += 1\n",
    "\n",
    "plt.savefig('output/principal_component_analysis/low_dimensional_manifold_traversal.png')\n",
    "fig.close()"
   ]
  },
  {
   "cell_type": "markdown",
   "metadata": {},
   "source": [
    "Compute correlations between correlation timeseries of PCs of different modalities."
   ]
  },
  {
   "cell_type": "code",
   "execution_count": null,
   "metadata": {},
   "outputs": [],
   "source": [
    "correlations_between_pcs_of_different_modalities = {}\n",
    "\n",
    "for (k_a, pca_model_a) in zip(all_subjects_all_trials_connectome_upper_triangular_flattened, pca_models):\n",
    "    for (k_b, pca_model_b) in zip(all_subjects_all_trials_connectome_upper_triangular_flattened, pca_models):\n",
    "        for a_i in range(0, 3):\n",
    "            for b_j in range(0, 3):\n",
    "                \n",
    "                # Extract PC i from modality a and PC j from modality b\n",
    "                component_i = pca_model_a.components_[a_i]\n",
    "                component_j = pca_model_b.components_[b_j]\n",
    "                \n",
    "                # Compute correlation timeseries of PC i in modality a and PC j in modality b\n",
    "                connectome_timeseries_a = all_subjects_all_trials_connectome_upper_triangular_flattened[k_a]\n",
    "                connectome_timeseries_b = all_subjects_all_trials_connectome_upper_triangular_flattened[k_b]\n",
    "                \n",
    "                correlation_timeseries_for_component_i_in_a = [np.corrcoef(component_i, time_pt)[0, 1] for time_pt in connectome_timeseries_a]\n",
    "                correlation_timeseries_for_component_j_in_b = [np.corrcoef(component_j, time_pt)[0, 1] for time_pt in connectome_timeseries_b]\n",
    "\n",
    "                # Compute correlation between correlation timeseries\n",
    "                corr = np.corrcoef(correlation_timeseries_for_component_i_in_a, correlation_timeseries_for_component_j_in_b)[0, 1]                \n",
    "                correlations_between_pcs_of_different_modalities[\"{0}-{1} <-> {2}-{3}\".format(k_a, a_i, k_b, b_j)] = corr\n",
    "                print(\"{0}-{1} <-> {2}-{3} = {4}\".format(k_a, a_i, k_b, b_j, corr))"
   ]
  },
  {
   "cell_type": "code",
   "execution_count": null,
   "metadata": {},
   "outputs": [],
   "source": [
    "labels = [\"{0}-{1}\".format(k, i) for k in all_subjects_all_trials_connectome_upper_triangular_flattened for i in range(0, 3)]\n",
    "N = len(labels)\n",
    "cross_modality_pc_correlation_matrix = np.zeros((N, N))\n",
    "for i in range(N):\n",
    "    for j in range(N):\n",
    "        lookup_key = \"{0} <-> {1}\".format(labels[i], labels[j])\n",
    "        cross_modality_pc_correlation_matrix[i][j] = correlations_between_pcs_of_different_modalities[lookup_key]"
   ]
  },
  {
   "cell_type": "code",
   "execution_count": null,
   "metadata": {},
   "outputs": [],
   "source": [
    "f = plt.figure(figsize=(15, 10))\n",
    "\n",
    "plt.imshow(cross_modality_pc_correlation_matrix, cmap='gist_heat')\n",
    "plt.title(\"Cross Modality Correlations of Principal Component Correlation Timeseries\").set_position([.5, 1.3])\n",
    "plt.axes().xaxis.set_ticks_position('top')\n",
    "plt.xticks(range(len(labels)), labels, rotation='vertical')\n",
    "plt.yticks(range(len(labels)), labels)\n",
    "plt.colorbar()\n",
    "\n",
    "f.savefig('output/principal_component_analysis/cross_modality_correlations_of_pc_timeseries.png')\n",
    "plt.close()"
   ]
  }
 ],
 "metadata": {
  "kernelspec": {
   "display_name": "Python 3",
   "language": "python",
   "name": "python3"
  },
  "language_info": {
   "codemirror_mode": {
    "name": "ipython",
    "version": 3
   },
   "file_extension": ".py",
   "mimetype": "text/x-python",
   "name": "python",
   "nbconvert_exporter": "python",
   "pygments_lexer": "ipython3",
   "version": "3.6.5"
  }
 },
 "nbformat": 4,
 "nbformat_minor": 1
}
