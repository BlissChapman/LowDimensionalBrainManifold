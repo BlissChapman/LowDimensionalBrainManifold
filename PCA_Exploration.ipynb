{
 "cells": [
  {
   "cell_type": "code",
   "execution_count": 18,
   "metadata": {},
   "outputs": [],
   "source": [
    "import copy\n",
    "import matplotlib.cm as cmx\n",
    "import matplotlib.colors as colors\n",
    "import matplotlib.patches as mpatches\n",
    "import matplotlib.pyplot as plt\n",
    "import numpy as np\n",
    "import pickle\n",
    "import utils\n",
    "\n",
    "import warnings; warnings.simplefilter('ignore')\n",
    "\n",
    "from atlases import DesikanAtlas\n",
    "from matplotlib.collections import LineCollection\n",
    "from mpl_toolkits.mplot3d import Axes3D\n",
    "from nilearn import datasets, plotting\n",
    "from sklearn.cluster import KMeans\n",
    "from sklearn.decomposition import PCA"
   ]
  },
  {
   "cell_type": "markdown",
   "metadata": {},
   "source": [
    "# Low Dimensional Connectome Dynamics"
   ]
  },
  {
   "cell_type": "markdown",
   "metadata": {},
   "source": [
    "### Prepare Data - Separate Modalities"
   ]
  },
  {
   "cell_type": "code",
   "execution_count": 2,
   "metadata": {},
   "outputs": [
    {
     "data": {
      "text/plain": [
       "(17906, 68, 68)"
      ]
     },
     "execution_count": 2,
     "metadata": {},
     "output_type": "execute_result"
    }
   ],
   "source": [
    "all_subjects_all_trials_connectomes = utils.load_connectomes(utils.ALL_SUBJECT_IDS, utils.ALL_TRIAL_IDS)\n",
    "all_subjects_all_trials_connectomes['fmri'].shape"
   ]
  },
  {
   "cell_type": "markdown",
   "metadata": {},
   "source": [
    "Extract flattened representation of upper triangular of Pearson correlation matrix for each connectome type."
   ]
  },
  {
   "cell_type": "code",
   "execution_count": 3,
   "metadata": {},
   "outputs": [
    {
     "data": {
      "text/plain": [
       "68"
      ]
     },
     "execution_count": 3,
     "metadata": {},
     "output_type": "execute_result"
    }
   ],
   "source": [
    "# NOTE: The below logic would have to change if we move away from using Desikan Atlas where the number of regions \n",
    "# are the same between EEG and fMRI\n",
    "num_regions = all_subjects_all_trials_connectomes['fmri'].shape[1]\n",
    "num_regions"
   ]
  },
  {
   "cell_type": "code",
   "execution_count": 4,
   "metadata": {},
   "outputs": [],
   "source": [
    "upper_triangular_including_diagonal_idxs = np.triu_indices(num_regions, k=0)\n",
    "lower_triangular_idxs = np.tril_indices(num_regions, k=-1)"
   ]
  },
  {
   "cell_type": "code",
   "execution_count": 5,
   "metadata": {},
   "outputs": [],
   "source": [
    "all_subjects_all_trials_connectome_upper_triangular_flattened = copy.deepcopy(all_subjects_all_trials_connectomes)\n",
    "for k in all_subjects_all_trials_connectome_upper_triangular_flattened:\n",
    "    all_subjects_all_trials_connectome_upper_triangular_flattened[k] = np.array([c[upper_triangular_including_diagonal_idxs].flatten() for c in all_subjects_all_trials_connectomes[k]])"
   ]
  },
  {
   "cell_type": "code",
   "execution_count": 6,
   "metadata": {},
   "outputs": [
    {
     "data": {
      "text/plain": [
       "(17906, 2346)"
      ]
     },
     "execution_count": 6,
     "metadata": {},
     "output_type": "execute_result"
    }
   ],
   "source": [
    "all_subjects_all_trials_connectome_upper_triangular_flattened['fmri'].shape"
   ]
  },
  {
   "cell_type": "markdown",
   "metadata": {},
   "source": [
    "### Prepare Data - Combined Modalities"
   ]
  },
  {
   "cell_type": "code",
   "execution_count": 7,
   "metadata": {},
   "outputs": [],
   "source": [
    "def data_matrix_from_channels(channels):\n",
    "    data_matrix = []\n",
    "    for k in channels:\n",
    "        data_matrix.append(all_subjects_all_trials_connectome_upper_triangular_flattened[k])\n",
    "    data_matrix = np.concatenate(data_matrix, axis=1)\n",
    "    return data_matrix"
   ]
  },
  {
   "cell_type": "code",
   "execution_count": 8,
   "metadata": {},
   "outputs": [
    {
     "data": {
      "text/plain": [
       "(17906, 14076)"
      ]
     },
     "execution_count": 8,
     "metadata": {},
     "output_type": "execute_result"
    }
   ],
   "source": [
    "fmri_alpha_beta_delta_gamma_theta_matrix = data_matrix_from_channels(['fmri', 'alpha', 'beta', 'delta', 'gamma', 'theta'])\n",
    "fmri_alpha_beta_delta_gamma_theta_matrix.shape"
   ]
  },
  {
   "cell_type": "markdown",
   "metadata": {},
   "source": [
    "### Prepare Data - Graph Statistic Timeseries"
   ]
  },
  {
   "cell_type": "code",
   "execution_count": 9,
   "metadata": {},
   "outputs": [],
   "source": [
    "brain_graph_statistics_descriptions = [\n",
    "    \"fMRI Modularity\",\n",
    "    \"Alpha-Band EEG Modularity\",\n",
    "    \"Beta-Band EEG Modularity\",\n",
    "    \"Delta-Band EEG Modularity\",\n",
    "    \"Gamma-Band EEG Modularity\",\n",
    "    \"Theta-Band EEG Modularity\",\n",
    "    \n",
    "    \"fMRI Assortativity\",\n",
    "    \"Alpha-Band EEG Assortativity\",\n",
    "    \"Beta-Band EEG Assortativity\",\n",
    "    \"Delta-Band EEG Assortativity\",\n",
    "    \"Gamma-Band EEG Assortativity\",\n",
    "    \"Theta-Band EEG Assortativity\",\n",
    "    \n",
    "    \"fMRI Global Efficiency\",\n",
    "    \"Alpha-Band EEG Global Efficiency\",\n",
    "    \"Beta-Band EEG Global Efficiency\",\n",
    "    \"Delta-Band EEG Global Efficiency\",\n",
    "    \"Gamma-Band EEG Global Efficiency\",\n",
    "    \"Theta-Band EEG Global Efficiency\",\n",
    "]"
   ]
  },
  {
   "cell_type": "code",
   "execution_count": 10,
   "metadata": {},
   "outputs": [],
   "source": [
    "brain_graph_statistics = pickle.load(open('output/hmm/graph_statistics/brain_graph_statistics_time_series.pkl', 'rb'))\n",
    "brain_graph_statistics_means = pickle.load(open('output/hmm/graph_statistics/brain_graph_statistics_means.pkl', 'rb'))\n",
    "brain_graph_statistics_vars = pickle.load(open('output/hmm/graph_statistics/brain_graph_statistics_vars.pkl', 'rb'))"
   ]
  },
  {
   "cell_type": "markdown",
   "metadata": {},
   "source": [
    "## Principal Component Analysis"
   ]
  },
  {
   "cell_type": "markdown",
   "metadata": {},
   "source": [
    "Compute principal components of every connectome time series individually."
   ]
  },
  {
   "cell_type": "code",
   "execution_count": 11,
   "metadata": {},
   "outputs": [],
   "source": [
    "n_components = 10\n",
    "pca_models = [PCA(n_components=n_components).fit(all_subjects_all_trials_connectome_upper_triangular_flattened[k]) for k in all_subjects_all_trials_connectome_upper_triangular_flattened]"
   ]
  },
  {
   "cell_type": "markdown",
   "metadata": {},
   "source": [
    "Compute principal components of the multimodal connectome time series."
   ]
  },
  {
   "cell_type": "code",
   "execution_count": 12,
   "metadata": {},
   "outputs": [],
   "source": [
    "combined_pca_model = PCA(n_components=n_components).fit(fmri_alpha_beta_delta_gamma_theta_matrix)"
   ]
  },
  {
   "cell_type": "markdown",
   "metadata": {},
   "source": [
    "Plot variance explained ratio for the PCA model of each connectome type."
   ]
  },
  {
   "cell_type": "code",
   "execution_count": 13,
   "metadata": {},
   "outputs": [],
   "source": [
    "fig = plt.figure(figsize=(30, 5))\n",
    "fig.suptitle('Total Variance Explained w/ ' + str(n_components) + ' Components')\n",
    "\n",
    "subplot_idx = 1\n",
    "for (k, pca_model) in zip(all_subjects_all_trials_connectome_upper_triangular_flattened, pca_models):\n",
    "    fig.add_subplot(1, len(pca_models), subplot_idx)\n",
    "    plt.plot(pca_model.explained_variance_ratio_)\n",
    "    plt.title(\"{0} - {1:.2f}%\".format(k, 100*sum(pca_model.explained_variance_ratio_)))\n",
    "    subplot_idx += 1    \n",
    "\n",
    "plt.savefig('output/principal_component_analysis/separate_variance_explained.png')\n",
    "plt.close()"
   ]
  },
  {
   "cell_type": "markdown",
   "metadata": {},
   "source": [
    "Plot variance explained ratio for the multimodal connectome PCA model."
   ]
  },
  {
   "cell_type": "code",
   "execution_count": 15,
   "metadata": {},
   "outputs": [],
   "source": [
    "fig = plt.figure(figsize=(7, 5))\n",
    "fig.suptitle('Total Variance Explained w/ ' + str(n_components) + ' Components')\n",
    "plt.plot(combined_pca_model.explained_variance_ratio_)\n",
    "plt.title(\"{0} - {1:.2f}%\".format(\"MultiModal\", 100*sum(combined_pca_model.explained_variance_ratio_)))\n",
    "plt.savefig('output/principal_component_analysis/combined_variance_explained.png')\n",
    "plt.close()"
   ]
  },
  {
   "cell_type": "markdown",
   "metadata": {},
   "source": [
    "Plot spatial representation of each principal component in connectome space."
   ]
  },
  {
   "cell_type": "code",
   "execution_count": 16,
   "metadata": {},
   "outputs": [
    {
     "data": {
      "text/plain": [
       "(10, 2346)"
      ]
     },
     "execution_count": 16,
     "metadata": {},
     "output_type": "execute_result"
    }
   ],
   "source": [
    "pca_models[0].components_.shape"
   ]
  },
  {
   "cell_type": "code",
   "execution_count": 21,
   "metadata": {},
   "outputs": [],
   "source": [
    "fig = plt.figure(figsize=(180, 60))\n",
    "fig.suptitle('Spatial Loadings of Principal Components', fontsize=40)\n",
    "\n",
    "subplot_idx = 1\n",
    "for (k, pca_model) in zip(all_subjects_all_trials_connectome_upper_triangular_flattened, pca_models):\n",
    "    for component_idx in range(0, n_components):\n",
    "        \n",
    "        # Extract connectome representation of the principal component\n",
    "        pc = np.zeros((num_regions, num_regions))\n",
    "        pc[upper_triangular_including_diagonal_idxs] = pca_model.components_[component_idx]\n",
    "        pc[lower_triangular_idxs] = pc.T[lower_triangular_idxs]\n",
    "\n",
    "        # Plot connectome representation of the principal component\n",
    "        ax = fig.add_subplot(len(pca_models), n_components, subplot_idx)\n",
    "        DesikanAtlas.plot(pc, title='{0} PC{1} Connectome'.format(k, component_idx+1), axes=ax)\n",
    "        subplot_idx += 1\n",
    "\n",
    "plt.savefig('output/principal_component_analysis/spatial_loadings.png')\n",
    "plt.close()"
   ]
  },
  {
   "cell_type": "markdown",
   "metadata": {},
   "source": [
    "Plot correlation of principal component with connectome through time."
   ]
  },
  {
   "cell_type": "code",
   "execution_count": 22,
   "metadata": {},
   "outputs": [],
   "source": [
    "def add_arrow(line, position=None, direction='right', size=15, color=None):\n",
    "    \"\"\"\n",
    "    add an arrow to a line.\n",
    "\n",
    "    line:       Line2D object\n",
    "    position:   x-position of the arrow. If None, mean of xdata is taken\n",
    "    direction:  'left' or 'right'\n",
    "    size:       size of the arrow in fontsize points\n",
    "    color:      if None, line color is taken.\n",
    "    \"\"\"\n",
    "    if color is None:\n",
    "        color = line.get_color()\n",
    "\n",
    "    xdata = line.get_xdata()\n",
    "    ydata = line.get_ydata()\n",
    "\n",
    "    if position is None:\n",
    "        position = xdata.mean()\n",
    "    # find closest index\n",
    "    start_ind = np.argmin(np.absolute(xdata - position))\n",
    "    if direction == 'right':\n",
    "        end_ind = start_ind + 1\n",
    "    else:\n",
    "        end_ind = start_ind - 1\n",
    "\n",
    "    line.axes.annotate('',\n",
    "        xytext=(xdata[start_ind], ydata[start_ind]),\n",
    "        xy=(xdata[end_ind], ydata[end_ind]),\n",
    "        arrowprops=dict(arrowstyle=\"->\", color=color),\n",
    "        size=size\n",
    "    )"
   ]
  },
  {
   "cell_type": "code",
   "execution_count": 24,
   "metadata": {},
   "outputs": [],
   "source": [
    "fig = plt.figure(figsize=(300, 300))\n",
    "fig.suptitle('Low-Dimensional Manifold Traversed by Brain State', fontsize=60)\n",
    "\n",
    "subplot_idx = 1\n",
    "for (k, pca_model) in zip(all_subjects_all_trials_connectome_upper_triangular_flattened, pca_models):\n",
    "    \n",
    "    correlation_timeseries_for_first_three_pcs = []\n",
    "    \n",
    "    # Gather correlation timeseries for the first 3 principal components\n",
    "    for component_idx in range(0, 3):\n",
    "        \n",
    "        # Compute correlation between pc and connectome timeseries\n",
    "        pc = pca_model.components_[component_idx]\n",
    "        connectome_timeseries = all_subjects_all_trials_connectome_upper_triangular_flattened[k]\n",
    "        \n",
    "        correlation_between_pc_and_connectome_timeseries = [np.corrcoef(pc, time_pt)[0, 1] for time_pt in connectome_timeseries]\n",
    "        correlation_timeseries_for_first_three_pcs.append(correlation_between_pc_and_connectome_timeseries)\n",
    "        \n",
    "    # Cluster time series\n",
    "    time_series_data = np.array(correlation_timeseries_for_first_three_pcs)\n",
    "    time = np.arange(0, 3*time_series_data[0].shape[0], step=3)\n",
    "    time_series_data_including_time = np.vstack((time_series_data, time)).T\n",
    "    clustered_correlation_timeseries_for_first_three_pcs = KMeans(n_clusters=30).fit(time_series_data_including_time)\n",
    "    time_ordered_cluster_centers = clustered_correlation_timeseries_for_first_three_pcs.cluster_centers_\n",
    "    time_ordered_cluster_centers = time_ordered_cluster_centers[time_ordered_cluster_centers[:, 3].argsort()]\n",
    "    \n",
    "    ax = fig.add_subplot(len(pca_models), 5, subplot_idx, projection='3d')\n",
    "    lines = ax.plot(time_ordered_cluster_centers[:, 0],\n",
    "                    time_ordered_cluster_centers[:, 1],\n",
    "                    time_ordered_cluster_centers[:, 2],\n",
    "                    c='black',\n",
    "                    alpha=0.5,\n",
    "                    linewidth=3.0)\n",
    "    for line in lines:\n",
    "        add_arrow(line, color='black', size=15)\n",
    "        \n",
    "    ax.scatter(time_ordered_cluster_centers[:, 0],\n",
    "               time_ordered_cluster_centers[:, 1],\n",
    "               time_ordered_cluster_centers[:, 2],\n",
    "               c=np.arange(len(clustered_correlation_timeseries_for_first_three_pcs.cluster_centers_[:, 0])), \n",
    "               alpha=1.0,\n",
    "               cmap='YlGnBu',\n",
    "               marker='o',\n",
    "               s=400)\n",
    "    ax.set_xlabel('PC1', fontsize=20)\n",
    "    ax.set_ylabel('PC2', fontsize=20)\n",
    "    ax.set_zlabel('PC3', fontsize=20)\n",
    "    ax.set_title(k+\" Clustered (Time+Space) Low-Dimensional Manifold\", fontsize=30)\n",
    "    subplot_idx += 1\n",
    "    \n",
    "    # Plot correlation timeseries for first 3 PCs in a 3d scatterplot\n",
    "    ax = fig.add_subplot(len(pca_models), 5, subplot_idx, projection='3d')\n",
    "    ax.plot(correlation_timeseries_for_first_three_pcs[0],\n",
    "            correlation_timeseries_for_first_three_pcs[1],\n",
    "            correlation_timeseries_for_first_three_pcs[2],\n",
    "            c='black',\n",
    "            alpha=0.2,\n",
    "            linewidth=0.5)\n",
    "    ax.scatter(correlation_timeseries_for_first_three_pcs[0],\n",
    "               correlation_timeseries_for_first_three_pcs[1],\n",
    "               correlation_timeseries_for_first_three_pcs[2],\n",
    "               c=np.arange(len(correlation_timeseries_for_first_three_pcs[0])), \n",
    "               alpha=0.5,\n",
    "               cmap='YlGnBu',\n",
    "               marker='o')\n",
    "    ax.set_xlabel('PC1', fontsize=20)\n",
    "    ax.set_ylabel('PC2', fontsize=20)\n",
    "    ax.set_zlabel('PC3', fontsize=20)\n",
    "    ax.set_title(k+\" Low Dimensional Manifold\", fontsize=30)\n",
    "    subplot_idx += 1\n",
    "    \n",
    "    # Plot correlation timeseries for each PC separately\n",
    "    cm = plt.get_cmap('YlGnBu') \n",
    "    cNorm = colors.Normalize(vmin=0, vmax=len(correlation_timeseries_for_first_three_pcs[0]))\n",
    "    scalarMap = cmx.ScalarMappable(norm=cNorm, cmap=cm)\n",
    "    colorVals = scalarMap.to_rgba(np.arange(len(correlation_timeseries_for_first_three_pcs[0])))\n",
    "    \n",
    "    ax = fig.add_subplot(len(pca_models), 5, subplot_idx)\n",
    "    ax.plot(correlation_timeseries_for_first_three_pcs[0])#, color=colorVals)\n",
    "    ax.set_xlabel('Time', fontsize=20)\n",
    "    ax.set_ylabel('PC1 Correlation', fontsize=20)\n",
    "    ax.set_title(\"{0} PC1\".format(k), fontsize=30)\n",
    "    subplot_idx += 1\n",
    "    \n",
    "    ax = fig.add_subplot(len(pca_models), 5, subplot_idx)\n",
    "    ax.plot(correlation_timeseries_for_first_three_pcs[1])#, color=colorVals)\n",
    "    ax.set_xlabel('Time', fontsize=20)    \n",
    "    ax.set_ylabel('PC2 Correlation', fontsize=20)\n",
    "    ax.set_title(\"{0} PC2\".format(k), fontsize=30)\n",
    "    subplot_idx += 1\n",
    "    \n",
    "    ax = fig.add_subplot(len(pca_models), 5, subplot_idx)\n",
    "    ax.plot(correlation_timeseries_for_first_three_pcs[1])#, color=colorVals)\n",
    "    ax.set_xlabel('Time', fontsize=20)\n",
    "    ax.set_ylabel('PC3 Correlation', fontsize=20)\n",
    "    ax.set_title(\"{0} PC3\".format(k), fontsize=30)\n",
    "    subplot_idx += 1\n",
    "\n",
    "plt.savefig('output/principal_component_analysis/low_dimensional_manifold_traversal.png')\n",
    "plt.close()"
   ]
  },
  {
   "cell_type": "markdown",
   "metadata": {},
   "source": [
    "Compute correlations between correlation timeseries of PCs of different modalities."
   ]
  },
  {
   "cell_type": "code",
   "execution_count": null,
   "metadata": {},
   "outputs": [],
   "source": [
    "correlations_between_pcs_of_different_modalities = {}\n",
    "\n",
    "for (k_a, pca_model_a) in zip(all_subjects_all_trials_connectome_upper_triangular_flattened, pca_models):\n",
    "    for (k_b, pca_model_b) in zip(all_subjects_all_trials_connectome_upper_triangular_flattened, pca_models):\n",
    "        for a_i in range(0, 3):\n",
    "            for b_j in range(0, 3):\n",
    "                \n",
    "                # Extract PC i from modality a and PC j from modality b\n",
    "                component_i = pca_model_a.components_[a_i]\n",
    "                component_j = pca_model_b.components_[b_j]\n",
    "                \n",
    "                # Compute correlation timeseries of PC i in modality a and PC j in modality b\n",
    "                connectome_timeseries_a = all_subjects_all_trials_connectome_upper_triangular_flattened[k_a]\n",
    "                connectome_timeseries_b = all_subjects_all_trials_connectome_upper_triangular_flattened[k_b]\n",
    "                \n",
    "                correlation_timeseries_for_component_i_in_a = [np.corrcoef(component_i, time_pt)[0, 1] for time_pt in connectome_timeseries_a]\n",
    "                correlation_timeseries_for_component_j_in_b = [np.corrcoef(component_j, time_pt)[0, 1] for time_pt in connectome_timeseries_b]\n",
    "\n",
    "                # Compute correlation between correlation timeseries\n",
    "                corr = np.corrcoef(correlation_timeseries_for_component_i_in_a, correlation_timeseries_for_component_j_in_b)[0, 1]                \n",
    "                correlations_between_pcs_of_different_modalities[\"{0}-{1} <-> {2}-{3}\".format(k_a, a_i, k_b, b_j)] = corr\n",
    "                print(\"{0}-{1} <-> {2}-{3} = {4}\".format(k_a, a_i, k_b, b_j, corr))"
   ]
  },
  {
   "cell_type": "code",
   "execution_count": null,
   "metadata": {},
   "outputs": [],
   "source": [
    "labels = [\"{0}-{1}\".format(k, i) for k in all_subjects_all_trials_connectome_upper_triangular_flattened for i in range(0, 3)]\n",
    "N = len(labels)\n",
    "cross_modality_pc_correlation_matrix = np.zeros((N, N))\n",
    "for i in range(N):\n",
    "    for j in range(N):\n",
    "        lookup_key = \"{0} <-> {1}\".format(labels[i], labels[j])\n",
    "        cross_modality_pc_correlation_matrix[i][j] = correlations_between_pcs_of_different_modalities[lookup_key]"
   ]
  },
  {
   "cell_type": "code",
   "execution_count": null,
   "metadata": {},
   "outputs": [],
   "source": [
    "f = plt.figure(figsize=(15, 10))\n",
    "\n",
    "plt.imshow(cross_modality_pc_correlation_matrix, cmap='gist_heat')\n",
    "plt.title(\"Cross Modality Correlations of Principal Component Correlation Timeseries\").set_position([.5, 1.3])\n",
    "plt.axes().xaxis.set_ticks_position('top')\n",
    "plt.xticks(range(len(labels)), labels, rotation='vertical')\n",
    "plt.yticks(range(len(labels)), labels)\n",
    "plt.colorbar()\n",
    "\n",
    "f.savefig('output/principal_component_analysis/cross_modality_correlations_of_pc_timeseries.png')\n",
    "plt.close()"
   ]
  },
  {
   "cell_type": "markdown",
   "metadata": {},
   "source": [
    "## Multimodal Low Dimensional Brain Manifold Characterized By Graph Statistics"
   ]
  },
  {
   "cell_type": "code",
   "execution_count": 25,
   "metadata": {},
   "outputs": [
    {
     "data": {
      "text/plain": [
       "(17906, 14076)"
      ]
     },
     "execution_count": 25,
     "metadata": {},
     "output_type": "execute_result"
    }
   ],
   "source": [
    "fmri_alpha_beta_delta_gamma_theta_matrix.shape"
   ]
  },
  {
   "cell_type": "code",
   "execution_count": 26,
   "metadata": {},
   "outputs": [
    {
     "data": {
      "text/plain": [
       "(17906, 18)"
      ]
     },
     "execution_count": 26,
     "metadata": {},
     "output_type": "execute_result"
    }
   ],
   "source": [
    "brain_graph_statistics.shape"
   ]
  },
  {
   "cell_type": "code",
   "execution_count": 27,
   "metadata": {},
   "outputs": [
    {
     "data": {
      "text/plain": [
       "['fMRI Modularity',\n",
       " 'Alpha-Band EEG Modularity',\n",
       " 'Beta-Band EEG Modularity',\n",
       " 'Delta-Band EEG Modularity',\n",
       " 'Gamma-Band EEG Modularity',\n",
       " 'Theta-Band EEG Modularity',\n",
       " 'fMRI Assortativity',\n",
       " 'Alpha-Band EEG Assortativity',\n",
       " 'Beta-Band EEG Assortativity',\n",
       " 'Delta-Band EEG Assortativity',\n",
       " 'Gamma-Band EEG Assortativity',\n",
       " 'Theta-Band EEG Assortativity',\n",
       " 'fMRI Global Efficiency',\n",
       " 'Alpha-Band EEG Global Efficiency',\n",
       " 'Beta-Band EEG Global Efficiency',\n",
       " 'Delta-Band EEG Global Efficiency',\n",
       " 'Gamma-Band EEG Global Efficiency',\n",
       " 'Theta-Band EEG Global Efficiency']"
      ]
     },
     "execution_count": 27,
     "metadata": {},
     "output_type": "execute_result"
    }
   ],
   "source": [
    "brain_graph_statistics_descriptions"
   ]
  },
  {
   "cell_type": "code",
   "execution_count": 29,
   "metadata": {},
   "outputs": [
    {
     "data": {
      "text/plain": [
       "(10, 14076)"
      ]
     },
     "execution_count": 29,
     "metadata": {},
     "output_type": "execute_result"
    }
   ],
   "source": [
    "combined_pca_model.components_.shape"
   ]
  },
  {
   "cell_type": "code",
   "execution_count": 30,
   "metadata": {},
   "outputs": [],
   "source": [
    "fig = plt.figure(figsize=(300, 210))\n",
    "fig.suptitle('Low-Dimensional Manifold Traversed by Multimodal Brain State\\ncreated by Bliss and Salina', fontsize=300, fontweight='bold')\n",
    "\n",
    "# Gather correlation timeseries for the first 3 principal components\n",
    "correlation_timeseries_for_first_three_pcs = []\n",
    "for component_idx in range(0, 3):\n",
    "\n",
    "    # Compute correlation between pc and connectome timeseries\n",
    "    pc = combined_pca_model.components_[component_idx]\n",
    "    correlation_between_pc_and_connectome_timeseries = [np.corrcoef(pc, time_pt)[0, 1] for time_pt in fmri_alpha_beta_delta_gamma_theta_matrix]\n",
    "    correlation_timeseries_for_first_three_pcs.append(correlation_between_pc_and_connectome_timeseries)\n",
    "\n",
    "# Cluster time series\n",
    "num_clusters = 20\n",
    "time_series_data = np.array(correlation_timeseries_for_first_three_pcs)\n",
    "time = np.arange(0, 3*time_series_data[0].shape[0], step=3)\n",
    "time_series_data_including_time = np.vstack((time_series_data, time)).T\n",
    "clustered_correlation_timeseries_for_first_three_pcs = KMeans(n_clusters=num_clusters).fit(time_series_data_including_time)\n",
    "time_ordered_cluster_centers = clustered_correlation_timeseries_for_first_three_pcs.cluster_centers_\n",
    "time_ordered_cluster_centers = time_ordered_cluster_centers[time_ordered_cluster_centers[:, 3].argsort()]\n",
    "\n",
    "ax = fig.add_subplot(111, projection='3d')\n",
    "\n",
    "# Plot surface\n",
    "ax.plot_trisurf(time_ordered_cluster_centers[:, 0],\n",
    "                time_ordered_cluster_centers[:, 1],\n",
    "                time_ordered_cluster_centers[:, 2], \n",
    "                cmap='gray', \n",
    "                alpha=0.2)\n",
    "\n",
    "# Plot time lines\n",
    "points = time_ordered_cluster_centers[:, :-1].reshape(-1, 1, 3)\n",
    "segments = np.concatenate([points[:-1], points[1:]], axis=1)\n",
    "\n",
    "cm = plt.get_cmap('YlGnBu') \n",
    "colors=[cm(float(i)/(num_clusters-1)) for i in range(num_clusters-1)]\n",
    "\n",
    "for i in range(num_clusters-1):\n",
    "    segment = segments[i]\n",
    "    line, = ax.plot(segment[:, 0],\n",
    "                   segment[:, 1],\n",
    "                   segment[:, 2],\n",
    "                   color=colors[i],\n",
    "                   alpha=1.0,\n",
    "                   linewidth=8.0)\n",
    "    line.set_solid_capstyle('round')\n",
    "#     add_arrow(line, color=colors[i], size=20)\n",
    "\n",
    "# Compute z score of each statistic type for each label\n",
    "brain_graph_statistics_per_cluster = []\n",
    "for cluster in range(num_clusters):\n",
    "    statistics_of_points_in_cluster = brain_graph_statistics[clustered_correlation_timeseries_for_first_three_pcs.labels_ == cluster]\n",
    "    mean_of_statistics_of_points_in_cluster = np.mean(statistics_of_points_in_cluster, axis=0)\n",
    "    z_of_statistics_of_points_in_cluster = (mean_of_statistics_of_points_in_cluster - brain_graph_statistics_means) / np.sqrt(brain_graph_statistics_vars)\n",
    "    brain_graph_statistics_per_cluster.append(z_of_statistics_of_points_in_cluster)\n",
    "\n",
    "\n",
    "def calculate_arc_points(start,end):\n",
    "    x = [0] + np.cos(np.linspace(start, end, 10)).tolist()\n",
    "    y = [0] + np.sin(np.linspace(start, end, 10)).tolist()\n",
    "    xy1 = np.column_stack([x, y])\n",
    "    s1 = np.abs(xy1).max()\n",
    "    return xy1, s1\n",
    "\n",
    "cm = plt.get_cmap('gist_ncar') \n",
    "stat_colors = [cm(float(k)/(num_clusters-1)) for k in range(len(brain_graph_statistics_per_cluster))]\n",
    "\n",
    "for i in range(time_ordered_cluster_centers.shape[0]):\n",
    "    x = time_ordered_cluster_centers[i,0]\n",
    "    y = time_ordered_cluster_centers[i,1]\n",
    "    z = time_ordered_cluster_centers[i,2]\n",
    "    cluster_stats = brain_graph_statistics_per_cluster[i]\n",
    "        \n",
    "    prev_r = 0\n",
    "    \n",
    "    for j in range(cluster_stats.shape[0]):\n",
    "        r = 2 * np.pi * (j+1)/cluster_stats.shape[0]\n",
    "        xy, s = calculate_arc_points(prev_r, r)\n",
    "        prev_r = r\n",
    "        \n",
    "        scale = 35000\n",
    "        size = scale + (scale)*abs(cluster_stats[j])\n",
    "        \n",
    "        alpha = max(0.5, min(1, abs(cluster_stats[j])))\n",
    "        ax.scatter(x, y, z, marker=xy, s=s ** 2 * size, facecolor=stat_colors[j], alpha=alpha)\n",
    "\n",
    "ax.set_xlabel('PC1', fontsize=50)\n",
    "ax.set_ylabel('PC2', fontsize=50)\n",
    "ax.set_zlabel('PC3', fontsize=50)\n",
    "\n",
    "ax.set_xticks([])\n",
    "ax.set_yticks([])\n",
    "ax.set_zticks([])\n",
    "\n",
    "ax.set_facecolor('black')\n",
    "\n",
    "ax.grid(False)\n",
    "ax.xaxis.pane.fill = False\n",
    "ax.yaxis.pane.fill = False\n",
    "ax.zaxis.pane.fill = False\n",
    "\n",
    "ax.xaxis.pane.set_edgecolor('black')\n",
    "ax.yaxis.pane.set_edgecolor('black')\n",
    "ax.zaxis.pane.set_edgecolor('black')\n",
    "\n",
    "handles = []\n",
    "for c, desc in zip(stat_colors, brain_graph_statistics_descriptions):\n",
    "    handles.append(mpatches.Patch(color=c, label=desc))\n",
    "ax.legend(handles=handles, loc='lower left', fontsize=65)\n",
    "\n",
    "plt.savefig('output/principal_component_analysis/multi_modal_low_dimensional_manifold_traversal.png')\n",
    "plt.close()"
   ]
  },
  {
   "cell_type": "markdown",
   "metadata": {},
   "source": [
    "Plot brain graph statistics per cluster in a more readable (albeit less artistic) format."
   ]
  },
  {
   "cell_type": "code",
   "execution_count": 31,
   "metadata": {},
   "outputs": [],
   "source": [
    "f = plt.figure(figsize=(10*len(brain_graph_statistics_per_cluster), 20))\n",
    "f.suptitle('Brain Graph Statistic - Cluster Analysis')\n",
    "subplot_idx = 1\n",
    "\n",
    "for i in range(len(brain_graph_statistics_per_cluster)):\n",
    "\n",
    "    cluster_z_scored_stats = brain_graph_statistics_per_cluster[i]\n",
    "\n",
    "    f.add_subplot(1, len(brain_graph_statistics_per_cluster), subplot_idx)\n",
    "    x = 0\n",
    "    for z_scored_stat in cluster_z_scored_stats:\n",
    "        plt.bar(x, z_scored_stat, align='center', width=0.7, color='blue' if z_scored_stat > 0 else 'red')\n",
    "        x += 1\n",
    "    plt.ylim([-1.96, 1.96])\n",
    "    plt.ylabel(\"Z-Score of Statistic in Cluster Compared to Overall Timeseries\")\n",
    "    plt.title(\"Cluster {0}\".format(i))\n",
    "    plt.xticks(range(len(brain_graph_statistics_descriptions)), brain_graph_statistics_descriptions, rotation='vertical')\n",
    "    subplot_idx += 1\n",
    "\n",
    "plt.subplots_adjust(hspace=0.5)\n",
    "f.savefig('output/principal_component_analysis/multi_modal_low_dimensional_manifold_traversal_cluster_analysis.png')\n",
    "plt.close()"
   ]
  }
 ],
 "metadata": {
  "kernelspec": {
   "display_name": "Python 3",
   "language": "python",
   "name": "python3"
  },
  "language_info": {
   "codemirror_mode": {
    "name": "ipython",
    "version": 3
   },
   "file_extension": ".py",
   "mimetype": "text/x-python",
   "name": "python",
   "nbconvert_exporter": "python",
   "pygments_lexer": "ipython3",
   "version": "3.6.5"
  }
 },
 "nbformat": 4,
 "nbformat_minor": 1
}
