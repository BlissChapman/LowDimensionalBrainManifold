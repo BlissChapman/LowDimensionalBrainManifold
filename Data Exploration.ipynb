{
 "cells": [
  {
   "cell_type": "code",
   "execution_count": 1,
   "metadata": {},
   "outputs": [],
   "source": [
    "import glob\n",
    "import matplotlib.pyplot as plt\n",
    "import numpy as np\n",
    "import os\n",
    "import scipy.io\n",
    "\n",
    "import warnings; warnings.simplefilter('ignore')\n",
    "\n",
    "from nilearn import datasets, plotting\n",
    "from sklearn.covariance import GraphLassoCV\n",
    "from sklearn.decomposition import PCA"
   ]
  },
  {
   "cell_type": "markdown",
   "metadata": {},
   "source": [
    "# Utilities"
   ]
  },
  {
   "cell_type": "code",
   "execution_count": 2,
   "metadata": {},
   "outputs": [],
   "source": [
    "# Coordinates derived from brainGraph R package\n",
    "def desikan_atlas_coordinates():\n",
    "    desikan_x_coords = [-56,-2,-45,-1,-16,-24,-47,-56,-1,-43,-35.98,-3,-4,-68,-18,-3,-57,-44,-50,-12,-50,-1,-44,-9,-2,-34,-21,-25,-63,-60,-9,-26,-49,-41,50,3,43,3,21,33,48,61,1,38,20,5,7,69,20,4,57,49,55,14,51,1,47,7,4,43,16,17,67,65,9,37,45,43]\n",
    "    desikan_y_coords = [-44,21,18,-82,-10,-54,-70,-32,-48,-87,30.71,-73,44,-29,-30,-28,22,48,35,-89,-26,-18,-12,-59,39,53,38,-62,-7,-41,65,15,-23,13,-42,21,14,-81,-4,-52,-67,-31,-48,-88,38,-69,45,-24,-29,-25,15,40,31,-85,-23,-16,-9,-57,38,45,34,-65,-12,-36,64,21,-25,12]\n",
    "    desikan_z_coords = [5,27,46,20,-29,-16,31,-24,25,1,-12.11,-1,-14,-13,-18,62,18,-13,3,3,58,38,59,46,6,17,50,63,-1,39,-12,-35,9,-6,6,27,43,19,-32,-19,29,-27,26,1,-21,-1,-13,-14,-17,61,17,-13,5,5,56,37,54,41,4,21,53,59,-1,35,-13,-38,11,-6]\n",
    "    desikan_coordinates = np.vstack((desikan_x_coords, desikan_y_coords, desikan_z_coords)).T\n",
    "    return desikan_coordinates"
   ]
  },
  {
   "cell_type": "code",
   "execution_count": 3,
   "metadata": {},
   "outputs": [],
   "source": [
    "def load_fmri_timeseries(subject_id, trial_id, atlas='desikan'):\n",
    "    '''\n",
    "    Returns a 2D matrix with dimensions (Channels, Time) of the fMRI timeseries for the provided subject and trial.\n",
    "    '''\n",
    "    path = 'data/fmri/'+atlas+'_atlas/'+subject_id+'/repos'+str(trial_id)+'_timeseries_regr_wgm_globmean_filt0009008.mat'\n",
    "    if os.path.isfile(path):\n",
    "        return scipy.io.loadmat(path)['timeseries']\n",
    "    else:\n",
    "        return None"
   ]
  },
  {
   "cell_type": "code",
   "execution_count": 4,
   "metadata": {},
   "outputs": [],
   "source": [
    "def compute_fmri_connectomes(subject_id, trial_id, seconds_used_to_compute_connectome, atlas='desikan'):\n",
    "    '''\n",
    "    Returns a 3D matrix with dimensions (Time, ConnectivityAxis1, ConnectivityAxis2) of the\n",
    "    fMRI connectomes for the provided subject, trial, and seconds_per_connectome.\n",
    "    '''\n",
    "    assert(seconds_used_to_compute_connectome >= 2)\n",
    "    \n",
    "    # Load raw fMRI timeseries\n",
    "    fmri_timeseries = load_fmri_timeseries(subject_id, trial_id, atlas=atlas)\n",
    "    if fmri_timeseries is None:\n",
    "        return\n",
    "    \n",
    "    # Filter to only cortical fMRI data\n",
    "    cortical_fmri_timeseries = fmri_timeseries[18:]\n",
    "    \n",
    "    # Compute connectomes\n",
    "    # Note: 2 seconds of data are represented by each fMRI volume\n",
    "    num_timepoints_per_connectome = int(seconds_used_to_compute_connectome/2) \n",
    "    fmri_connectome_matrices_through_time = []\n",
    "\n",
    "    for t in range(num_timepoints_per_connectome, cortical_fmri_timeseries.shape[1]):\n",
    "        cortical_fmri_timeseries_window = cortical_fmri_timeseries[:, t-num_timepoints_per_connectome:t]\n",
    "        matrix = np.cov(cortical_fmri_timeseries_window)\n",
    "        fmri_connectome_matrices_through_time.append(matrix)\n",
    "        \n",
    "    return np.array(fmri_connectome_matrices_through_time)"
   ]
  },
  {
   "cell_type": "code",
   "execution_count": 5,
   "metadata": {},
   "outputs": [],
   "source": [
    "def load_eeg_connectome(subject_id, trial_id, frequency_band, atlas='desikan'):\n",
    "    '''\n",
    "    Connectivity matrices are computed in the same step as source localization using the imaginary coherence measure.\n",
    "    The time windows are non-overlapping 2 second windows corresponding to the time window of each concurrent fMRI volume.\n",
    "    Therefore, we have 300 time windows with one connectivity matrix for each window per EEG oscillation band. \n",
    "\n",
    "    NOTE: The combined eeg connectomes returned from this method do not necessarily line up with the \n",
    "    fmri timeseries data returned from load_combined_fmri_timeseries.\n",
    "\n",
    "    Returns a 3D matrix with dimensions (Time, ConnectivityAxis1, ConnectivityAxis2) for all eeg subject trials concatenated along the time dimension.\n",
    "    '''\n",
    "    \n",
    "    path = 'data/eeg/'+atlas+'_atlas/'+subject_id+'/repos'+str(trial_id)+'/conn_desi_cohi_time_eeg_'+frequency_band+'_'+subject_id+'_repos'+str(trial_id)+'.mat'\n",
    "    if os.path.isfile(path):\n",
    "        data = scipy.io.loadmat(path)['connEEG'+frequency_band]\n",
    "        data = np.moveaxis(data, 2, 0) # Move time axis to be the first axis\n",
    "        return data\n",
    "    else:\n",
    "        return None"
   ]
  },
  {
   "cell_type": "code",
   "execution_count": 6,
   "metadata": {},
   "outputs": [],
   "source": [
    "def load_artifact_timepoints(subject_id, trial_id, include_bad_fmri_frames=True):\n",
    "    '''\n",
    "    Returns the volume/window time indexes for EEG timepoints with artifacts. \n",
    "    Artifacts are determined with semi-automatic techniques and subsequent\n",
    "    careful visual evaluation of the EEG data.\n",
    "    \n",
    "    If include_bad_fmri_frames is True, load_artifact_timepoints returns the \n",
    "    volume/window time indexes for EEG timepoints with artifacts UNIONED with \n",
    "    the set of timepoints with fMRI frame wise displacement.\n",
    "    \n",
    "    Note that a conservative threshold is used when computing fMRI frame wise displacement,\n",
    "    resulting in a LOT of loss for some subjects.\n",
    "    '''\n",
    "    if include_bad_fmri_frames:\n",
    "        path = 'data/head_motion/brainstorm_rejected_EEGandFD26.mat'\n",
    "        artifact_timepoints_data = scipy.io.loadmat(path)['rejected_eeg'][0][0][0][0]\n",
    "    else:\n",
    "        path = 'data/head_motion/brainstorm_rejected26.mat'\n",
    "        artifact_timepoints_data = scipy.io.loadmat(path)['subject'][0]\n",
    "\n",
    "    \n",
    "    for subject_data in artifact_timepoints_data:\n",
    "        \n",
    "        subject = subject_data[0][0]\n",
    "        if subject != subject_id:\n",
    "            continue\n",
    "        \n",
    "        for trial_data in subject_data[1][0]:\n",
    "            \n",
    "            trial = trial_data[0][0]\n",
    "            if trial != 'repos'+str(trial_id):\n",
    "                continue\n",
    "            \n",
    "            return trial_data[3][0]\n",
    "    \n",
    "    return []"
   ]
  },
  {
   "cell_type": "code",
   "execution_count": 7,
   "metadata": {},
   "outputs": [],
   "source": [
    "def load_all_connectome_types(subject_id, trial_id, \n",
    "                             atlas='desikan', \n",
    "                             seconds_used_to_compute_fmri_connectome=60,\n",
    "                             filter_artifact_timepoints=True,\n",
    "                             exclude_bad_fmri_frames=True):\n",
    "    '''\n",
    "    Loads all fMRI and EEG connectomes for the specified subject and trial id. \n",
    "    Removes EEG connectomes that do not have an fMRI connectome correspondence.\n",
    "    Removes artifact timepoints if specified.\n",
    "    '''\n",
    "\n",
    "    # Attempt to load both fmri and eeg connectomes\n",
    "    fmri_connectomes = compute_fmri_connectomes(subject_id, trial_id, seconds_used_to_compute_fmri_connectome, atlas=atlas)\n",
    "    alpha_eeg_connectomes  = load_eeg_connectome(subject_id, trial_id, frequency_band='alpha', atlas=atlas)\n",
    "    beta_eeg_connectomes   = load_eeg_connectome(subject_id, trial_id, frequency_band='beta', atlas=atlas)\n",
    "    delta_eeg_connectomes  = load_eeg_connectome(subject_id, trial_id, frequency_band='delta', atlas=atlas)\n",
    "    gamma_eeg_connectomes  = load_eeg_connectome(subject_id, trial_id, frequency_band='gamma', atlas=atlas)\n",
    "    theta_eeg_connectomes  = load_eeg_connectome(subject_id, trial_id, frequency_band='theta', atlas=atlas)\n",
    "    \n",
    "    if fmri_connectomes is None or alpha_eeg_connectomes is None or beta_eeg_connectomes is None or delta_eeg_connectomes is None or gamma_eeg_connectomes is None or theta_eeg_connectomes is None:\n",
    "        return None\n",
    "    \n",
    "    # Note that there are less fmri connectomes than EEG connectomes because some number of frames are used to \n",
    "    # compute the initial fmri connectome. Here all EEG connectomes that do not have a corresponding fmri\n",
    "    # connectome are dropped:\n",
    "    num_dropped_frames = alpha_eeg_connectomes.shape[0] - fmri_connectomes.shape[0]\n",
    "    \n",
    "    alpha_eeg_connectomes = alpha_eeg_connectomes[num_dropped_frames:]\n",
    "    beta_eeg_connectomes = beta_eeg_connectomes[num_dropped_frames:]\n",
    "    delta_eeg_connectomes = delta_eeg_connectomes[num_dropped_frames:]\n",
    "    gamma_eeg_connectomes = gamma_eeg_connectomes[num_dropped_frames:]\n",
    "    theta_eeg_connectomes = theta_eeg_connectomes[num_dropped_frames:]\n",
    "            \n",
    "    # Load artifact timepoint labels if necessary\n",
    "    if filter_artifact_timepoints:\n",
    "        \n",
    "        artifact_timepoints = load_artifact_timepoints(subject_id, trial_id, \n",
    "                                                       include_bad_fmri_frames=exclude_bad_fmri_frames)\n",
    "        if artifact_timepoints is None:\n",
    "            return None\n",
    "        \n",
    "        # Filter any artifact timepoints that were already dropped\n",
    "        artifact_timepoints = list(filter(lambda a: a >= num_dropped_frames, artifact_timepoints))\n",
    "        \n",
    "        # Shift artifact timepoints to start at 0\n",
    "        artifact_timepoints = [at - num_dropped_frames for at in artifact_timepoints]\n",
    "            \n",
    "        # Drop all 'bad' connectomes\n",
    "        fmri_connectomes = np.delete(fmri_connectomes, artifact_timepoints, axis=0)\n",
    "        alpha_eeg_connectomes = np.delete(alpha_eeg_connectomes, artifact_timepoints, axis=0)\n",
    "        beta_eeg_connectomes = np.delete(beta_eeg_connectomes, artifact_timepoints, axis=0)\n",
    "        delta_eeg_connectomes = np.delete(delta_eeg_connectomes, artifact_timepoints, axis=0)\n",
    "        gamma_eeg_connectomes = np.delete(gamma_eeg_connectomes, artifact_timepoints, axis=0)\n",
    "        theta_eeg_connectomes = np.delete(theta_eeg_connectomes, artifact_timepoints, axis=0)\n",
    "    \n",
    "    return {\n",
    "        'fmri':fmri_connectomes,\n",
    "        'alpha':alpha_eeg_connectomes,\n",
    "        'beta':beta_eeg_connectomes,\n",
    "        'delta':delta_eeg_connectomes,\n",
    "        'gamma':gamma_eeg_connectomes,\n",
    "        'theta':theta_eeg_connectomes,\n",
    "    }"
   ]
  },
  {
   "cell_type": "code",
   "execution_count": 8,
   "metadata": {},
   "outputs": [],
   "source": [
    "ALL_SUBJECT_IDS = set([pth.split('/')[-1] for pth in glob.glob('data/**/**/*')])\n",
    "ALL_TRIAL_IDS = range(1, 4)"
   ]
  },
  {
   "cell_type": "code",
   "execution_count": 9,
   "metadata": {},
   "outputs": [],
   "source": [
    "def load_connectomes(subject_ids, trial_ids,\n",
    "                     atlas='desikan', \n",
    "                     seconds_used_to_compute_fmri_connectome=60,\n",
    "                     filter_artifact_timepoints=True,\n",
    "                     exclude_bad_fmri_frames=True):\n",
    "    '''\n",
    "    Loads all connectome types for all specified subject/trial ids and\n",
    "    concatenates them in the time dimension.\n",
    "    '''\n",
    "    \n",
    "    # Gather connectomes for all specified subjects and trials\n",
    "    all_subjects_all_trials_connectomes = []\n",
    "\n",
    "    for subject_id in subject_ids:\n",
    "        for trial_id in trial_ids:\n",
    "            connectomes = load_all_connectome_types(subject_id, trial_id,\n",
    "                                                   atlas=atlas, \n",
    "                                                   seconds_used_to_compute_fmri_connectome=seconds_used_to_compute_fmri_connectome,\n",
    "                                                   filter_artifact_timepoints=filter_artifact_timepoints,\n",
    "                                                   exclude_bad_fmri_frames=exclude_bad_fmri_frames)\n",
    "            if connectomes is not None:\n",
    "                all_subjects_all_trials_connectomes.append(connectomes)\n",
    "            \n",
    "    # Smush separate connectomes into one mega time series\n",
    "    all_subjects_all_trials_connectomes_smushed = all_subjects_all_trials_connectomes[0]\n",
    "    for i in range(1, len(all_subjects_all_trials_connectomes)):\n",
    "        connectomes = all_subjects_all_trials_connectomes[i]\n",
    "        for k in connectomes:\n",
    "            all_subjects_all_trials_connectomes_smushed[k] = np.concatenate([all_subjects_all_trials_connectomes_smushed[k], connectomes[k]], axis=0)\n",
    "        \n",
    "    return all_subjects_all_trials_connectomes_smushed"
   ]
  },
  {
   "cell_type": "markdown",
   "metadata": {},
   "source": [
    "# Low Dimensional Connectome Dynamics"
   ]
  },
  {
   "cell_type": "code",
   "execution_count": 10,
   "metadata": {},
   "outputs": [
    {
     "data": {
      "text/plain": [
       "(17906, 68, 68)"
      ]
     },
     "execution_count": 10,
     "metadata": {},
     "output_type": "execute_result"
    }
   ],
   "source": [
    "all_subjects_all_trials_connectomes = load_connectomes(ALL_SUBJECT_IDS, ALL_TRIAL_IDS)\n",
    "all_subjects_all_trials_connectomes['fmri'].shape"
   ]
  },
  {
   "cell_type": "markdown",
   "metadata": {},
   "source": [
    "#### Principal Component Analysis"
   ]
  },
  {
   "cell_type": "code",
   "execution_count": null,
   "metadata": {},
   "outputs": [],
   "source": [
    "# pca_model = PCA(n_components=5).fit(all_cortical_fmri_timeseries)"
   ]
  },
  {
   "cell_type": "code",
   "execution_count": null,
   "metadata": {},
   "outputs": [],
   "source": [
    "# plt.plot(pca_model.explained_variance_ratio_)\n",
    "# plt.title(\"{0:.2f}% Variance Explained Total\".format(100*sum(pca_model.explained_variance_ratio_)))\n",
    "# plt.show()"
   ]
  },
  {
   "cell_type": "code",
   "execution_count": null,
   "metadata": {},
   "outputs": [],
   "source": [
    "# for pc_timeseries in fmri_data:\n",
    "#     plt.plot(pc_timeseries, alpha=0.1)\n",
    "# plt.show()"
   ]
  },
  {
   "cell_type": "code",
   "execution_count": null,
   "metadata": {},
   "outputs": [],
   "source": []
  },
  {
   "cell_type": "markdown",
   "metadata": {},
   "source": [
    "# Visualize fMRI/EEG Connectome Dynamics"
   ]
  },
  {
   "cell_type": "code",
   "execution_count": null,
   "metadata": {},
   "outputs": [],
   "source": [
    "for subject_id in all_subject_ids:\n",
    "    for trial_id in all_trial_ids:\n",
    "        \n",
    "        # Attempt to load all connectome types\n",
    "        connectomes = load_all_connectome_types(subject_id, trial_id,\n",
    "                                               atlas='desikan', \n",
    "                                               seconds_used_to_compute_fmri_connectome=60,\n",
    "                                               exclude_bad_fmri_frames=True,\n",
    "                                               filter_artifact_timepoints=True)\n",
    "        \n",
    "        if connectomes is None:\n",
    "            continue\n",
    "\n",
    "        # Plot connectomes through time\n",
    "        for t in range(0, connectomes['fmri'].shape[0]):\n",
    "            \n",
    "            # Create figure and set title\n",
    "            fig = plt.figure(figsize=(30, 35))\n",
    "            fig.suptitle('Subject: \"{0}\" | Trial: {1} | Time: {2}'.format(subject_id, trial_id, t), fontsize=50)\n",
    "            \n",
    "            # Plot connectomes\n",
    "            subplot_idx = 1\n",
    "            for connectome_id, connectome in connectomes.items():\n",
    "\n",
    "                ax = fig.add_subplot(len(connectomes), 2, subplot_idx)\n",
    "                plotting.plot_connectome(connectome[t], desikan_atlas_coordinates(), title='{0} Connectome'.format(connectome_id),\n",
    "                                         edge_threshold='95%', node_size=20, colorbar=True, axes=ax)\n",
    "                subplot_idx += 1\n",
    "            \n",
    "                ax = fig.add_subplot(len(connectomes), 2, subplot_idx)\n",
    "                plotting.plot_matrix(connectome[t], vmin=-1., vmax=1., colorbar=True, axes=ax)\n",
    "                subplot_idx += 1\n",
    "    \n",
    "            plt.savefig('output/connectomes_through_time/subject={0}_trial={1}_t={2}.png'.format(subject_id, trial_id, t))\n",
    "        break"
   ]
  }
 ],
 "metadata": {
  "kernelspec": {
   "display_name": "Python 3",
   "language": "python",
   "name": "python3"
  },
  "language_info": {
   "codemirror_mode": {
    "name": "ipython",
    "version": 3
   },
   "file_extension": ".py",
   "mimetype": "text/x-python",
   "name": "python",
   "nbconvert_exporter": "python",
   "pygments_lexer": "ipython3",
   "version": "3.6.5"
  }
 },
 "nbformat": 4,
 "nbformat_minor": 1
}
