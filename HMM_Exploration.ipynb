{
 "cells": [
  {
   "cell_type": "code",
   "execution_count": 1,
   "metadata": {},
   "outputs": [],
   "source": [
    "import copy\n",
    "import matplotlib.cm as cmx\n",
    "import matplotlib.colors as colors\n",
    "import matplotlib.pyplot as plt\n",
    "import numpy as np\n",
    "import utils\n",
    "\n",
    "import warnings; warnings.simplefilter('ignore')\n",
    "\n",
    "from hmmlearn import hmm\n",
    "from nilearn import plotting\n",
    "from sklearn.decomposition import PCA\n",
    "from sklearn.externals import joblib"
   ]
  },
  {
   "cell_type": "markdown",
   "metadata": {},
   "source": [
    "# Low Dimensional Connectome Dynamics"
   ]
  },
  {
   "cell_type": "markdown",
   "metadata": {},
   "source": [
    "### Prepare Data - Separate Modalities"
   ]
  },
  {
   "cell_type": "code",
   "execution_count": 2,
   "metadata": {},
   "outputs": [
    {
     "data": {
      "text/plain": [
       "(17906, 68, 68)"
      ]
     },
     "execution_count": 2,
     "metadata": {},
     "output_type": "execute_result"
    }
   ],
   "source": [
    "all_subjects_all_trials_connectomes = utils.load_connectomes(utils.ALL_SUBJECT_IDS, utils.ALL_TRIAL_IDS)\n",
    "all_subjects_all_trials_connectomes['fmri'].shape"
   ]
  },
  {
   "cell_type": "markdown",
   "metadata": {},
   "source": [
    "Extract flattened representation of upper triangular of Pearson correlation matrix for each connectome type."
   ]
  },
  {
   "cell_type": "code",
   "execution_count": 3,
   "metadata": {},
   "outputs": [
    {
     "data": {
      "text/plain": [
       "68"
      ]
     },
     "execution_count": 3,
     "metadata": {},
     "output_type": "execute_result"
    }
   ],
   "source": [
    "# NOTE: The below logic would have to change if we move away from using Desikan Atlas where the number of regions \n",
    "# are the same between EEG and fMRI\n",
    "num_regions = all_subjects_all_trials_connectomes['fmri'].shape[1]\n",
    "num_regions"
   ]
  },
  {
   "cell_type": "code",
   "execution_count": 4,
   "metadata": {},
   "outputs": [],
   "source": [
    "upper_triangular_including_diagonal_idxs = np.triu_indices(num_regions, k=0)\n",
    "lower_triangular_idxs = np.tril_indices(num_regions, k=-1)"
   ]
  },
  {
   "cell_type": "code",
   "execution_count": 5,
   "metadata": {},
   "outputs": [],
   "source": [
    "all_subjects_all_trials_connectome_upper_triangular_flattened = copy.deepcopy(all_subjects_all_trials_connectomes)\n",
    "for k in all_subjects_all_trials_connectome_upper_triangular_flattened:\n",
    "    all_subjects_all_trials_connectome_upper_triangular_flattened[k] = np.array([c[upper_triangular_including_diagonal_idxs].flatten() for c in all_subjects_all_trials_connectomes[k]])"
   ]
  },
  {
   "cell_type": "code",
   "execution_count": 6,
   "metadata": {},
   "outputs": [
    {
     "data": {
      "text/plain": [
       "(17906, 2346)"
      ]
     },
     "execution_count": 6,
     "metadata": {},
     "output_type": "execute_result"
    }
   ],
   "source": [
    "all_subjects_all_trials_connectome_upper_triangular_flattened['fmri'].shape"
   ]
  },
  {
   "cell_type": "markdown",
   "metadata": {},
   "source": [
    "### Prepare Data - Combined Modalities"
   ]
  },
  {
   "cell_type": "markdown",
   "metadata": {},
   "source": [
    "Combine all modalities into a single time series by smushing feature vectors together."
   ]
  },
  {
   "cell_type": "code",
   "execution_count": 7,
   "metadata": {},
   "outputs": [],
   "source": [
    "num_features_per_modality = all_subjects_all_trials_connectome_upper_triangular_flattened['fmri'].shape[1]\n",
    "fmri_feature_idxs  = range(num_features_per_modality*0, num_features_per_modality*1)\n",
    "alpha_feature_idxs = range(num_features_per_modality*1, num_features_per_modality*2)\n",
    "beta_feature_idxs  = range(num_features_per_modality*2, num_features_per_modality*3)\n",
    "delta_feature_idxs = range(num_features_per_modality*3, num_features_per_modality*4)\n",
    "gamma_feature_idxs = range(num_features_per_modality*4, num_features_per_modality*5)\n",
    "theta_feature_idxs = range(num_features_per_modality*5, num_features_per_modality*6)\n",
    "\n",
    "feature_idxs = [('fmri', fmri_feature_idxs),\n",
    "                ('alpha', alpha_feature_idxs),\n",
    "                ('beta', beta_feature_idxs),\n",
    "                ('delta', delta_feature_idxs),\n",
    "                ('gamma', gamma_feature_idxs),\n",
    "                ('theta', theta_feature_idxs)]"
   ]
  },
  {
   "cell_type": "code",
   "execution_count": 8,
   "metadata": {},
   "outputs": [],
   "source": [
    "all_modality_all_subjects_all_trials_connectome_upper_triangular_flattened = []\n",
    "for k in all_subjects_all_trials_connectome_upper_triangular_flattened:\n",
    "    all_modality_all_subjects_all_trials_connectome_upper_triangular_flattened.append(all_subjects_all_trials_connectome_upper_triangular_flattened[k])\n",
    "all_modality_all_subjects_all_trials_connectome_upper_triangular_flattened = np.concatenate(all_modality_all_subjects_all_trials_connectome_upper_triangular_flattened, axis=1)"
   ]
  },
  {
   "cell_type": "code",
   "execution_count": 9,
   "metadata": {},
   "outputs": [
    {
     "data": {
      "text/plain": [
       "(17906, 14076)"
      ]
     },
     "execution_count": 9,
     "metadata": {},
     "output_type": "execute_result"
    }
   ],
   "source": [
    "all_modality_all_subjects_all_trials_connectome_upper_triangular_flattened.shape"
   ]
  },
  {
   "cell_type": "code",
   "execution_count": 10,
   "metadata": {},
   "outputs": [
    {
     "data": {
      "text/plain": [
       "(17906, 2346)"
      ]
     },
     "execution_count": 10,
     "metadata": {},
     "output_type": "execute_result"
    }
   ],
   "source": [
    "all_modality_all_subjects_all_trials_connectome_upper_triangular_flattened[:, fmri_feature_idxs].shape"
   ]
  },
  {
   "cell_type": "markdown",
   "metadata": {},
   "source": [
    "## Hidden Markov Models"
   ]
  },
  {
   "cell_type": "markdown",
   "metadata": {},
   "source": [
    "### Training"
   ]
  },
  {
   "cell_type": "markdown",
   "metadata": {},
   "source": [
    "(1) TODO: Find a bunch of graph statistics (node-wise or global) and compute the time series of the graph statistics and fit an HMM to that.\n",
    "\n",
    "(2) TODO: Train HMMs on subset of data and predict likelihood of new data\n",
    "\n",
    "(3) TODO: Align states between modalities."
   ]
  },
  {
   "cell_type": "code",
   "execution_count": 11,
   "metadata": {},
   "outputs": [],
   "source": [
    "def num_parameters_in_hmm(model):  \n",
    "    k = model.means_.shape[0]\n",
    "    d = model.means_.shape[1]\n",
    "    # NOTE: We are using a diagonal covariance matrix\n",
    "    return (k*d)+(k*d)+k+(k**2)"
   ]
  },
  {
   "cell_type": "code",
   "execution_count": 12,
   "metadata": {},
   "outputs": [],
   "source": [
    "def train_optimal_hmm_on_data(data, bic=True, pca_variance_retained=0.99, forced_component_count=None):\n",
    "    \n",
    "    # Apply PCA to dimensionality reduce the data and retain xx% variance\n",
    "    print(\"\\tApplying pca and retaining {0:.2f}% variance...\".format(pca_variance_retained*100))\n",
    "    pca_model = PCA(pca_variance_retained)\n",
    "    dim_reduced_data = pca_model.fit_transform(data)\n",
    "    hmm_preprocessing_pca_models.append(pca_model)\n",
    "    print(\"\\t{0} dimensions -> {1} dimensions\".format(data.shape[1], dim_reduced_data.shape[1]))\n",
    "    \n",
    "    # Compute BIC/AIC scores for HMM models with # states between 1 and N-1\n",
    "    scores = []\n",
    "    candidate_hmm_models = []\n",
    "    \n",
    "    for n_components in (range(2, data.shape[0]-1) if not forced_component_count else range(forced_component_count, forced_component_count+1)):\n",
    "        \n",
    "        print(\"\\t\\t training hmm with n_components={0}\".format(n_components))\n",
    "\n",
    "        # Train HMM model\n",
    "        candidate_hmm_model = hmm.GaussianHMM(n_components=n_components,\n",
    "                                              covariance_type=\"diag\").fit(dim_reduced_data)\n",
    "        candidate_hmm_models.append(candidate_hmm_model)\n",
    "\n",
    "        # Compute BIC/AIC score\n",
    "        n = dim_reduced_data.shape[0]\n",
    "        k = num_parameters_in_hmm(candidate_hmm_model)\n",
    "        L = candidate_hmm_model.decode(dim_reduced_data)[0]\n",
    "\n",
    "        print(\"\\t\\t\\tn={0}, k={1}, L={2}\".format(n, k, L))\n",
    "\n",
    "        score = (np.log(n)*k - 2*L) if bic else (k - L)\n",
    "        scores.append(score)\n",
    "        print(\"\\t\\t\\tScore={0}\".format(score))\n",
    "        \n",
    "        if len(scores) >= 3:\n",
    "            # Last two increases in number of components yielded worse scores -> exit search\n",
    "            if scores[-1] > scores[-3] and scores[-2] > scores[-3]:\n",
    "                break\n",
    "    \n",
    "    # Select the model with the lowest BIC/AIC score\n",
    "    selected_hmm_model = candidate_hmm_models[np.argmin(scores)]\n",
    "    return selected_hmm_model, pca_model"
   ]
  },
  {
   "cell_type": "markdown",
   "metadata": {},
   "source": [
    "Train HMMs separately on data from each modality using the Bayesian Information Criterion (BIC) to select the number of components."
   ]
  },
  {
   "cell_type": "code",
   "execution_count": 13,
   "metadata": {},
   "outputs": [],
   "source": [
    "hmm_preprocessing_pca_models = []\n",
    "hmm_models = []\n",
    "\n",
    "for k in all_subjects_all_trials_connectome_upper_triangular_flattened:\n",
    "    hmm_preprocessing_pca_models.append(joblib.load(\"output/hmm/models/pca-{0}.pkl\".format(k)))\n",
    "    hmm_models.append(joblib.load(\"output/hmm/models/hmm-{0}.pkl\".format(k)))\n",
    "\n",
    "combined_modality_hmm_model = joblib.load(\"output/hmm/models/hmm-{0}.pkl\".format(\"combined\"))\n",
    "combined_modality_preprocessing_pca_model = joblib.load(\"output/hmm/models/pca-{0}.pkl\".format(\"combined\"))"
   ]
  },
  {
   "cell_type": "code",
   "execution_count": 14,
   "metadata": {},
   "outputs": [],
   "source": [
    "# hmm_preprocessing_pca_models = []\n",
    "# hmm_models = []\n",
    "\n",
    "# for k in all_subjects_all_trials_connectome_upper_triangular_flattened:\n",
    "    \n",
    "#     print(k)\n",
    "#     data = all_subjects_all_trials_connectome_upper_triangular_flattened[k]\n",
    "#     hmm_model, pca_model = train_optimal_hmm_on_data(data, pca_variance_retained=0.90)\n",
    "#     hmm_models.append(hmm_model)\n",
    "#     hmm_preprocessing_pca_models.append(pca_model)\n",
    "    \n",
    "#     joblib.dump(hmm_model, \"output/hmm/models/hmm-{0}.pkl\".format(k))\n",
    "#     joblib.dump(pca_model, \"output/hmm/models/pca-{0}.pkl\".format(k))"
   ]
  },
  {
   "cell_type": "markdown",
   "metadata": {},
   "source": [
    "Train a single HMM on data from all modalities combined."
   ]
  },
  {
   "cell_type": "code",
   "execution_count": 15,
   "metadata": {},
   "outputs": [],
   "source": [
    "# combined_modality_hmm_model, combined_modality_preprocessing_pca_model = train_optimal_hmm_on_data(all_modality_all_subjects_all_trials_connectome_upper_triangular_flattened, pca_variance_retained=0.90)\n",
    "# joblib.dump(combined_modality_hmm_model, \"output/hmm/models/hmm-{0}.pkl\".format(\"combined\"))\n",
    "# joblib.dump(combined_modality_preprocessing_pca_model, \"output/hmm/models/pca-{0}.pkl\".format(\"combined\"))"
   ]
  },
  {
   "cell_type": "markdown",
   "metadata": {},
   "source": [
    "### Spatial Representation of Hidden States"
   ]
  },
  {
   "cell_type": "markdown",
   "metadata": {},
   "source": [
    "SEPARATE MODALTIES - Plot spatial representation of each hidden markov model state in connectome space."
   ]
  },
  {
   "cell_type": "code",
   "execution_count": 17,
   "metadata": {},
   "outputs": [],
   "source": [
    "fig = plt.figure(figsize=(180, 60))\n",
    "fig.suptitle('Spatial Loadings of Hidden Markov Model States', fontsize=40)\n",
    "\n",
    "num_states_to_plot = 5\n",
    "subplot_idx = 1\n",
    "for (k, hmm_model, pca_model) in zip(all_subjects_all_trials_connectome_upper_triangular_flattened, hmm_models, hmm_preprocessing_pca_models):\n",
    "    for state_idx in range(0, num_states_to_plot):\n",
    "        \n",
    "        if hmm_model.means_.shape[0] <= state_idx:\n",
    "            ax = fig.add_subplot(len(hmm_models), num_states_to_plot, subplot_idx)\n",
    "            subplot_idx += 1\n",
    "            continue\n",
    "\n",
    "        # Extract connectome representation of the hidden state\n",
    "        hidden_state = np.zeros((num_regions, num_regions))\n",
    "        hidden_state[upper_triangular_including_diagonal_idxs] = np.matmul(hmm_model.means_[state_idx], pca_model.components_)\n",
    "        hidden_state[lower_triangular_idxs] = hidden_state.T[lower_triangular_idxs]\n",
    "\n",
    "        # Plot connectome representation of the hidden state\n",
    "        ax = fig.add_subplot(len(hmm_models), num_states_to_plot, subplot_idx)\n",
    "        plotting.plot_connectome(hidden_state, utils.desikan_atlas_coordinates(), title='{0} HiddenState-{1} Connectome'.format(k, state_idx+1),\n",
    "                                 edge_threshold='95%', node_size=20, colorbar=True, axes=ax)\n",
    "        subplot_idx += 1\n",
    "\n",
    "plt.savefig('output/hmm/spatial_loadings.png')\n",
    "plt.close()"
   ]
  },
  {
   "cell_type": "markdown",
   "metadata": {},
   "source": [
    "COMBINED MODALITIES - Plot spatial representation of each hidden markov model state in connectome space."
   ]
  },
  {
   "cell_type": "code",
   "execution_count": 19,
   "metadata": {},
   "outputs": [],
   "source": [
    "fig = plt.figure(figsize=(180, 60))\n",
    "fig.suptitle('Spatial Loadings of Combined Hidden Markov Model States', fontsize=40)\n",
    "\n",
    "num_states_to_plot = min(5, combined_modality_hmm_model.means_.shape[0])\n",
    "subplot_idx = 1\n",
    "for feature_desc, feature_idx in feature_idxs:\n",
    "    for state_idx in range(num_states_to_plot):\n",
    "        \n",
    "        # Extract connectome representation of the hidden state\n",
    "        hidden_state = np.zeros((num_regions, num_regions))\n",
    "        hidden_state[upper_triangular_including_diagonal_idxs] = np.matmul(combined_modality_hmm_model.means_[state_idx], combined_modality_preprocessing_pca_model.components_)[feature_idx]\n",
    "        hidden_state[lower_triangular_idxs] = hidden_state.T[lower_triangular_idxs]\n",
    "\n",
    "        # Plot connectome representation of the hidden state\n",
    "        ax = fig.add_subplot(len(feature_idxs), num_states_to_plot, subplot_idx)\n",
    "        plotting.plot_connectome(hidden_state, utils.desikan_atlas_coordinates(), title='{0} HiddenState-{1} Connectome'.format(feature_desc, state_idx+1),\n",
    "                                 edge_threshold='95%', node_size=20, colorbar=True, axes=ax)\n",
    "        subplot_idx += 1\n",
    "\n",
    "plt.savefig('output/hmm/combined_modality_spatial_loadings.png')\n",
    "plt.close()"
   ]
  },
  {
   "cell_type": "markdown",
   "metadata": {},
   "source": [
    "### Decoded Hidden State Sequence Likelihood Comparison"
   ]
  },
  {
   "cell_type": "markdown",
   "metadata": {},
   "source": [
    "SEPARATE MODALITIES - Compute decoded state sequences."
   ]
  },
  {
   "cell_type": "code",
   "execution_count": 20,
   "metadata": {},
   "outputs": [],
   "source": [
    "decoded_state_sequences = []\n",
    "decoded_state_sequences_log_likelihoods = []\n",
    "for (k, hmm_model, pca_model) in zip(all_subjects_all_trials_connectome_upper_triangular_flattened, hmm_models, hmm_preprocessing_pca_models):\n",
    "    data = all_subjects_all_trials_connectome_upper_triangular_flattened[k]\n",
    "    dim_reduced_data = pca_model.transform(data)\n",
    "    decoded_state_sequence = hmm_model.decode(dim_reduced_data)\n",
    "    decoded_state_sequences_log_likelihoods.append(decoded_state_sequence[0])\n",
    "    decoded_state_sequences.append(decoded_state_sequence[1])"
   ]
  },
  {
   "cell_type": "code",
   "execution_count": 21,
   "metadata": {},
   "outputs": [
    {
     "name": "stdout",
     "output_type": "stream",
     "text": [
      "[-6478330.126376308, 25168820.014482092, 37566482.98023946, 26794365.461798966, 28916795.874336123, 25928535.22060315]\n",
      "22982778.237513915\n"
     ]
    }
   ],
   "source": [
    "print(decoded_state_sequences_log_likelihoods)\n",
    "print(sum(decoded_state_sequences_log_likelihoods)/6)"
   ]
  },
  {
   "cell_type": "markdown",
   "metadata": {},
   "source": [
    "COMBINED MODALITIES - Compute decoded state sequence."
   ]
  },
  {
   "cell_type": "code",
   "execution_count": 22,
   "metadata": {},
   "outputs": [],
   "source": [
    "combined_modality_log_likelihood, combined_modality_decoded_state_sequence = combined_modality_hmm_model.decode(combined_modality_preprocessing_pca_model.transform(all_modality_all_subjects_all_trials_connectome_upper_triangular_flattened))"
   ]
  },
  {
   "cell_type": "code",
   "execution_count": 23,
   "metadata": {},
   "outputs": [
    {
     "data": {
      "text/plain": [
       "2309489.478395298"
      ]
     },
     "execution_count": 23,
     "metadata": {},
     "output_type": "execute_result"
    }
   ],
   "source": [
    "combined_modality_log_likelihood"
   ]
  },
  {
   "cell_type": "markdown",
   "metadata": {},
   "source": [
    "### Decoded Hidden State Sequence Statistics"
   ]
  },
  {
   "cell_type": "markdown",
   "metadata": {},
   "source": [
    "Plot fractional occupancy - the fraction of time spent in each state relative to the total duration"
   ]
  },
  {
   "cell_type": "code",
   "execution_count": 24,
   "metadata": {},
   "outputs": [],
   "source": [
    "# SEPARATE\n",
    "fig = plt.figure(figsize=(20, 4))\n",
    "fig.suptitle('Fractional Occupancy')\n",
    "num_plots = len(decoded_state_sequences)\n",
    "subplot_idx = 1\n",
    "\n",
    "for (k, hmm_model, state_seq) in zip(all_subjects_all_trials_connectome_upper_triangular_flattened, hmm_models, decoded_state_sequences):\n",
    "    \n",
    "    # Compute fractional occupancy\n",
    "    fractional_occupancies_per_state = []\n",
    "    for state_idx in range(0, hmm_model.means_.shape[0]):\n",
    "        fractional_occupancy = len(state_seq[state_seq == state_idx])/len(state_seq)\n",
    "        fractional_occupancies_per_state.append(fractional_occupancy)\n",
    "        \n",
    "    # Plot fractional occupancy per state\n",
    "    fig.add_subplot(1, num_plots, subplot_idx)\n",
    "    plt.title(k)\n",
    "    x = np.arange(hmm_model.means_.shape[0])\n",
    "    plt.bar(x, height=fractional_occupancies_per_state)\n",
    "    plt.xticks(x, [str(x_i) for x_i in x])\n",
    "    subplot_idx += 1\n",
    "    \n",
    "plt.savefig('output/hmm/fractional_occupancy.png')\n",
    "plt.close()"
   ]
  },
  {
   "cell_type": "code",
   "execution_count": 25,
   "metadata": {},
   "outputs": [],
   "source": [
    "# COMBINED\n",
    "# Compute fractional occupancy\n",
    "fractional_occupancies_per_state = []\n",
    "for state_idx in range(0, combined_modality_hmm_model.means_.shape[0]):\n",
    "    fractional_occupancy = len(combined_modality_decoded_state_sequence[combined_modality_decoded_state_sequence == state_idx])/len(combined_modality_decoded_state_sequence)\n",
    "    fractional_occupancies_per_state.append(fractional_occupancy)\n",
    "\n",
    "# Plot fractional occupancy per state\n",
    "plt.title('Combined Fractional Occupancy')\n",
    "x = np.arange(combined_modality_hmm_model.means_.shape[0])\n",
    "plt.bar(x, height=fractional_occupancies_per_state)\n",
    "plt.xticks(x, [str(x_i) for x_i in x])\n",
    "plt.savefig('output/hmm/combined_fractional_occupancy.png')\n",
    "plt.close()"
   ]
  },
  {
   "cell_type": "markdown",
   "metadata": {},
   "source": [
    "Plot mean life time - the time spent in a state before transitioning to a new state on average"
   ]
  },
  {
   "cell_type": "code",
   "execution_count": 26,
   "metadata": {},
   "outputs": [],
   "source": [
    "# SEPARATE\n",
    "fig = plt.figure(figsize=(20, 4))\n",
    "fig.suptitle('Mean Life Time')\n",
    "num_plots = len(decoded_state_sequences)\n",
    "subplot_idx = 1\n",
    "\n",
    "for (k, hmm_model, state_seq) in zip(all_subjects_all_trials_connectome_upper_triangular_flattened, hmm_models, decoded_state_sequences):\n",
    "\n",
    "    # Compute mean life time per state\n",
    "    mean_life_time_per_state = []\n",
    "    for state_id in range(0, hmm_model.means_.shape[0]):\n",
    "        \n",
    "        # Count number of transitions out of state with state_id\n",
    "        num_transitions_out_of_state_with_state_id = 0\n",
    "        for i in range(0, len(state_seq)-1):\n",
    "            if state_seq[i] == state_id and state_seq[i+1] != state_id:\n",
    "                num_transitions_out_of_state_with_state_id += 1\n",
    "        \n",
    "        # Count total number of time points spent in state with state id\n",
    "        num_time_points_in_state_with_state_id = len(state_seq[state_seq == state_id])\n",
    "        \n",
    "        # Compute mean life time\n",
    "        mean_life_time = num_time_points_in_state_with_state_id/num_transitions_out_of_state_with_state_id\n",
    "        mean_life_time_per_state.append(mean_life_time)\n",
    "    \n",
    "    \n",
    "    # Plot mean life time per state\n",
    "    fig.add_subplot(1, num_plots, subplot_idx)\n",
    "    plt.title(k)\n",
    "    x = np.arange(hmm_model.means_.shape[0])\n",
    "    plt.bar(x, height=mean_life_time_per_state)\n",
    "    plt.xticks(x, [str(x_i) for x_i in x])\n",
    "    subplot_idx += 1\n",
    "    \n",
    "plt.savefig('output/hmm/mean_life_time.png')\n",
    "plt.close()"
   ]
  },
  {
   "cell_type": "code",
   "execution_count": 27,
   "metadata": {},
   "outputs": [],
   "source": [
    "# COMBINED\n",
    "# Compute mean life time per state\n",
    "mean_life_time_per_state = []\n",
    "for state_id in range(0, combined_modality_hmm_model.means_.shape[0]):\n",
    "\n",
    "    # Count number of transitions out of state with state_id\n",
    "    num_transitions_out_of_state_with_state_id = 0\n",
    "    for i in range(0, len(combined_modality_decoded_state_sequence)-1):\n",
    "        if combined_modality_decoded_state_sequence[i] == state_id and combined_modality_decoded_state_sequence[i+1] != state_id:\n",
    "            num_transitions_out_of_state_with_state_id += 1\n",
    "\n",
    "    # Count total number of time points spent in state with state id\n",
    "    num_time_points_in_state_with_state_id = len(combined_modality_decoded_state_sequence[combined_modality_decoded_state_sequence == state_id])\n",
    "\n",
    "    # Compute mean life time\n",
    "    mean_life_time = num_time_points_in_state_with_state_id/num_transitions_out_of_state_with_state_id\n",
    "    mean_life_time_per_state.append(mean_life_time)\n",
    "\n",
    "\n",
    "# Plot mean life time per state\n",
    "plt.title('Combined Mean Life Time')\n",
    "x = np.arange(combined_modality_hmm_model.means_.shape[0])\n",
    "plt.bar(x, height=mean_life_time_per_state)\n",
    "plt.xticks(x, [str(x_i) for x_i in x])\n",
    "\n",
    "plt.savefig('output/hmm/combined_mean_life_time.png')\n",
    "plt.close()"
   ]
  },
  {
   "cell_type": "markdown",
   "metadata": {},
   "source": [
    "Plot transition probabilities."
   ]
  },
  {
   "cell_type": "code",
   "execution_count": 28,
   "metadata": {},
   "outputs": [],
   "source": [
    "# SEPARATE - Transition Probabilities\n",
    "fig = plt.figure(figsize=(20, 4))\n",
    "fig.suptitle('Transition Probabilities')\n",
    "num_plots = len(hmm_models)\n",
    "subplot_idx = 1\n",
    "\n",
    "for (k, hmm_model) in zip(all_subjects_all_trials_connectome_upper_triangular_flattened, hmm_models):\n",
    "    \n",
    "    fig.add_subplot(1, num_plots, subplot_idx)\n",
    "    plt.imshow(hmm_model.transmat_, cmap='gist_heat')\n",
    "    plt.title(k)\n",
    "    plt.colorbar()\n",
    "    subplot_idx += 1\n",
    "\n",
    "plt.savefig('output/hmm/transition_probabilities.png')\n",
    "plt.close()"
   ]
  },
  {
   "cell_type": "code",
   "execution_count": 29,
   "metadata": {},
   "outputs": [],
   "source": [
    "# COMBINED - Transition Probabilities    \n",
    "plt.imshow(combined_modality_hmm_model.transmat_, cmap='gist_heat')\n",
    "plt.title('Combined Transition Probabilities')\n",
    "plt.colorbar()\n",
    "plt.savefig('output/hmm/combined_transition_probabilities.png')\n",
    "plt.close()"
   ]
  },
  {
   "cell_type": "markdown",
   "metadata": {},
   "source": [
    "Plot transitions between decoded states as a time series."
   ]
  },
  {
   "cell_type": "code",
   "execution_count": 30,
   "metadata": {},
   "outputs": [],
   "source": [
    "def get_n_colors(n):\n",
    "    return [ cmx.rainbow(float(i)/n) for i in range(n) ]"
   ]
  },
  {
   "cell_type": "code",
   "execution_count": 31,
   "metadata": {},
   "outputs": [
    {
     "name": "stdout",
     "output_type": "stream",
     "text": [
      "fmri\n",
      "alpha\n",
      "beta\n",
      "delta\n",
      "gamma\n",
      "theta\n"
     ]
    }
   ],
   "source": [
    "# Separate\n",
    "fig = plt.figure(figsize=(300, 25))\n",
    "fig.suptitle('Decoded Hidden State Sequences')\n",
    "\n",
    "num_plots = len(hmm_models)\n",
    "subplot_idx = 1\n",
    "\n",
    "for (k, hmm_model, state_seq) in zip(all_subjects_all_trials_connectome_upper_triangular_flattened, hmm_models, decoded_state_sequences):\n",
    "    \n",
    "    print(k)\n",
    "    fig.add_subplot(num_plots, 1, subplot_idx)\n",
    "    component_colors = get_n_colors(hmm_model.means_.shape[0])\n",
    "    x = 0\n",
    "    for state in state_seq[:6000]:\n",
    "        plt.axvline(x=x, color=component_colors[state])\n",
    "        x += 1\n",
    "        \n",
    "    plt.title(\"{0}\".format(k))\n",
    "    plt.yticks([])\n",
    "    subplot_idx += 1    \n",
    "\n",
    "plt.subplots_adjust(hspace=0.5)\n",
    "plt.savefig('output/hmm/decoded_hidden_state_sequence.png')\n",
    "plt.close()"
   ]
  },
  {
   "cell_type": "code",
   "execution_count": 32,
   "metadata": {},
   "outputs": [],
   "source": [
    "# Combined\n",
    "fig = plt.figure(figsize=(300, 5))\n",
    "\n",
    "component_colors = get_n_colors(combined_modality_hmm_model.means_.shape[0])\n",
    "x = 0\n",
    "for state in combined_modality_decoded_state_sequence[:6000]:\n",
    "    plt.axvline(x=x, color=component_colors[state])\n",
    "    x += 1\n",
    "\n",
    "plt.title(\"{0}\".format(\"Combined Decoded Hidden State Sequence\"))\n",
    "plt.yticks([])\n",
    "plt.subplots_adjust(hspace=0.5)\n",
    "plt.savefig('output/hmm/combined_decoded_hidden_state_sequence.png')\n",
    "plt.close()"
   ]
  },
  {
   "cell_type": "markdown",
   "metadata": {},
   "source": [
    "# Visualize fMRI/EEG Connectome Dynamics"
   ]
  },
  {
   "cell_type": "code",
   "execution_count": null,
   "metadata": {},
   "outputs": [],
   "source": [
    "# for subject_id in ALL_SUBJECT_IDS:\n",
    "#     for trial_id in ALL_TRIAL_IDS:\n",
    "        \n",
    "#         # Attempt to load all connectome types\n",
    "#         connectomes = load_all_connectome_types(subject_id, trial_id,\n",
    "#                                                atlas='desikan', \n",
    "#                                                seconds_used_to_compute_fmri_connectome=60,\n",
    "#                                                exclude_bad_fmri_frames=True,\n",
    "#                                                filter_artifact_timepoints=True)\n",
    "        \n",
    "#         if connectomes is None:\n",
    "#             continue\n",
    "\n",
    "#         # Plot connectomes through time\n",
    "#         for t in range(0, connectomes['fmri'].shape[0]):\n",
    "            \n",
    "#             # Create figure and set title\n",
    "#             fig = plt.figure(figsize=(30, 35))\n",
    "#             fig.suptitle('Subject: \"{0}\" | Trial: {1} | Time: {2}'.format(subject_id, trial_id, t), fontsize=50)\n",
    "            \n",
    "#             # Plot connectomes\n",
    "#             subplot_idx = 1\n",
    "#             for connectome_id, connectome in connectomes.items():\n",
    "\n",
    "#                 ax = fig.add_subplot(len(connectomes), 2, subplot_idx)\n",
    "#                 plotting.plot_connectome(connectome[t], desikan_atlas_coordinates(), title='{0} Connectome'.format(connectome_id),\n",
    "#                                          edge_threshold='95%', node_size=20, colorbar=True, axes=ax)\n",
    "#                 subplot_idx += 1\n",
    "            \n",
    "#                 ax = fig.add_subplot(len(connectomes), 2, subplot_idx)\n",
    "#                 plotting.plot_matrix(connectome[t], vmin=-1., vmax=1., colorbar=True, axes=ax)\n",
    "#                 subplot_idx += 1\n",
    "    \n",
    "#             plt.savefig('output/connectomes_through_time/subject={0}_trial={1}_t={2}.png'.format(subject_id, trial_id, t))"
   ]
  }
 ],
 "metadata": {
  "kernelspec": {
   "display_name": "Python 3",
   "language": "python",
   "name": "python3"
  },
  "language_info": {
   "codemirror_mode": {
    "name": "ipython",
    "version": 3
   },
   "file_extension": ".py",
   "mimetype": "text/x-python",
   "name": "python",
   "nbconvert_exporter": "python",
   "pygments_lexer": "ipython3",
   "version": "3.6.5"
  }
 },
 "nbformat": 4,
 "nbformat_minor": 1
}
