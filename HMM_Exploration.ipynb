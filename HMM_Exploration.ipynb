{
 "cells": [
  {
   "cell_type": "markdown",
   "metadata": {},
   "source": [
    "# Low Dimensional Connectome Dynamics"
   ]
  },
  {
   "cell_type": "code",
   "execution_count": 1,
   "metadata": {},
   "outputs": [],
   "source": [
    "import bct\n",
    "import copy\n",
    "import matplotlib.cm as cmx\n",
    "import matplotlib.colors as colors\n",
    "import matplotlib.pyplot as plt\n",
    "import networkx as nx\n",
    "import numpy as np\n",
    "import pickle\n",
    "import utils\n",
    "\n",
    "import warnings; warnings.simplefilter('ignore')\n",
    "\n",
    "from atlases import DesikanAtlas\n",
    "from hmmlearn import hmm\n",
    "from sklearn.decomposition import PCA\n",
    "from sklearn.externals import joblib\n",
    "from tqdm import tqdm"
   ]
  },
  {
   "cell_type": "markdown",
   "metadata": {},
   "source": [
    "# Data Preparation"
   ]
  },
  {
   "cell_type": "code",
   "execution_count": 2,
   "metadata": {},
   "outputs": [
    {
     "data": {
      "text/plain": [
       "(17906, 68, 68)"
      ]
     },
     "execution_count": 2,
     "metadata": {},
     "output_type": "execute_result"
    }
   ],
   "source": [
    "all_subjects_all_trials_connectomes = utils.load_connectomes(utils.ALL_SUBJECT_IDS, utils.ALL_TRIAL_IDS)\n",
    "all_subjects_all_trials_connectomes['fmri'].shape"
   ]
  },
  {
   "cell_type": "markdown",
   "metadata": {},
   "source": [
    "Extract flattened representation of upper triangular of Pearson correlation matrix for each connectome type."
   ]
  },
  {
   "cell_type": "code",
   "execution_count": 3,
   "metadata": {},
   "outputs": [
    {
     "data": {
      "text/plain": [
       "68"
      ]
     },
     "execution_count": 3,
     "metadata": {},
     "output_type": "execute_result"
    }
   ],
   "source": [
    "# NOTE: The below logic would have to change if we move away from using Desikan Atlas where the number of regions \n",
    "# are the same between EEG and fMRI\n",
    "num_regions = all_subjects_all_trials_connectomes['fmri'].shape[1]\n",
    "num_regions"
   ]
  },
  {
   "cell_type": "code",
   "execution_count": 4,
   "metadata": {},
   "outputs": [],
   "source": [
    "upper_triangular_including_diagonal_idxs = np.triu_indices(num_regions, k=0)\n",
    "lower_triangular_idxs = np.tril_indices(num_regions, k=-1)"
   ]
  },
  {
   "cell_type": "code",
   "execution_count": 5,
   "metadata": {},
   "outputs": [],
   "source": [
    "all_subjects_all_trials_connectome_upper_triangular_flattened = copy.deepcopy(all_subjects_all_trials_connectomes)\n",
    "for k in all_subjects_all_trials_connectome_upper_triangular_flattened:\n",
    "    all_subjects_all_trials_connectome_upper_triangular_flattened[k] = np.array([c[upper_triangular_including_diagonal_idxs].flatten() for c in all_subjects_all_trials_connectomes[k]])"
   ]
  },
  {
   "cell_type": "code",
   "execution_count": 6,
   "metadata": {},
   "outputs": [
    {
     "data": {
      "text/plain": [
       "(17906, 2346)"
      ]
     },
     "execution_count": 6,
     "metadata": {},
     "output_type": "execute_result"
    }
   ],
   "source": [
    "all_subjects_all_trials_connectome_upper_triangular_flattened['fmri'].shape"
   ]
  },
  {
   "cell_type": "markdown",
   "metadata": {},
   "source": [
    "#### Combined Modalities"
   ]
  },
  {
   "cell_type": "code",
   "execution_count": 7,
   "metadata": {},
   "outputs": [],
   "source": [
    "def data_matrix_from_channels(channels):\n",
    "    data_matrix = []\n",
    "    for k in channels:\n",
    "        data_matrix.append(all_subjects_all_trials_connectome_upper_triangular_flattened[k])\n",
    "    data_matrix = np.concatenate(data_matrix, axis=1)\n",
    "    return data_matrix"
   ]
  },
  {
   "cell_type": "code",
   "execution_count": 8,
   "metadata": {},
   "outputs": [],
   "source": [
    "alpha_beta_delta_gamma_theta_matrix = data_matrix_from_channels(['alpha', 'beta', 'delta', 'gamma', 'theta'])\n",
    "fmri_alpha_beta_delta_gamma_theta_matrix = data_matrix_from_channels(['fmri', 'alpha', 'beta', 'delta', 'gamma', 'theta'])\n",
    "fmri_broad_matrix = data_matrix_from_channels(['fmri', 'broad'])"
   ]
  },
  {
   "cell_type": "markdown",
   "metadata": {},
   "source": [
    "##### Train vs Test Indexes"
   ]
  },
  {
   "cell_type": "code",
   "execution_count": 9,
   "metadata": {},
   "outputs": [],
   "source": [
    "N = alpha_beta_delta_gamma_theta_matrix.shape[0]\n",
    "idxs = np.arange(N)\n",
    "split_idx = int(0.9 * N)\n",
    "train_idxs = idxs[:split_idx]\n",
    "test_idxs = idxs[split_idx:]"
   ]
  },
  {
   "cell_type": "markdown",
   "metadata": {},
   "source": [
    "# Hidden Markov Models"
   ]
  },
  {
   "cell_type": "markdown",
   "metadata": {},
   "source": [
    "## Training"
   ]
  },
  {
   "cell_type": "markdown",
   "metadata": {},
   "source": [
    "(1) TODO: Train HMMs on subset of data and predict likelihood of new data\n",
    "\n",
    "(2) TODO: Align states between modalities."
   ]
  },
  {
   "cell_type": "code",
   "execution_count": 10,
   "metadata": {},
   "outputs": [],
   "source": [
    "def num_parameters_in_hmm(model):  \n",
    "    k = model.means_.shape[0]\n",
    "    d = model.means_.shape[1]\n",
    "    # NOTE: We are using a diagonal covariance matrix\n",
    "    return (k*d)+(k*d)+k+(k**2)"
   ]
  },
  {
   "cell_type": "code",
   "execution_count": 11,
   "metadata": {},
   "outputs": [],
   "source": [
    "def train_optimal_hmm_on_data(data, bic=True, pca_variance_retained=0.99, forced_component_count=None):\n",
    "    \n",
    "    # Apply PCA to dimensionality reduce the data and retain xx% variance\n",
    "    if pca_variance_retained < 1.0 and pca_variance_retained > 0.0:\n",
    "        print(\"\\tApplying pca and retaining {0:.2f}% variance...\".format(pca_variance_retained*100))\n",
    "        pca_model = PCA(pca_variance_retained)\n",
    "        dim_reduced_data = pca_model.fit_transform(data)\n",
    "        print(\"\\t{0} dimensions -> {1} dimensions\".format(data.shape[1], dim_reduced_data.shape[1]))\n",
    "    else:\n",
    "        print(\"Skipping dimensionality reduction...\")\n",
    "        pca_model = None\n",
    "        dim_reduced_data = data\n",
    "    \n",
    "    # Compute BIC/AIC scores for HMM models with # states between 1 and N-1\n",
    "    scores = []\n",
    "    candidate_hmm_models = []\n",
    "    \n",
    "    for n_components in (range(2, data.shape[0]-1) if not forced_component_count else range(forced_component_count, forced_component_count+1)):\n",
    "        \n",
    "        print(\"\\t\\t training hmm with n_components={0}\".format(n_components))\n",
    "\n",
    "        # Train HMM model\n",
    "        candidate_hmm_model = hmm.GaussianHMM(n_components=n_components,\n",
    "                                              covariance_type=\"diag\").fit(dim_reduced_data)\n",
    "        candidate_hmm_models.append(candidate_hmm_model)\n",
    "\n",
    "        # Compute BIC/AIC score\n",
    "        n = dim_reduced_data.shape[0]\n",
    "        k = num_parameters_in_hmm(candidate_hmm_model)\n",
    "        L = candidate_hmm_model.decode(dim_reduced_data)[0]\n",
    "\n",
    "        print(\"\\t\\t\\tn={0}, k={1}, L={2}\".format(n, k, L))\n",
    "\n",
    "        score = (np.log(n)*k - 2*L) if bic else (k - L)\n",
    "        scores.append(score)\n",
    "        print(\"\\t\\t\\tScore={0}\".format(score))\n",
    "        \n",
    "        if len(scores) >= 3:\n",
    "            # Last two increases in number of components yielded worse scores -> exit search\n",
    "            if scores[-1] > scores[-3] and scores[-2] > scores[-3]:\n",
    "                break\n",
    "    \n",
    "    # Select the model with the lowest BIC/AIC score\n",
    "    selected_hmm_model = candidate_hmm_models[np.argmin(scores)]\n",
    "    return selected_hmm_model, pca_model"
   ]
  },
  {
   "cell_type": "code",
   "execution_count": 12,
   "metadata": {},
   "outputs": [],
   "source": [
    "def train_optimal_hmms_together(data_channels, bic=True, pca_variance_retained=0.99):\n",
    "    \n",
    "    # Apply PCA to dimensionality reduce the data and retain xx% variance\n",
    "    print(\"\\tApplying pca and retaining {0:.2f}% variance...\".format(pca_variance_retained*100))\n",
    "    pca_models = []\n",
    "    dim_reduced_data_channels = []\n",
    "    \n",
    "    for data in data_channels:\n",
    "        pca_model = PCA(pca_variance_retained)\n",
    "        dim_reduced_data = pca_model.fit_transform(data)\n",
    "        \n",
    "        pca_models.append(pca_model)\n",
    "        dim_reduced_data_channels.append(dim_reduced_data)\n",
    "        print(\"\\t{0} dimensions -> {1} dimensions\".format(data.shape[1], dim_reduced_data.shape[1]))\n",
    "    \n",
    "    # Compute BIC/AIC scores for HMM models with # states between 1 and N-1\n",
    "    scores = []\n",
    "    candidate_hmm_models = []\n",
    "    \n",
    "    for n_components in range(2, len(data_channels[0])-1):\n",
    "        \n",
    "        print(\"\\t\\t training hmms with n_components={0}\".format(n_components))\n",
    "\n",
    "        # Train HMM model for every data channel\n",
    "        candidate_hmm_models_with_n_components = []\n",
    "        scores_with_n_components = []\n",
    "        for dim_reduced_data in dim_reduced_data_channels:\n",
    "            candidate_hmm_model = hmm.GaussianHMM(n_components=n_components,\n",
    "                                                  covariance_type=\"diag\").fit(dim_reduced_data)\n",
    "            candidate_hmm_models_with_n_components.append(candidate_hmm_model)\n",
    "            \n",
    "            # Compute BIC/AIC score\n",
    "            n = dim_reduced_data.shape[0]\n",
    "            k = num_parameters_in_hmm(candidate_hmm_model)\n",
    "            L = candidate_hmm_model.decode(dim_reduced_data)[0]\n",
    "\n",
    "            print(\"\\t\\t\\t\\tn={0}, k={1}, L={2}\".format(n, k, L))\n",
    "\n",
    "            score = (np.log(n)*k - 2*L) if bic else (k - L)\n",
    "            scores_with_n_components.append(score)\n",
    "            print(\"\\t\\t\\t\\t\\t=> Score={0}\".format(score))\n",
    "        \n",
    "        candidate_hmm_models.append(candidate_hmm_models_with_n_components)\n",
    "        scores.append(np.mean(scores_with_n_components))\n",
    "        print(\"\\t\\t\\tScore={0}\".format(scores[-1]))\n",
    "\n",
    "\n",
    "        if len(scores) >= 3:\n",
    "            # Last two increases in number of components yielded worse scores -> exit search\n",
    "            if scores[-1] > scores[-3] and scores[-2] > scores[-3]:\n",
    "                break\n",
    "                \n",
    "    # Select the model with the lowest BIC/AIC score\n",
    "    selected_hmm_models = candidate_hmm_models[np.argmin(scores)]\n",
    "    return selected_hmm_models, pca_models"
   ]
  },
  {
   "cell_type": "markdown",
   "metadata": {},
   "source": [
    "##### COMBINED EEG BANDS (Alpha+Beta+Delta+Gamma+Theta)"
   ]
  },
  {
   "cell_type": "markdown",
   "metadata": {},
   "source": [
    "Full data."
   ]
  },
  {
   "cell_type": "code",
   "execution_count": null,
   "metadata": {},
   "outputs": [],
   "source": [
    "combined_alpha_beta_delta_gamma_theta_hmm_model = joblib.load(\"output/hmm/models/[hmm]-[alpha_beta_delta_gamma_theta]-[{0}].pkl\".format(\"combined\"))\n",
    "combined_alpha_beta_delta_gamma_theta_pca_model = joblib.load(\"output/hmm/models/[pca]-[alpha_beta_delta_gamma_theta]-[{0}].pkl\".format(\"combined\"))"
   ]
  },
  {
   "cell_type": "raw",
   "metadata": {},
   "source": [
    "combined_alpha_beta_delta_gamma_theta_hmm_model, combined_alpha_beta_delta_gamma_theta_pca_model = train_optimal_hmm_on_data(alpha_beta_delta_gamma_theta_matrix, pca_variance_retained=0.9)\n",
    "joblib.dump(combined_alpha_beta_delta_gamma_theta_hmm_model, \"output/hmm/models/[hmm]-[alpha_beta_delta_gamma_theta]-[{0}].pkl\".format(\"combined\"))\n",
    "joblib.dump(combined_alpha_beta_delta_gamma_theta_pca_model, \"output/hmm/models/[pca]-[alpha_beta_delta_gamma_theta]-[{0}].pkl\".format(\"combined\"))"
   ]
  },
  {
   "cell_type": "markdown",
   "metadata": {},
   "source": [
    "Training data."
   ]
  },
  {
   "cell_type": "code",
   "execution_count": 23,
   "metadata": {},
   "outputs": [],
   "source": [
    "combined_alpha_beta_delta_gamma_theta_hmm_model_train = joblib.load(\"output/hmm/models/[hmm]-[alpha_beta_delta_gamma_theta]-[{0}]-train.pkl\".format(\"combined\"))\n",
    "combined_alpha_beta_delta_gamma_theta_pca_model_train = joblib.load(\"output/hmm/models/[pca]-[alpha_beta_delta_gamma_theta]-[{0}]-train.pkl\".format(\"combined\"))"
   ]
  },
  {
   "cell_type": "raw",
   "metadata": {},
   "source": [
    "combined_alpha_beta_delta_gamma_theta_hmm_model_train, combined_alpha_beta_delta_gamma_theta_pca_model_train = train_optimal_hmm_on_data(alpha_beta_delta_gamma_theta_matrix[train_idxs], pca_variance_retained=0.9)\n",
    "joblib.dump(combined_alpha_beta_delta_gamma_theta_hmm_model_train, \"output/hmm/models/[hmm]-[alpha_beta_delta_gamma_theta]-[{0}]-train.pkl\".format(\"combined\"))\n",
    "joblib.dump(combined_alpha_beta_delta_gamma_theta_pca_model_train, \"output/hmm/models/[pca]-[alpha_beta_delta_gamma_theta]-[{0}]-train.pkl\".format(\"combined\"))"
   ]
  },
  {
   "cell_type": "markdown",
   "metadata": {},
   "source": [
    "##### COMBINED EEG BANDS (Broad)"
   ]
  },
  {
   "cell_type": "markdown",
   "metadata": {},
   "source": [
    "Full data."
   ]
  },
  {
   "cell_type": "code",
   "execution_count": null,
   "metadata": {},
   "outputs": [],
   "source": [
    "broad_hmm_model = joblib.load(\"output/hmm/models/[hmm]-[broad].pkl\")\n",
    "broad_pca_model = joblib.load(\"output/hmm/models/[pca]-[broad].pkl\")"
   ]
  },
  {
   "cell_type": "raw",
   "metadata": {},
   "source": [
    "broad_hmm_model, broad_pca_model = train_optimal_hmm_on_data(all_subjects_all_trials_connectome_upper_triangular_flattened['broad'],\n",
    "                                                             pca_variance_retained=0.9)\n",
    "joblib.dump(broad_hmm_model, \"output/hmm/models/[hmm]-[broad].pkl\")\n",
    "joblib.dump(broad_pca_model, \"output/hmm/models/[pca]-[broad].pkl\")"
   ]
  },
  {
   "cell_type": "markdown",
   "metadata": {},
   "source": [
    "Training data."
   ]
  },
  {
   "cell_type": "code",
   "execution_count": 15,
   "metadata": {},
   "outputs": [],
   "source": [
    "broad_hmm_model_train = joblib.load(\"output/hmm/models/[hmm]-[broad]-train.pkl\")\n",
    "broad_pca_model_train = joblib.load(\"output/hmm/models/[pca]-[broad]-train.pkl\")"
   ]
  },
  {
   "cell_type": "raw",
   "metadata": {},
   "source": [
    "broad_hmm_model_train, broad_pca_model_train = train_optimal_hmm_on_data(all_subjects_all_trials_connectome_upper_triangular_flattened['broad'][train_idxs],\n",
    "                                                                         pca_variance_retained=0.9)\n",
    "joblib.dump(broad_hmm_model_train, \"output/hmm/models/[hmm]-[broad]-train.pkl\")\n",
    "joblib.dump(broad_pca_model_train, \"output/hmm/models/[pca]-[broad]-train.pkl\")"
   ]
  },
  {
   "cell_type": "markdown",
   "metadata": {},
   "source": [
    "#####  COMBINED MODALITY HMM MODEL (fMRI+Alpha+Beta+Delta+Gamma+Theta)"
   ]
  },
  {
   "cell_type": "markdown",
   "metadata": {},
   "source": [
    "Full data."
   ]
  },
  {
   "cell_type": "code",
   "execution_count": null,
   "metadata": {},
   "outputs": [],
   "source": [
    "combined_fmri_alpha_beta_delta_gamma_theta_hmm_model = joblib.load(\"output/hmm/models/[hmm]-[fmri_alpha_beta_delta_gamma_theta]-[{0}].pkl\".format(\"combined\"))\n",
    "combined_fmri_alpha_beta_delta_gamma_theta_pca_model = joblib.load(\"output/hmm/models/[pca]-[fmri_alpha_beta_delta_gamma_theta]-[{0}].pkl\".format(\"combined\"))"
   ]
  },
  {
   "cell_type": "raw",
   "metadata": {},
   "source": [
    "combined_fmri_alpha_beta_delta_gamma_theta_hmm_model, combined_fmri_alpha_beta_delta_gamma_theta_pca_model = train_optimal_hmm_on_data(fmri_alpha_beta_delta_gamma_theta_matrix, pca_variance_retained=0.90)\n",
    "joblib.dump(combined_fmri_alpha_beta_delta_gamma_theta_hmm_model, \"output/hmm/models/[hmm]-[fmri_alpha_beta_delta_gamma_theta]-[{0}].pkl\".format(\"combined\"))\n",
    "joblib.dump(combined_fmri_alpha_beta_delta_gamma_theta_pca_model, \"output/hmm/models/[pca]-[fmri_alpha_beta_delta_gamma_theta]-[{0}].pkl\".format(\"combined\"))"
   ]
  },
  {
   "cell_type": "markdown",
   "metadata": {},
   "source": [
    "Training data."
   ]
  },
  {
   "cell_type": "code",
   "execution_count": 20,
   "metadata": {},
   "outputs": [],
   "source": [
    "combined_fmri_alpha_beta_delta_gamma_theta_hmm_model_train = joblib.load(\"output/hmm/models/[hmm]-[fmri_alpha_beta_delta_gamma_theta]-[{0}]-train.pkl\".format(\"combined\"))\n",
    "combined_fmri_alpha_beta_delta_gamma_theta_pca_model_train = joblib.load(\"output/hmm/models/[pca]-[fmri_alpha_beta_delta_gamma_theta]-[{0}]-train.pkl\".format(\"combined\"))"
   ]
  },
  {
   "cell_type": "raw",
   "metadata": {},
   "source": [
    "combined_fmri_alpha_beta_delta_gamma_theta_hmm_model_train, combined_fmri_alpha_beta_delta_gamma_theta_pca_model_train = train_optimal_hmm_on_data(fmri_alpha_beta_delta_gamma_theta_matrix[train_idxs], pca_variance_retained=0.90)\n",
    "joblib.dump(combined_fmri_alpha_beta_delta_gamma_theta_hmm_model_train, \"output/hmm/models/[hmm]-[fmri_alpha_beta_delta_gamma_theta]-[{0}]-train.pkl\".format(\"combined\"))\n",
    "joblib.dump(combined_fmri_alpha_beta_delta_gamma_theta_pca_model_train, \"output/hmm/models/[pca]-[fmri_alpha_beta_delta_gamma_theta]-[{0}]-train.pkl\".format(\"combined\"))"
   ]
  },
  {
   "cell_type": "markdown",
   "metadata": {},
   "source": [
    "#####  COMBINED MODALITY HMM MODEL (fMRI+Broad)"
   ]
  },
  {
   "cell_type": "markdown",
   "metadata": {},
   "source": [
    "Full data."
   ]
  },
  {
   "cell_type": "code",
   "execution_count": null,
   "metadata": {},
   "outputs": [],
   "source": [
    "combined_fmri_broad_hmm_model = joblib.load(\"output/hmm/models/[hmm]-[fmri_broad]-[{0}].pkl\".format(\"combined\"))\n",
    "combined_fmri_broad_pca_model = joblib.load(\"output/hmm/models/[pca]-[fmri_broad]-[{0}].pkl\".format(\"combined\"))"
   ]
  },
  {
   "cell_type": "raw",
   "metadata": {},
   "source": [
    "combined_fmri_broad_hmm_model, combined_fmri_broad_pca_model = train_optimal_hmm_on_data(fmri_broad_matrix, pca_variance_retained=0.90)\n",
    "joblib.dump(combined_fmri_broad_hmm_model, \"output/hmm/models/[hmm]-[fmri_broad]-[{0}].pkl\".format(\"combined\"))\n",
    "joblib.dump(combined_fmri_broad_pca_model, \"output/hmm/models/[pca]-[fmri_broad]-[{0}].pkl\".format(\"combined\"))"
   ]
  },
  {
   "cell_type": "markdown",
   "metadata": {},
   "source": [
    "Training data."
   ]
  },
  {
   "cell_type": "code",
   "execution_count": 26,
   "metadata": {},
   "outputs": [],
   "source": [
    "combined_fmri_broad_hmm_model_train = joblib.load(\"output/hmm/models/[hmm]-[fmri_broad]-[{0}]-train.pkl\".format(\"combined\"))\n",
    "combined_fmri_broad_pca_model_train = joblib.load(\"output/hmm/models/[pca]-[fmri_broad]-[{0}]-train.pkl\".format(\"combined\"))"
   ]
  },
  {
   "cell_type": "code",
   "execution_count": 25,
   "metadata": {
    "scrolled": true
   },
   "outputs": [
    {
     "name": "stdout",
     "output_type": "stream",
     "text": [
      "\tApplying pca and retaining 90.00% variance...\n",
      "\t4692 dimensions -> 466 dimensions\n",
      "\t\t training hmm with n_components=2\n",
      "\t\t\tn=16115, k=1870, L=-6714765.208506278\n",
      "\t\t\tScore=13447646.052847803\n",
      "\t\t training hmm with n_components=3\n",
      "\t\t\tn=16115, k=2808, L=-6697689.427965185\n",
      "\t\t\tScore=13422581.372200621\n",
      "\t\t training hmm with n_components=4\n",
      "\t\t\tn=16115, k=3748, L=-6685551.724709815\n",
      "\t\t\tScore=13407412.221136479\n",
      "\t\t training hmm with n_components=5\n",
      "\t\t\tn=16115, k=4690, L=-6675288.471921882\n",
      "\t\t\tScore=13396011.346018793\n",
      "\t\t training hmm with n_components=6\n",
      "\t\t\tn=16115, k=5634, L=-6663751.47386577\n",
      "\t\t\tScore=13382082.355376342\n",
      "\t\t training hmm with n_components=7\n",
      "\t\t\tn=16115, k=6580, L=-6652728.233078584\n",
      "\t\t\tScore=13369200.25428333\n",
      "\t\t training hmm with n_components=8\n",
      "\t\t\tn=16115, k=7528, L=-6638372.291073946\n",
      "\t\t\tScore=13349672.125767004\n",
      "\t\t training hmm with n_components=9\n",
      "\t\t\tn=16115, k=8478, L=-6626250.173873647\n",
      "\t\t\tScore=13334631.02187094\n",
      "\t\t training hmm with n_components=10\n",
      "\t\t\tn=16115, k=9430, L=-6615344.274538381\n",
      "\t\t\tScore=13322041.728716535\n",
      "\t\t training hmm with n_components=11\n",
      "\t\t\tn=16115, k=10384, L=-6602659.29058154\n",
      "\t\t\tScore=13305913.641330568\n",
      "\t\t training hmm with n_components=12\n",
      "\t\t\tn=16115, k=11340, L=-6591718.913318081\n",
      "\t\t\tScore=13293294.142342951\n",
      "\t\t training hmm with n_components=13\n",
      "\t\t\tn=16115, k=12298, L=-6582605.262099008\n",
      "\t\t\tScore=13284347.470455697\n",
      "\t\t training hmm with n_components=14\n",
      "\t\t\tn=16115, k=13258, L=-6573880.9134857785\n",
      "\t\t\tScore=13276198.778791718\n",
      "\t\t training hmm with n_components=15\n",
      "\t\t\tn=16115, k=14220, L=-6556792.9847974535\n",
      "\t\t\tScore=13251342.301989136\n",
      "\t\t training hmm with n_components=16\n",
      "\t\t\tn=16115, k=15184, L=-6545670.218474482\n",
      "\t\t\tScore=13238435.52492885\n",
      "\t\t training hmm with n_components=17\n",
      "\t\t\tn=16115, k=16150, L=-6534129.10865777\n",
      "\t\t\tScore=13224711.43589267\n",
      "\t\t training hmm with n_components=18\n",
      "\t\t\tn=16115, k=17118, L=-6523156.9201037325\n",
      "\t\t\tScore=13212144.56439343\n",
      "\t\t training hmm with n_components=19\n",
      "\t\t\tn=16115, k=18088, L=-6514138.283887726\n",
      "\t\t\tScore=13203504.172581838\n",
      "\t\t training hmm with n_components=20\n",
      "\t\t\tn=16115, k=19060, L=-6498906.170535745\n",
      "\t\t\tScore=13182456.201509885\n",
      "\t\t training hmm with n_components=21\n",
      "\t\t\tn=16115, k=20034, L=-6484937.240759579\n",
      "\t\t\tScore=13163953.972601155\n",
      "\t\t training hmm with n_components=22\n",
      "\t\t\tn=16115, k=21010, L=-6476842.363637391\n",
      "\t\t\tScore=13157219.224011963\n",
      "\t\t training hmm with n_components=23\n",
      "\t\t\tn=16115, k=21988, L=-6466464.922268188\n",
      "\t\t\tScore=13145938.721940335\n",
      "\t\t training hmm with n_components=24\n",
      "\t\t\tn=16115, k=22968, L=-6454919.563963265\n",
      "\t\t\tScore=13132341.761008853\n",
      "\t\t training hmm with n_components=25\n",
      "\t\t\tn=16115, k=23950, L=-6439894.078260349\n",
      "\t\t\tScore=13111803.920292975\n",
      "\t\t training hmm with n_components=26\n",
      "\t\t\tn=16115, k=24934, L=-6428258.767183153\n",
      "\t\t\tScore=13098065.803840123\n",
      "\t\t training hmm with n_components=27\n",
      "\t\t\tn=16115, k=25920, L=-6417235.397604008\n",
      "\t\t\tScore=13085570.945394965\n",
      "\t\t training hmm with n_components=28\n",
      "\t\t\tn=16115, k=26908, L=-6403541.849728709\n",
      "\t\t\tScore=13067755.105369085\n",
      "\t\t training hmm with n_components=29\n",
      "\t\t\tn=16115, k=27898, L=-6397084.061713199\n",
      "\t\t\tScore=13064430.160074372\n",
      "\t\t training hmm with n_components=30\n",
      "\t\t\tn=16115, k=28890, L=-6370774.224441776\n",
      "\t\t\tScore=13021420.491279421\n",
      "\t\t training hmm with n_components=31\n",
      "\t\t\tn=16115, k=29884, L=-6360410.615119997\n",
      "\t\t\tScore=13010322.653395347\n",
      "\t\t training hmm with n_components=32\n",
      "\t\t\tn=16115, k=30880, L=-6355104.819823953\n",
      "\t\t\tScore=13009359.818574332\n",
      "\t\t training hmm with n_components=33\n",
      "\t\t\tn=16115, k=31878, L=-6333372.9041509805\n",
      "\t\t\tScore=12975564.118011048\n",
      "\t\t training hmm with n_components=34\n",
      "\t\t\tn=16115, k=32878, L=-6329174.205551821\n",
      "\t\t\tScore=12976854.226606978\n",
      "\t\t training hmm with n_components=35\n",
      "\t\t\tn=16115, k=33880, L=-6311648.714429333\n",
      "\t\t\tScore=12951510.12516784\n",
      "\t\t training hmm with n_components=36\n",
      "\t\t\tn=16115, k=34884, L=-6297351.485243084\n",
      "\t\t\tScore=12932641.92261277\n",
      "\t\t training hmm with n_components=37\n",
      "\t\t\tn=16115, k=35890, L=-6297104.531149014\n",
      "\t\t\tScore=12941893.645253643\n",
      "\t\t training hmm with n_components=38\n",
      "\t\t\tn=16115, k=36898, L=-6269515.002929433\n",
      "\t\t\tScore=12896479.594655085\n",
      "\t\t training hmm with n_components=39\n",
      "\t\t\tn=16115, k=37908, L=-6271240.475617656\n",
      "\t\t\tScore=12909714.920883723\n",
      "\t\t training hmm with n_components=40\n",
      "\t\t\tn=16115, k=38920, L=-6253736.091172455\n",
      "\t\t\tScore=12884509.907857101\n",
      "\t\t training hmm with n_components=41\n",
      "\t\t\tn=16115, k=39934, L=-6241248.461761287\n",
      "\t\t\tScore=12869357.779910136\n",
      "\t\t training hmm with n_components=42\n",
      "\t\t\tn=16115, k=40950, L=-6231059.119743421\n",
      "\t\t\tScore=12858821.60176136\n",
      "\t\t training hmm with n_components=43\n",
      "\t\t\tn=16115, k=41968, L=-6214512.422815294\n",
      "\t\t\tScore=12835590.088803653\n",
      "\t\t training hmm with n_components=44\n",
      "\t\t\tn=16115, k=42988, L=-6208092.1647850685\n",
      "\t\t\tScore=12832630.828653336\n",
      "\t\t training hmm with n_components=45\n",
      "\t\t\tn=16115, k=44010, L=-6188811.340940321\n",
      "\t\t\tScore=12803969.811885564\n",
      "\t\t training hmm with n_components=46\n",
      "\t\t\tn=16115, k=45034, L=-6181888.5175639335\n",
      "\t\t\tScore=12800044.171066102\n",
      "\t\t training hmm with n_components=47\n",
      "\t\t\tn=16115, k=46060, L=-6165299.245975105\n",
      "\t\t\tScore=12776805.008833343\n",
      "\t\t training hmm with n_components=48\n",
      "\t\t\tn=16115, k=47088, L=-6156174.86581844\n",
      "\t\t\tScore=12768515.004476503\n",
      "\t\t training hmm with n_components=49\n",
      "\t\t\tn=16115, k=48118, L=-6150268.120891884\n",
      "\t\t\tScore=12766679.645591468\n",
      "\t\t training hmm with n_components=50\n",
      "\t\t\tn=16115, k=49150, L=-6126289.808070085\n",
      "\t\t\tScore=12728720.525927534\n",
      "\t\t training hmm with n_components=51\n",
      "\t\t\tn=16115, k=50184, L=-6115441.809576318\n",
      "\t\t\tScore=12717041.409931254\n",
      "\t\t training hmm with n_components=52\n",
      "\t\t\tn=16115, k=51220, L=-6112555.280290342\n",
      "\t\t\tScore=12721304.607362146\n",
      "\t\t training hmm with n_components=53\n",
      "\t\t\tn=16115, k=52258, L=-6105844.151384411\n",
      "\t\t\tScore=12717937.980564715\n"
     ]
    },
    {
     "data": {
      "text/plain": [
       "['output/hmm/models/[pca]-[fmri_broad]-[combined]-train.pkl']"
      ]
     },
     "execution_count": 25,
     "metadata": {},
     "output_type": "execute_result"
    }
   ],
   "source": [
    "combined_fmri_broad_hmm_model_train, combined_fmri_broad_pca_model_train = train_optimal_hmm_on_data(fmri_broad_matrix[train_idxs], pca_variance_retained=0.90)\n",
    "joblib.dump(combined_fmri_broad_hmm_model_train, \"output/hmm/models/[hmm]-[fmri_broad]-[{0}]-train.pkl\".format(\"combined\"))\n",
    "joblib.dump(combined_fmri_broad_pca_model_train, \"output/hmm/models/[pca]-[fmri_broad]-[{0}]-train.pkl\".format(\"combined\"))"
   ]
  },
  {
   "cell_type": "markdown",
   "metadata": {},
   "source": [
    "##### SEPARATE EEG BANDS (Alpha+Beta+Delta+Gamma+Theta HMMs Trained Together)"
   ]
  },
  {
   "cell_type": "markdown",
   "metadata": {},
   "source": [
    "Full data."
   ]
  },
  {
   "cell_type": "code",
   "execution_count": null,
   "metadata": {},
   "outputs": [],
   "source": [
    "alpha_beta_delta_gamma_theta_hmm_models = [joblib.load(\"output/hmm/models/[hmm]-[alpha_beta_delta_gamma_theta]-[{0}].pkl\".format(k)) for k in ['alpha', 'beta', 'delta', 'gamma', 'theta']]\n",
    "alpha_beta_delta_gamma_theta_pca_models = [joblib.load(\"output/hmm/models/[pca]-[alpha_beta_delta_gamma_theta]-[{0}].pkl\".format(k)) for k in ['alpha', 'beta', 'delta', 'gamma', 'theta']]"
   ]
  },
  {
   "cell_type": "raw",
   "metadata": {},
   "source": [
    "alpha_beta_delta_gamma_theta_hmm_models, alpha_beta_delta_gamma_theta_pca_models = train_optimal_hmms_together([\n",
    "    all_subjects_all_trials_connectome_upper_triangular_flattened['alpha'],\n",
    "    all_subjects_all_trials_connectome_upper_triangular_flattened['beta'],\n",
    "    all_subjects_all_trials_connectome_upper_triangular_flattened['delta'],\n",
    "    all_subjects_all_trials_connectome_upper_triangular_flattened['gamma'],\n",
    "    all_subjects_all_trials_connectome_upper_triangular_flattened['theta']\n",
    "], pca_variance_retained=0.9)\n",
    "\n",
    "for k, hmm_model, pca_model in zip(['alpha', 'beta', 'delta', 'gamma', 'theta'], alpha_beta_delta_gamma_theta_hmm_models, alpha_beta_delta_gamma_theta_pca_models):\n",
    "    joblib.dump(hmm_model, \"output/hmm/models/[hmm]-[alpha_beta_delta_gamma_theta]-[{0}].pkl\".format(k))\n",
    "    joblib.dump(pca_model, \"output/hmm/models/[pca]-[alpha_beta_delta_gamma_theta]-[{0}].pkl\".format(k))"
   ]
  },
  {
   "cell_type": "markdown",
   "metadata": {},
   "source": [
    "Training data."
   ]
  },
  {
   "cell_type": "code",
   "execution_count": 29,
   "metadata": {},
   "outputs": [],
   "source": [
    "alpha_beta_delta_gamma_theta_hmm_models_train = [joblib.load(\"output/hmm/models/[hmm]-[alpha_beta_delta_gamma_theta]-[{0}]-train.pkl\".format(k)) for k in ['alpha', 'beta', 'delta', 'gamma', 'theta']]\n",
    "alpha_beta_delta_gamma_theta_pca_models_train = [joblib.load(\"output/hmm/models/[pca]-[alpha_beta_delta_gamma_theta]-[{0}]-train.pkl\".format(k)) for k in ['alpha', 'beta', 'delta', 'gamma', 'theta']]"
   ]
  },
  {
   "cell_type": "raw",
   "metadata": {},
   "source": [
    "alpha_beta_delta_gamma_theta_hmm_models_train, alpha_beta_delta_gamma_theta_pca_models_train = train_optimal_hmms_together([\n",
    "    all_subjects_all_trials_connectome_upper_triangular_flattened['alpha'][train_idxs],\n",
    "    all_subjects_all_trials_connectome_upper_triangular_flattened['beta'][train_idxs],\n",
    "    all_subjects_all_trials_connectome_upper_triangular_flattened['delta'][train_idxs],\n",
    "    all_subjects_all_trials_connectome_upper_triangular_flattened['gamma'][train_idxs],\n",
    "    all_subjects_all_trials_connectome_upper_triangular_flattened['theta'][train_idxs]\n",
    "], pca_variance_retained=0.9)\n",
    "\n",
    "for k, hmm_model, pca_model in zip(['alpha', 'beta', 'delta', 'gamma', 'theta'], alpha_beta_delta_gamma_theta_hmm_models_train, alpha_beta_delta_gamma_theta_pca_models_train):\n",
    "    joblib.dump(hmm_model, \"output/hmm/models/[hmm]-[alpha_beta_delta_gamma_theta]-[{0}]-train.pkl\".format(k))\n",
    "    joblib.dump(pca_model, \"output/hmm/models/[pca]-[alpha_beta_delta_gamma_theta]-[{0}]-train.pkl\".format(k))"
   ]
  },
  {
   "cell_type": "markdown",
   "metadata": {},
   "source": [
    "##### SEPARATE MODALITIES (fMRI+Alpha+Beta+Delta+Gamma+Theta HMMs Trained Together)"
   ]
  },
  {
   "cell_type": "markdown",
   "metadata": {},
   "source": [
    "Full data."
   ]
  },
  {
   "cell_type": "code",
   "execution_count": null,
   "metadata": {},
   "outputs": [],
   "source": [
    "fmri_alpha_beta_delta_gamma_theta_pca_models = []\n",
    "fmri_alpha_beta_delta_gamma_theta_hmm_models = []\n",
    "\n",
    "for k in ['fmri', 'alpha', 'beta', 'delta', 'gamma', 'theta']:\n",
    "    fmri_alpha_beta_delta_gamma_theta_pca_models.append(joblib.load(\"output/hmm/models/[pca]-[fmri_alpha_beta_delta_gamma_theta]-[{0}].pkl\".format(k)))\n",
    "    fmri_alpha_beta_delta_gamma_theta_hmm_models.append(joblib.load(\"output/hmm/models/[hmm]-[fmri_alpha_beta_delta_gamma_theta]-[{0}].pkl\".format(k)))"
   ]
  },
  {
   "cell_type": "raw",
   "metadata": {},
   "source": [
    "fmri_alpha_beta_delta_gamma_theta_hmm_models, fmri_alpha_beta_delta_gamma_theta_pca_models = train_optimal_hmms_together([\n",
    "    all_subjects_all_trials_connectome_upper_triangular_flattened['fmri'],\n",
    "    all_subjects_all_trials_connectome_upper_triangular_flattened['alpha'],\n",
    "    all_subjects_all_trials_connectome_upper_triangular_flattened['beta'],\n",
    "    all_subjects_all_trials_connectome_upper_triangular_flattened['delta'],\n",
    "    all_subjects_all_trials_connectome_upper_triangular_flattened['gamma'],\n",
    "    all_subjects_all_trials_connectome_upper_triangular_flattened['theta']\n",
    "], pca_variance_retained=0.9)\n",
    "\n",
    "for k, hmm_model, pca_model in zip(['fmri', 'alpha', 'beta', 'delta', 'gamma', 'theta'], fmri_alpha_beta_delta_gamma_theta_hmm_models, fmri_alpha_beta_delta_gamma_theta_pca_models):\n",
    "    joblib.dump(hmm_model, \"output/hmm/models[hmm]-[fmri_alpha_beta_delta_gamma_theta]-[{0}].pkl\".format(k))\n",
    "    joblib.dump(pca_model, \"output/hmm/models/[pca]-[fmri_alpha_beta_delta_gamma_theta]-[{0}].pkl\".format(k))"
   ]
  },
  {
   "cell_type": "markdown",
   "metadata": {},
   "source": [
    "Training data."
   ]
  },
  {
   "cell_type": "code",
   "execution_count": 33,
   "metadata": {},
   "outputs": [],
   "source": [
    "fmri_alpha_beta_delta_gamma_theta_pca_models_train = []\n",
    "fmri_alpha_beta_delta_gamma_theta_hmm_models_train = []\n",
    "\n",
    "for k in ['fmri', 'alpha', 'beta', 'delta', 'gamma', 'theta']:\n",
    "    fmri_alpha_beta_delta_gamma_theta_pca_models_train.append(joblib.load(\"output/hmm/models/[pca]-[fmri_alpha_beta_delta_gamma_theta]-[{0}]-train.pkl\".format(k)))\n",
    "    fmri_alpha_beta_delta_gamma_theta_hmm_models_train.append(joblib.load(\"output/hmm/models/[hmm]-[fmri_alpha_beta_delta_gamma_theta]-[{0}]-train.pkl\".format(k)))"
   ]
  },
  {
   "cell_type": "raw",
   "metadata": {},
   "source": [
    "fmri_alpha_beta_delta_gamma_theta_hmm_models_train, fmri_alpha_beta_delta_gamma_theta_pca_models_train = train_optimal_hmms_together([\n",
    "    all_subjects_all_trials_connectome_upper_triangular_flattened['fmri'][train_idxs],\n",
    "    all_subjects_all_trials_connectome_upper_triangular_flattened['alpha'][train_idxs],\n",
    "    all_subjects_all_trials_connectome_upper_triangular_flattened['beta'][train_idxs],\n",
    "    all_subjects_all_trials_connectome_upper_triangular_flattened['delta'][train_idxs],\n",
    "    all_subjects_all_trials_connectome_upper_triangular_flattened['gamma'][train_idxs],\n",
    "    all_subjects_all_trials_connectome_upper_triangular_flattened['theta'][train_idxs]\n",
    "], pca_variance_retained=0.9)\n",
    "\n",
    "for k, hmm_model, pca_model in zip(['fmri', 'alpha', 'beta', 'delta', 'gamma', 'theta'], fmri_alpha_beta_delta_gamma_theta_hmm_models_train, fmri_alpha_beta_delta_gamma_theta_pca_models_train):\n",
    "    joblib.dump(hmm_model, \"output/hmm/models/[hmm]-[fmri_alpha_beta_delta_gamma_theta]-[{0}]-train.pkl\".format(k))\n",
    "    joblib.dump(pca_model, \"output/hmm/models/[pca]-[fmri_alpha_beta_delta_gamma_theta]-[{0}]-train.pkl\".format(k))"
   ]
  },
  {
   "cell_type": "markdown",
   "metadata": {},
   "source": [
    "##### SEPARATE MODALITIES (fMRI+Broad HMMs Trained Together)"
   ]
  },
  {
   "cell_type": "markdown",
   "metadata": {},
   "source": [
    "Full data."
   ]
  },
  {
   "cell_type": "code",
   "execution_count": null,
   "metadata": {},
   "outputs": [],
   "source": [
    "fmri_broad_pca_models = []\n",
    "fmri_broad_hmm_models = []\n",
    "\n",
    "for k in ['fmri', 'broad']:\n",
    "    fmri_broad_pca_models.append(joblib.load(\"output/hmm/models/[pca]-[fmri_broad]-[{0}].pkl\".format(k)))\n",
    "    fmri_broad_hmm_models.append(joblib.load(\"output/hmm/models/[hmm]-[fmri_broad]-[{0}].pkl\".format(k)))"
   ]
  },
  {
   "cell_type": "raw",
   "metadata": {},
   "source": [
    "fmri_broad_hmm_models, fmri_broad_pca_models = train_optimal_hmms_together([\n",
    "    all_subjects_all_trials_connectome_upper_triangular_flattened['fmri'],\n",
    "    all_subjects_all_trials_connectome_upper_triangular_flattened['broad'],\n",
    "], pca_variance_retained=0.9)\n",
    "\n",
    "for k, hmm_model, pca_model in zip(['fmri', 'broad'], fmri_broad_hmm_models, fmri_broad_pca_models):\n",
    "    joblib.dump(hmm_model, \"output/hmm/models/[hmm]-[fmri_broad]-[{0}].pkl\".format(k))\n",
    "    joblib.dump(pca_model, \"output/hmm/models/[pca]-[fmri_broad]-[{0}].pkl\".format(k))"
   ]
  },
  {
   "cell_type": "markdown",
   "metadata": {},
   "source": [
    "Training data."
   ]
  },
  {
   "cell_type": "code",
   "execution_count": 36,
   "metadata": {},
   "outputs": [],
   "source": [
    "fmri_broad_pca_models_train = []\n",
    "fmri_broad_hmm_models_train = []\n",
    "\n",
    "for k in ['fmri', 'broad']:\n",
    "    fmri_broad_pca_models_train.append(joblib.load(\"output/hmm/models/[pca]-[fmri_broad]-[{0}]-train.pkl\".format(k)))\n",
    "    fmri_broad_hmm_models_train.append(joblib.load(\"output/hmm/models/[hmm]-[fmri_broad]-[{0}]-train.pkl\".format(k)))"
   ]
  },
  {
   "cell_type": "raw",
   "metadata": {},
   "source": [
    "fmri_broad_hmm_models_train, fmri_broad_pca_models_train = train_optimal_hmms_together([\n",
    "    all_subjects_all_trials_connectome_upper_triangular_flattened['fmri'][train_idxs],\n",
    "    all_subjects_all_trials_connectome_upper_triangular_flattened['broad'][train_idxs],\n",
    "], pca_variance_retained=0.9)\n",
    "\n",
    "for k, hmm_model, pca_model in zip(['fmri', 'broad'], fmri_broad_hmm_models_train, fmri_broad_pca_models_train):\n",
    "    joblib.dump(hmm_model, \"output/hmm/models/[hmm]-[fmri_broad]-[{0}]-train.pkl\".format(k))\n",
    "    joblib.dump(pca_model, \"output/hmm/models/[pca]-[fmri_broad]-[{0}]-train.pkl\".format(k))"
   ]
  },
  {
   "cell_type": "markdown",
   "metadata": {},
   "source": [
    "## Spatial Representation of Hidden States"
   ]
  },
  {
   "cell_type": "code",
   "execution_count": null,
   "metadata": {},
   "outputs": [],
   "source": [
    "def plot_spatial_representation(hmm_models, pca_models, modalities, title, path):\n",
    "    num_models_to_plot = len(hmm_models)\n",
    "    num_states_to_plot = min(min([hmm_model.means_.shape[0] for hmm_model in hmm_models]), 10)\n",
    "    subplot_idx = 1\n",
    "    \n",
    "    fig = plt.figure(figsize=(40*num_states_to_plot, 10+30*num_models_to_plot))\n",
    "    fig.suptitle(title, fontsize=50)\n",
    "    subplot_idx = 1\n",
    "    \n",
    "    for hmm_model, pca_model, modality in zip(hmm_models, pca_models, modalities):\n",
    "        for state_idx in range(0, num_states_to_plot):\n",
    "\n",
    "            # Add empty plot if necessary\n",
    "            if hmm_model.means_.shape[0] <= state_idx:\n",
    "                ax = fig.add_subplot(num_models_to_plot, num_states_to_plot, subplot_idx)\n",
    "                subplot_idx += 1\n",
    "                continue\n",
    "                  \n",
    "            # Extract connectome representation of the hidden state\n",
    "            hidden_state = np.zeros((num_regions, num_regions))\n",
    "            hidden_state[upper_triangular_including_diagonal_idxs] = pca_model.inverse_transform(hmm_model.means_[state_idx])\n",
    "            hidden_state[lower_triangular_idxs] = hidden_state.T[lower_triangular_idxs]\n",
    "\n",
    "            # Plot connectome representation of the hidden state\n",
    "            ax = fig.add_subplot(num_models_to_plot, num_states_to_plot, subplot_idx)\n",
    "            DesikanAtlas.plot(connectome=hidden_state,\n",
    "                              title='{0} HiddenState-{1} Connectome'.format(modality, state_idx+1),\n",
    "                              axes=ax)\n",
    "            subplot_idx += 1\n",
    "\n",
    "    plt.savefig(path)\n",
    "    plt.close()"
   ]
  },
  {
   "cell_type": "code",
   "execution_count": null,
   "metadata": {},
   "outputs": [],
   "source": [
    "def plot_combined_spatial_representation(combined_hmm_model, combined_pca_model, modalities, modality_feature_idxs, title, path):\n",
    "    num_modalities_to_plot = len(modalities)\n",
    "    num_states_to_plot = min(combined_hmm_model.means_.shape[0], 10)\n",
    "    \n",
    "    fig = plt.figure(figsize=(40*num_states_to_plot, 10+30*num_modalities_to_plot))\n",
    "    fig.suptitle(title, fontsize=50)\n",
    "    subplot_idx = 1\n",
    "\n",
    "\n",
    "    for modality, feature_idxs in zip(modalities, modality_feature_idxs):\n",
    "        for state_idx in range(0, num_states_to_plot):\n",
    "\n",
    "            features = combined_pca_model.inverse_transform(combined_hmm_model.means_[state_idx])\n",
    "                  \n",
    "            # Extract connectome representation of the hidden state\n",
    "            hidden_state = np.zeros((num_regions, num_regions))\n",
    "            hidden_state[upper_triangular_including_diagonal_idxs] = features[feature_idxs]\n",
    "            hidden_state[lower_triangular_idxs] = hidden_state.T[lower_triangular_idxs]\n",
    "\n",
    "            # Plot connectome representation of the hidden state\n",
    "            ax = fig.add_subplot(num_modalities_to_plot, num_states_to_plot, subplot_idx)\n",
    "            DesikanAtlas.plot(connectome=hidden_state,\n",
    "                              title='{0} HiddenState-{1} Connectome'.format(modality, state_idx+1),\n",
    "                              axes=ax)\n",
    "            subplot_idx += 1\n",
    "\n",
    "    plt.savefig(path)\n",
    "    plt.close()"
   ]
  },
  {
   "cell_type": "markdown",
   "metadata": {},
   "source": [
    "##### COMBINED EEG BANDS (Alpha+Beta+Delta+Gamma+Theta)"
   ]
  },
  {
   "cell_type": "code",
   "execution_count": null,
   "metadata": {},
   "outputs": [],
   "source": [
    "plot_combined_spatial_representation(combined_hmm_model=combined_alpha_beta_delta_gamma_theta_hmm_model,\n",
    "                                    combined_pca_model=combined_alpha_beta_delta_gamma_theta_pca_model,\n",
    "                                    modalities=[\"Alpha\", \"Beta\", \"Delta\", \"Gamma\", \"Theta\"],\n",
    "                                    modality_feature_idxs=[\n",
    "                                        range(2346*0, 2346*1),\n",
    "                                        range(2346*1, 2346*2),\n",
    "                                        range(2346*2, 2346*3),\n",
    "                                        range(2346*3, 2346*4),\n",
    "                                        range(2346*4, 2346*5),\n",
    "                                    ],\n",
    "                                    title=\"Connectome Representation of States of Combined Alpha+Beta+Delta+Gamma+Theta Hidden Markov Model\",\n",
    "                                    path=\"output/hmm/spatial_representation-[alpha_beta_delta_gamma_theta]-[combined].png\")"
   ]
  },
  {
   "cell_type": "markdown",
   "metadata": {},
   "source": [
    "##### COMBINED EEG BANDS (Broad)"
   ]
  },
  {
   "cell_type": "code",
   "execution_count": null,
   "metadata": {},
   "outputs": [],
   "source": [
    "plot_combined_spatial_representation(combined_hmm_model=broad_hmm_model,\n",
    "                                    combined_pca_model=broad_pca_model,\n",
    "                                    modalities=[\"Broad\"],\n",
    "                                    modality_feature_idxs=[\n",
    "                                        range(2346*0, 2346*1),\n",
    "                                    ],\n",
    "                                    title=\"Connectome Representation of States of Broad Hidden Markov Model\",\n",
    "                                    path=\"output/hmm/spatial_representation-[broad]-[combined].png\")"
   ]
  },
  {
   "cell_type": "markdown",
   "metadata": {},
   "source": [
    "#####  COMBINED MODALITY HMM MODEL (fMRI+Alpha+Beta+Delta+Gamma+Theta)"
   ]
  },
  {
   "cell_type": "code",
   "execution_count": null,
   "metadata": {},
   "outputs": [],
   "source": [
    "plot_combined_spatial_representation(combined_hmm_model=combined_fmri_alpha_beta_delta_gamma_theta_hmm_model,\n",
    "                                    combined_pca_model=combined_fmri_alpha_beta_delta_gamma_theta_pca_model,\n",
    "                                    modalities=[\"fMRI\", \"Alpha\", \"Beta\", \"Delta\", \"Gamma\", \"Theta\"],\n",
    "                                    modality_feature_idxs=[\n",
    "                                        range(2346*0, 2346*1),\n",
    "                                        range(2346*1, 2346*2),\n",
    "                                        range(2346*2, 2346*3),\n",
    "                                        range(2346*3, 2346*4),\n",
    "                                        range(2346*4, 2346*5),\n",
    "                                        range(2346*5, 2346*6),\n",
    "                                    ],\n",
    "                                    title=\"Connectome Representation of States of Combined fMRI+Alpha+Beta+Delta+Gamma+Theta Hidden Markov Model\",\n",
    "                                    path=\"output/hmm/spatial_representation-[fmri_alpha_beta_delta_gamma_theta]-[combined].png\")"
   ]
  },
  {
   "cell_type": "markdown",
   "metadata": {},
   "source": [
    "#####  COMBINED MODALITY HMM MODEL (fMRI+Broad)"
   ]
  },
  {
   "cell_type": "code",
   "execution_count": null,
   "metadata": {},
   "outputs": [],
   "source": [
    "plot_combined_spatial_representation(combined_hmm_model=combined_fmri_broad_hmm_model,\n",
    "                                    combined_pca_model=combined_fmri_broad_pca_model,\n",
    "                                    modalities=[\"fMRI\", \"Broad\"],\n",
    "                                    modality_feature_idxs=[\n",
    "                                        range(2346*0, 2346*1),\n",
    "                                        range(2346*1, 2346*2),\n",
    "                                    ],\n",
    "                                    title=\"Connectome Representation of States of Combined fMRI+Broad Hidden Markov Model\",\n",
    "                                    path=\"output/hmm/spatial_representation-[fmri_broad]-[combined].png\")"
   ]
  },
  {
   "cell_type": "markdown",
   "metadata": {},
   "source": [
    "##### SEPARATE EEG BANDS (Alpha+Beta+Delta+Gamma+Theta HMMs Trained Together)"
   ]
  },
  {
   "cell_type": "code",
   "execution_count": null,
   "metadata": {},
   "outputs": [],
   "source": [
    "plot_spatial_representation(hmm_models=alpha_beta_delta_gamma_theta_hmm_models,\n",
    "                            pca_models=alpha_beta_delta_gamma_theta_pca_models,\n",
    "                            modalities=[\"Alpha\", \"Beta\", \"Delta\", \"Gamma\", \"Theta\"],\n",
    "                            title=\"Connectome Representation of Jointly Trained Alpha+Beta+Delta+Gamma+Theta Hidden Markov Model States\",\n",
    "                            path=\"output/hmm/spatial_representation-[alpha_beta_delta_gamma_theta]-[separate].png\")"
   ]
  },
  {
   "cell_type": "markdown",
   "metadata": {},
   "source": [
    "##### SEPARATE MODALITIES (fMRI+Alpha+Beta+Delta+Gamma+Theta HMMs Trained Together)"
   ]
  },
  {
   "cell_type": "code",
   "execution_count": null,
   "metadata": {},
   "outputs": [],
   "source": [
    "plot_spatial_representation(hmm_models=fmri_alpha_beta_delta_gamma_theta_hmm_models,\n",
    "                            pca_models=fmri_alpha_beta_delta_gamma_theta_pca_models,\n",
    "                            modalities=[\"fMRI\", \"Alpha\", \"Beta\", \"Delta\", \"Gamma\", \"Theta\"],\n",
    "                            title=\"Connectome Representation of Jointly Trained fMRI+Alpha+Beta+Delta+Gamma+Theta Hidden Markov Model States\",\n",
    "                            path=\"output/hmm/spatial_representation-[fmri_alpha_beta_delta_gamma_theta]-[separate].png\")"
   ]
  },
  {
   "cell_type": "markdown",
   "metadata": {},
   "source": [
    "##### SEPARATE MODALITIES (fMRI+Broad HMMs Trained Together)"
   ]
  },
  {
   "cell_type": "code",
   "execution_count": null,
   "metadata": {},
   "outputs": [],
   "source": [
    "plot_spatial_representation(hmm_models=fmri_broad_hmm_models,\n",
    "                            pca_models=fmri_broad_pca_models,\n",
    "                            modalities=[\"fMRI\", \"Broad\"],\n",
    "                            title=\"Connectome Representation of Jointly Trained fMRI+Broad Hidden Markov Model States\",\n",
    "                            path=\"output/hmm/spatial_representation-[fmri_broad]-[separate].png\")"
   ]
  },
  {
   "cell_type": "markdown",
   "metadata": {},
   "source": [
    "## Hidden State Sequence Likelihood Comparison"
   ]
  },
  {
   "cell_type": "markdown",
   "metadata": {},
   "source": [
    "##### COMBINED EEG BANDS (Alpha+Beta+Delta+Gamma+Theta)"
   ]
  },
  {
   "cell_type": "markdown",
   "metadata": {},
   "source": [
    "Full data."
   ]
  },
  {
   "cell_type": "code",
   "execution_count": null,
   "metadata": {},
   "outputs": [],
   "source": [
    "combined_alpha_beta_delta_gamma_theta_hmm_model.means_.shape[0]"
   ]
  },
  {
   "cell_type": "code",
   "execution_count": null,
   "metadata": {},
   "outputs": [],
   "source": [
    "combined_alpha_beta_delta_gamma_theta_log_likelihood, combined_alpha_beta_delta_gamma_theta_decoded_state_sequence = combined_alpha_beta_delta_gamma_theta_hmm_model.decode(combined_alpha_beta_delta_gamma_theta_pca_model.transform(alpha_beta_delta_gamma_theta_matrix))\n",
    "combined_alpha_beta_delta_gamma_theta_log_likelihood"
   ]
  },
  {
   "cell_type": "markdown",
   "metadata": {},
   "source": [
    "Training data."
   ]
  },
  {
   "cell_type": "code",
   "execution_count": 37,
   "metadata": {},
   "outputs": [
    {
     "data": {
      "text/plain": [
       "4"
      ]
     },
     "execution_count": 37,
     "metadata": {},
     "output_type": "execute_result"
    }
   ],
   "source": [
    "combined_alpha_beta_delta_gamma_theta_hmm_model_train.means_.shape[0]"
   ]
  },
  {
   "cell_type": "code",
   "execution_count": 38,
   "metadata": {},
   "outputs": [
    {
     "data": {
      "text/plain": [
       "8098097.956017438"
      ]
     },
     "execution_count": 38,
     "metadata": {},
     "output_type": "execute_result"
    }
   ],
   "source": [
    "combined_alpha_beta_delta_gamma_theta_log_likelihood_test, _ = combined_alpha_beta_delta_gamma_theta_hmm_model_train.decode(combined_alpha_beta_delta_gamma_theta_pca_model_train.transform(alpha_beta_delta_gamma_theta_matrix[test_idxs]))\n",
    "combined_alpha_beta_delta_gamma_theta_log_likelihood_test"
   ]
  },
  {
   "cell_type": "markdown",
   "metadata": {},
   "source": [
    "##### COMBINED EEG BANDS (Broad)"
   ]
  },
  {
   "cell_type": "markdown",
   "metadata": {},
   "source": [
    "Full data."
   ]
  },
  {
   "cell_type": "code",
   "execution_count": null,
   "metadata": {},
   "outputs": [],
   "source": [
    "broad_hmm_model.means_.shape[0]"
   ]
  },
  {
   "cell_type": "code",
   "execution_count": null,
   "metadata": {},
   "outputs": [],
   "source": [
    "broad_log_likelihood, broad_decoded_state_sequence = broad_hmm_model.decode(broad_pca_model.transform(all_subjects_all_trials_connectome_upper_triangular_flattened['broad']))\n",
    "broad_log_likelihood"
   ]
  },
  {
   "cell_type": "markdown",
   "metadata": {},
   "source": [
    "Training data."
   ]
  },
  {
   "cell_type": "code",
   "execution_count": 39,
   "metadata": {},
   "outputs": [
    {
     "data": {
      "text/plain": [
       "5"
      ]
     },
     "execution_count": 39,
     "metadata": {},
     "output_type": "execute_result"
    }
   ],
   "source": [
    "broad_hmm_model_train.means_.shape[0]"
   ]
  },
  {
   "cell_type": "code",
   "execution_count": 40,
   "metadata": {},
   "outputs": [
    {
     "data": {
      "text/plain": [
       "4123704.3675378673"
      ]
     },
     "execution_count": 40,
     "metadata": {},
     "output_type": "execute_result"
    }
   ],
   "source": [
    "broad_log_likelihood_test, _ = broad_hmm_model_train.decode(broad_pca_model_train.transform(all_subjects_all_trials_connectome_upper_triangular_flattened['broad'][test_idxs]))\n",
    "broad_log_likelihood_test"
   ]
  },
  {
   "cell_type": "markdown",
   "metadata": {},
   "source": [
    "##### COMBINED MODALITIES (fMRI+Alpha+Beta+Delta+Gamma+Theta)"
   ]
  },
  {
   "cell_type": "markdown",
   "metadata": {},
   "source": [
    "Full data."
   ]
  },
  {
   "cell_type": "code",
   "execution_count": null,
   "metadata": {},
   "outputs": [],
   "source": [
    "combined_fmri_alpha_beta_delta_gamma_theta_hmm_model.means_.shape[0]"
   ]
  },
  {
   "cell_type": "code",
   "execution_count": null,
   "metadata": {},
   "outputs": [],
   "source": [
    "combined_fmri_alpha_beta_delta_gamma_theta_log_likelihood, combined_fmri_alpha_beta_delta_gamma_theta_decoded_state_sequence = combined_fmri_alpha_beta_delta_gamma_theta_hmm_model.decode(combined_fmri_alpha_beta_delta_gamma_theta_pca_model.transform(fmri_alpha_beta_delta_gamma_theta_matrix))\n",
    "combined_fmri_alpha_beta_delta_gamma_theta_log_likelihood"
   ]
  },
  {
   "cell_type": "markdown",
   "metadata": {},
   "source": [
    "Training data."
   ]
  },
  {
   "cell_type": "code",
   "execution_count": 41,
   "metadata": {},
   "outputs": [
    {
     "data": {
      "text/plain": [
       "6"
      ]
     },
     "execution_count": 41,
     "metadata": {},
     "output_type": "execute_result"
    }
   ],
   "source": [
    "combined_fmri_alpha_beta_delta_gamma_theta_hmm_model_train.means_.shape[0]"
   ]
  },
  {
   "cell_type": "code",
   "execution_count": 42,
   "metadata": {},
   "outputs": [
    {
     "data": {
      "text/plain": [
       "-229639.5274247451"
      ]
     },
     "execution_count": 42,
     "metadata": {},
     "output_type": "execute_result"
    }
   ],
   "source": [
    "combined_fmri_alpha_beta_delta_gamma_theta_log_likelihood_test, _ = combined_fmri_alpha_beta_delta_gamma_theta_hmm_model_train.decode(combined_fmri_alpha_beta_delta_gamma_theta_pca_model_train.transform(fmri_alpha_beta_delta_gamma_theta_matrix[test_idxs]))\n",
    "combined_fmri_alpha_beta_delta_gamma_theta_log_likelihood_test"
   ]
  },
  {
   "cell_type": "markdown",
   "metadata": {},
   "source": [
    "#####  COMBINED MODALITIES (fMRI+Broad)"
   ]
  },
  {
   "cell_type": "markdown",
   "metadata": {},
   "source": [
    "Full data."
   ]
  },
  {
   "cell_type": "code",
   "execution_count": null,
   "metadata": {},
   "outputs": [],
   "source": [
    "combined_fmri_broad_hmm_model.means_.shape[0]"
   ]
  },
  {
   "cell_type": "code",
   "execution_count": null,
   "metadata": {},
   "outputs": [],
   "source": [
    "combined_fmri_broad_log_likelihood, combined_fmri_broad_decoded_state_sequence = combined_fmri_broad_hmm_model.decode(combined_fmri_broad_pca_model.transform(fmri_broad_matrix))\n",
    "combined_fmri_broad_log_likelihood"
   ]
  },
  {
   "cell_type": "markdown",
   "metadata": {},
   "source": [
    "Training data."
   ]
  },
  {
   "cell_type": "code",
   "execution_count": 43,
   "metadata": {},
   "outputs": [
    {
     "data": {
      "text/plain": [
       "51"
      ]
     },
     "execution_count": 43,
     "metadata": {},
     "output_type": "execute_result"
    }
   ],
   "source": [
    "combined_fmri_broad_hmm_model_train.means_.shape[0]"
   ]
  },
  {
   "cell_type": "code",
   "execution_count": 44,
   "metadata": {},
   "outputs": [
    {
     "data": {
      "text/plain": [
       "-668462.1159546989"
      ]
     },
     "execution_count": 44,
     "metadata": {},
     "output_type": "execute_result"
    }
   ],
   "source": [
    "combined_fmri_broad_log_likelihood_test, _ = combined_fmri_broad_hmm_model_train.decode(combined_fmri_broad_pca_model_train.transform(fmri_broad_matrix[test_idxs]))\n",
    "combined_fmri_broad_log_likelihood_test"
   ]
  },
  {
   "cell_type": "markdown",
   "metadata": {},
   "source": [
    "##### SEPARATE EEG BANDS (Alpha+Beta+Delta+Gamma+Theta HMMs Trained Together)"
   ]
  },
  {
   "cell_type": "markdown",
   "metadata": {},
   "source": [
    "Full data."
   ]
  },
  {
   "cell_type": "code",
   "execution_count": null,
   "metadata": {},
   "outputs": [],
   "source": [
    "alpha_beta_delta_gamma_theta_hmm_models[0].means_.shape[0]"
   ]
  },
  {
   "cell_type": "code",
   "execution_count": null,
   "metadata": {},
   "outputs": [],
   "source": [
    "alpha_beta_delta_gamma_theta_decoded_state_sequences = []\n",
    "alpha_beta_delta_gamma_theta_decoded_log_likelihoods = []\n",
    "alpha_beta_delta_gamma_theta_data_channels = [\n",
    "    all_subjects_all_trials_connectome_upper_triangular_flattened['alpha'],\n",
    "    all_subjects_all_trials_connectome_upper_triangular_flattened['beta'],\n",
    "    all_subjects_all_trials_connectome_upper_triangular_flattened['delta'],\n",
    "    all_subjects_all_trials_connectome_upper_triangular_flattened['gamma'],\n",
    "    all_subjects_all_trials_connectome_upper_triangular_flattened['theta']\n",
    "]\n",
    "for (data_channel, hmm_model, pca_model) in zip(alpha_beta_delta_gamma_theta_data_channels, alpha_beta_delta_gamma_theta_hmm_models, alpha_beta_delta_gamma_theta_pca_models):\n",
    "    dim_reduced_data = pca_model.transform(data_channel)\n",
    "    decoded_state_sequence = hmm_model.decode(dim_reduced_data)\n",
    "    alpha_beta_delta_gamma_theta_decoded_log_likelihoods.append(decoded_state_sequence[0])\n",
    "    alpha_beta_delta_gamma_theta_decoded_state_sequences.append(decoded_state_sequence[1])"
   ]
  },
  {
   "cell_type": "code",
   "execution_count": null,
   "metadata": {},
   "outputs": [],
   "source": [
    "print(alpha_beta_delta_gamma_theta_decoded_log_likelihoods)\n",
    "print(np.mean(alpha_beta_delta_gamma_theta_decoded_log_likelihoods))"
   ]
  },
  {
   "cell_type": "markdown",
   "metadata": {},
   "source": [
    "Training data."
   ]
  },
  {
   "cell_type": "code",
   "execution_count": 45,
   "metadata": {},
   "outputs": [
    {
     "data": {
      "text/plain": [
       "6"
      ]
     },
     "execution_count": 45,
     "metadata": {},
     "output_type": "execute_result"
    }
   ],
   "source": [
    "alpha_beta_delta_gamma_theta_hmm_models_train[0].means_.shape[0]"
   ]
  },
  {
   "cell_type": "code",
   "execution_count": 46,
   "metadata": {},
   "outputs": [],
   "source": [
    "alpha_beta_delta_gamma_theta_decoded_log_likelihoods_test = []\n",
    "alpha_beta_delta_gamma_theta_data_channels_test = [\n",
    "    all_subjects_all_trials_connectome_upper_triangular_flattened['alpha'][test_idxs],\n",
    "    all_subjects_all_trials_connectome_upper_triangular_flattened['beta'][test_idxs],\n",
    "    all_subjects_all_trials_connectome_upper_triangular_flattened['delta'][test_idxs],\n",
    "    all_subjects_all_trials_connectome_upper_triangular_flattened['gamma'][test_idxs],\n",
    "    all_subjects_all_trials_connectome_upper_triangular_flattened['theta'][test_idxs],\n",
    "]\n",
    "for (data_channel, hmm_model, pca_model) in zip(alpha_beta_delta_gamma_theta_data_channels_test, alpha_beta_delta_gamma_theta_hmm_models_train, alpha_beta_delta_gamma_theta_pca_models_train):\n",
    "    dim_reduced_data = pca_model.transform(data_channel)\n",
    "    decoded_state_sequence = hmm_model.decode(dim_reduced_data)\n",
    "    alpha_beta_delta_gamma_theta_decoded_log_likelihoods_test.append(decoded_state_sequence[0])"
   ]
  },
  {
   "cell_type": "code",
   "execution_count": 47,
   "metadata": {},
   "outputs": [
    {
     "name": "stdout",
     "output_type": "stream",
     "text": [
      "[2425505.8387772166, 3712908.4900000384, 2404498.679815574, 3210840.040412554, 2448858.8345558573]\n",
      "2840522.376712248\n"
     ]
    }
   ],
   "source": [
    "print(alpha_beta_delta_gamma_theta_decoded_log_likelihoods_test)\n",
    "print(np.mean(alpha_beta_delta_gamma_theta_decoded_log_likelihoods_test))"
   ]
  },
  {
   "cell_type": "markdown",
   "metadata": {},
   "source": [
    "##### SEPARATE MODALITIES (fMRI+Alpha+Beta+Delta+Gamma+Theta HMMs Trained Together)"
   ]
  },
  {
   "cell_type": "markdown",
   "metadata": {},
   "source": [
    "Full data."
   ]
  },
  {
   "cell_type": "code",
   "execution_count": null,
   "metadata": {},
   "outputs": [],
   "source": [
    "fmri_alpha_beta_delta_gamma_theta_hmm_models[0].means_.shape[0]"
   ]
  },
  {
   "cell_type": "code",
   "execution_count": null,
   "metadata": {},
   "outputs": [],
   "source": [
    "fmri_alpha_beta_delta_gamma_theta_decoded_state_sequences = []\n",
    "fmri_alpha_beta_delta_gamma_theta_decoded_log_likelihoods = []\n",
    "fmri_alpha_beta_delta_gamma_theta_data_channels = [\n",
    "    all_subjects_all_trials_connectome_upper_triangular_flattened['fmri'],\n",
    "    all_subjects_all_trials_connectome_upper_triangular_flattened['alpha'],\n",
    "    all_subjects_all_trials_connectome_upper_triangular_flattened['beta'],\n",
    "    all_subjects_all_trials_connectome_upper_triangular_flattened['delta'],\n",
    "    all_subjects_all_trials_connectome_upper_triangular_flattened['gamma'],\n",
    "    all_subjects_all_trials_connectome_upper_triangular_flattened['theta']\n",
    "]\n",
    "for (data_channel, hmm_model, pca_model) in zip(fmri_alpha_beta_delta_gamma_theta_data_channels, fmri_alpha_beta_delta_gamma_theta_hmm_models, fmri_alpha_beta_delta_gamma_theta_pca_models):\n",
    "    dim_reduced_data = pca_model.transform(data_channel)\n",
    "    decoded_state_sequence = hmm_model.decode(dim_reduced_data)\n",
    "    fmri_alpha_beta_delta_gamma_theta_decoded_log_likelihoods.append(decoded_state_sequence[0])\n",
    "    fmri_alpha_beta_delta_gamma_theta_decoded_state_sequences.append(decoded_state_sequence[1])"
   ]
  },
  {
   "cell_type": "code",
   "execution_count": null,
   "metadata": {},
   "outputs": [],
   "source": [
    "print(fmri_alpha_beta_delta_gamma_theta_decoded_log_likelihoods)\n",
    "print(np.mean(fmri_alpha_beta_delta_gamma_theta_decoded_log_likelihoods))"
   ]
  },
  {
   "cell_type": "markdown",
   "metadata": {},
   "source": [
    "Training data."
   ]
  },
  {
   "cell_type": "code",
   "execution_count": 48,
   "metadata": {},
   "outputs": [
    {
     "data": {
      "text/plain": [
       "6"
      ]
     },
     "execution_count": 48,
     "metadata": {},
     "output_type": "execute_result"
    }
   ],
   "source": [
    "fmri_alpha_beta_delta_gamma_theta_hmm_models_train[0].means_.shape[0]"
   ]
  },
  {
   "cell_type": "code",
   "execution_count": 49,
   "metadata": {},
   "outputs": [],
   "source": [
    "fmri_alpha_beta_delta_gamma_theta_decoded_log_likelihoods_test = []\n",
    "fmri_alpha_beta_delta_gamma_theta_data_channels_test = [\n",
    "    all_subjects_all_trials_connectome_upper_triangular_flattened['fmri'][test_idxs],\n",
    "    all_subjects_all_trials_connectome_upper_triangular_flattened['alpha'][test_idxs],\n",
    "    all_subjects_all_trials_connectome_upper_triangular_flattened['beta'][test_idxs],\n",
    "    all_subjects_all_trials_connectome_upper_triangular_flattened['delta'][test_idxs],\n",
    "    all_subjects_all_trials_connectome_upper_triangular_flattened['gamma'][test_idxs],\n",
    "    all_subjects_all_trials_connectome_upper_triangular_flattened['theta'][test_idxs],\n",
    "]\n",
    "for (data_channel, hmm_model, pca_model) in zip(fmri_alpha_beta_delta_gamma_theta_data_channels_test, fmri_alpha_beta_delta_gamma_theta_hmm_models_train, fmri_alpha_beta_delta_gamma_theta_pca_models_train):\n",
    "    dim_reduced_data = pca_model.transform(data_channel)\n",
    "    decoded_state_sequence = hmm_model.decode(dim_reduced_data)\n",
    "    fmri_alpha_beta_delta_gamma_theta_decoded_log_likelihoods_test.append(decoded_state_sequence[0])"
   ]
  },
  {
   "cell_type": "code",
   "execution_count": 50,
   "metadata": {},
   "outputs": [
    {
     "name": "stdout",
     "output_type": "stream",
     "text": [
      "[-632060.8769609219, 2425507.8935020478, 3713007.0461099097, 2404024.220427762, 3211548.8042127336, 2449031.872246883]\n",
      "2261843.159923069\n"
     ]
    }
   ],
   "source": [
    "print(fmri_alpha_beta_delta_gamma_theta_decoded_log_likelihoods_test)\n",
    "print(np.mean(fmri_alpha_beta_delta_gamma_theta_decoded_log_likelihoods_test))"
   ]
  },
  {
   "cell_type": "markdown",
   "metadata": {},
   "source": [
    "##### SEPARATE MODALITIES (fMRI+Broad HMMs Trained Together)"
   ]
  },
  {
   "cell_type": "markdown",
   "metadata": {},
   "source": [
    "Full data."
   ]
  },
  {
   "cell_type": "code",
   "execution_count": null,
   "metadata": {},
   "outputs": [],
   "source": [
    "fmri_broad_hmm_models[0].means_.shape[0]"
   ]
  },
  {
   "cell_type": "code",
   "execution_count": null,
   "metadata": {},
   "outputs": [],
   "source": [
    "fmri_broad_decoded_state_sequences = []\n",
    "fmri_broad_decoded_log_likelihoods = []\n",
    "fmri_broad_data_channels = [\n",
    "    all_subjects_all_trials_connectome_upper_triangular_flattened['fmri'],\n",
    "    all_subjects_all_trials_connectome_upper_triangular_flattened['broad'],\n",
    "]\n",
    "for (data_channel, hmm_model, pca_model) in zip(fmri_broad_data_channels, fmri_broad_hmm_models, fmri_broad_pca_models):\n",
    "    dim_reduced_data = pca_model.transform(data_channel)\n",
    "    decoded_state_sequence = hmm_model.decode(dim_reduced_data)\n",
    "    fmri_broad_decoded_log_likelihoods.append(decoded_state_sequence[0])\n",
    "    fmri_broad_decoded_state_sequences.append(decoded_state_sequence[1])"
   ]
  },
  {
   "cell_type": "code",
   "execution_count": null,
   "metadata": {},
   "outputs": [],
   "source": [
    "print(fmri_broad_decoded_log_likelihoods)\n",
    "print(np.mean(fmri_broad_decoded_log_likelihoods))"
   ]
  },
  {
   "cell_type": "markdown",
   "metadata": {},
   "source": [
    "Training data."
   ]
  },
  {
   "cell_type": "code",
   "execution_count": 51,
   "metadata": {},
   "outputs": [
    {
     "data": {
      "text/plain": [
       "7"
      ]
     },
     "execution_count": 51,
     "metadata": {},
     "output_type": "execute_result"
    }
   ],
   "source": [
    "fmri_broad_hmm_models_train[0].means_.shape[0]"
   ]
  },
  {
   "cell_type": "code",
   "execution_count": 52,
   "metadata": {},
   "outputs": [],
   "source": [
    "fmri_broad_decoded_log_likelihoods_test = []\n",
    "fmri_broad_data_channels_test = [\n",
    "    all_subjects_all_trials_connectome_upper_triangular_flattened['fmri'][test_idxs],\n",
    "    all_subjects_all_trials_connectome_upper_triangular_flattened['broad'][test_idxs],\n",
    "]\n",
    "for (data_channel, hmm_model, pca_model) in zip(fmri_broad_data_channels_test, fmri_broad_hmm_models_train, fmri_broad_pca_models_train):\n",
    "    dim_reduced_data = pca_model.transform(data_channel)\n",
    "    decoded_state_sequence = hmm_model.decode(dim_reduced_data)\n",
    "    fmri_broad_decoded_log_likelihoods_test.append(decoded_state_sequence[0])"
   ]
  },
  {
   "cell_type": "code",
   "execution_count": 53,
   "metadata": {},
   "outputs": [
    {
     "name": "stdout",
     "output_type": "stream",
     "text": [
      "[-633789.2878622932, 4124414.754839838]\n",
      "1745312.7334887725\n"
     ]
    }
   ],
   "source": [
    "print(fmri_broad_decoded_log_likelihoods_test)\n",
    "print(np.mean(fmri_broad_decoded_log_likelihoods_test))"
   ]
  },
  {
   "cell_type": "markdown",
   "metadata": {},
   "source": [
    "## Hidden State Sequence Statistics"
   ]
  },
  {
   "cell_type": "code",
   "execution_count": null,
   "metadata": {},
   "outputs": [],
   "source": [
    "def get_n_colors(n):\n",
    "        return [ cmx.rainbow(float(i)/n) for i in range(n) ]"
   ]
  },
  {
   "cell_type": "code",
   "execution_count": null,
   "metadata": {},
   "outputs": [],
   "source": [
    "def plot_hidden_state_sequence_statistics(hmm_model, hidden_state_sequence, title, path):\n",
    "    \n",
    "    num_statistics_to_plot = 4\n",
    "    num_plots_per_statistic = 1\n",
    "    subplot_idx = 1\n",
    "    \n",
    "    fig = plt.figure(figsize=(100*num_plots_per_statistic, 20))\n",
    "    fig.suptitle(title, fontsize=50)\n",
    "    subplot_idx = 1\n",
    "    \n",
    "    hidden_state_colors = get_n_colors(hmm_model.means_.shape[0])\n",
    "\n",
    "    # Timeseries Sample\n",
    "    ax = plt.subplot2grid((3, 3), (0, 0), colspan=3)\n",
    "    x = 0\n",
    "    for state in hidden_state_sequence[:1000]:\n",
    "        ax.axvline(x=x, color=hidden_state_colors[state])\n",
    "        x += 1\n",
    "    plt.title(\"Hidden State Sequence\")\n",
    "    plt.yticks([])\n",
    "    subplot_idx += 1\n",
    "    \n",
    "    # Fractional Occupancy\n",
    "    fractional_occupancies_per_state = []\n",
    "    for state_idx in range(0, hmm_model.means_.shape[0]):\n",
    "        fractional_occupancy = len(hidden_state_sequence[hidden_state_sequence == state_idx])/len(hidden_state_sequence)\n",
    "        fractional_occupancies_per_state.append(fractional_occupancy)\n",
    "\n",
    "    ax = plt.subplot2grid((3, 3), (2, 0))\n",
    "    plt.title(\"Fractional Occupancy\")\n",
    "    x = np.arange(hmm_model.means_.shape[0])\n",
    "    plt.bar(x, height=fractional_occupancies_per_state)\n",
    "    plt.xticks(x, [str(x_i) for x_i in x])\n",
    "    subplot_idx += 1\n",
    "    \n",
    "    # Mean Life Time\n",
    "    mean_life_time_per_state = []\n",
    "    for state_idx in range(0, hmm_model.means_.shape[0]):\n",
    "        \n",
    "        # Count number of transitions out of state with state_idx\n",
    "        num_transitions_out_of_state_with_state_idx = 0\n",
    "        for i in range(0, len(hidden_state_sequence)-1):\n",
    "            if hidden_state_sequence[i] == state_idx and hidden_state_sequence[i+1] != state_idx:\n",
    "                num_transitions_out_of_state_with_state_idx += 1\n",
    "        \n",
    "        # Count total number of time points spent in state with state idx\n",
    "        num_time_points_in_state_with_state_idx = len(hidden_state_sequence[hidden_state_sequence == state_idx])\n",
    "        \n",
    "        # Compute mean life time\n",
    "        mean_life_time = num_time_points_in_state_with_state_idx/num_transitions_out_of_state_with_state_idx\n",
    "        mean_life_time_per_state.append(mean_life_time)\n",
    "    \n",
    "    \n",
    "    ax = plt.subplot2grid((3, 3), (2, 1))\n",
    "    plt.title('Mean Life Time')\n",
    "    plt.bar(x, height=mean_life_time_per_state)\n",
    "    plt.xticks(x, [str(x_i) for x_i in x])\n",
    "    subplot_idx += 1\n",
    "    \n",
    "    # Transition Probabilities\n",
    "    ax = plt.subplot2grid((3, 3), (2, 2))\n",
    "    plt.imshow(hmm_model.transmat_, cmap='gist_heat')\n",
    "    plt.title(\"Transition Probabilities\")\n",
    "    plt.colorbar()\n",
    "    subplot_idx += 1\n",
    "\n",
    "    plt.savefig(path)\n",
    "    plt.close()"
   ]
  },
  {
   "cell_type": "markdown",
   "metadata": {},
   "source": [
    "##### COMBINED EEG BANDS (Alpha+Beta+Delta+Gamma+Theta)"
   ]
  },
  {
   "cell_type": "code",
   "execution_count": null,
   "metadata": {},
   "outputs": [],
   "source": [
    "plot_hidden_state_sequence_statistics(hmm_model=combined_alpha_beta_delta_gamma_theta_hmm_model,\n",
    "                                      hidden_state_sequence=combined_alpha_beta_delta_gamma_theta_decoded_state_sequence,\n",
    "                                      title=\"Hidden State Sequence Statistics of Combined Alpha+Beta+Delta+Gamma+Theta HMM\",\n",
    "                                      path=\"output/hmm/hidden-state-sequence-statistics-[alpha_beta_delta_gamma_theta]-[combined].png\")"
   ]
  },
  {
   "cell_type": "markdown",
   "metadata": {},
   "source": [
    "##### COMBINED EEG BANDS (Broad)"
   ]
  },
  {
   "cell_type": "code",
   "execution_count": null,
   "metadata": {},
   "outputs": [],
   "source": [
    "plot_hidden_state_sequence_statistics(hmm_model=broad_hmm_model,\n",
    "                                      hidden_state_sequence=broad_decoded_state_sequence,\n",
    "                                      title=\"Hidden State Sequence Statistics of Combined Broad HMM\",\n",
    "                                      path=\"output/hmm/hidden-state-sequence-statistics-[broad]-[combined].png\")"
   ]
  },
  {
   "cell_type": "markdown",
   "metadata": {},
   "source": [
    "##### COMBINED MODALITY HMM MODEL (fMRI+Alpha+Beta+Delta+Gamma+Theta)"
   ]
  },
  {
   "cell_type": "code",
   "execution_count": null,
   "metadata": {},
   "outputs": [],
   "source": [
    "plot_hidden_state_sequence_statistics(hmm_model=combined_fmri_alpha_beta_delta_gamma_theta_hmm_model,\n",
    "                                      hidden_state_sequence=combined_fmri_alpha_beta_delta_gamma_theta_decoded_state_sequence,\n",
    "                                      title=\"Hidden State Sequence Statistics of Combined fMRI+Alpha+Beta+Delta+Gamma+Theta HMM\",\n",
    "                                      path=\"output/hmm/hidden-state-sequence-statistics-[fmri_alpha_beta_delta_gamma_theta]-[combined].png\")"
   ]
  },
  {
   "cell_type": "markdown",
   "metadata": {},
   "source": [
    "##### COMBINED MODALITY HMM MODEL (fMRI+Broad)"
   ]
  },
  {
   "cell_type": "code",
   "execution_count": null,
   "metadata": {},
   "outputs": [],
   "source": [
    "plot_hidden_state_sequence_statistics(hmm_model=combined_fmri_broad_hmm_model,\n",
    "                                      hidden_state_sequence=combined_fmri_broad_decoded_state_sequence,\n",
    "                                      title=\"Hidden State Sequence Statistics of Combined fMRI+Broad HMM\",\n",
    "                                      path=\"output/hmm/hidden-state-sequence-statistics-[fmri_broad]-[combined].png\")"
   ]
  },
  {
   "cell_type": "raw",
   "metadata": {},
   "source": [
    "TODO: Plot separate modality HMM model hidden state sequence statistics."
   ]
  },
  {
   "cell_type": "markdown",
   "metadata": {},
   "source": [
    "# Brain Graph Statistics"
   ]
  },
  {
   "cell_type": "raw",
   "metadata": {},
   "source": [
    "def controllability_statistic(connectome, edge_threshold=0.9):\n",
    "    assert(edge_threshold > 0.5)\n",
    "    \n",
    "    # Sparsify connectome by only keeping top x/2% and bottom x/2% most extreme edge weights\n",
    "    sorted_edge_weights = sorted(connectome.flatten())\n",
    "    \n",
    "    upper_threshold_idx = int( (edge_threshold+((1 - edge_threshold)/2)) * len(sorted_edge_weights) )    \n",
    "    lower_threshold_idx = int( ((1 - edge_threshold)/2)                  * len(sorted_edge_weights) )\n",
    "\n",
    "    upper_threshold_val = sorted_edge_weights[upper_threshold_idx]   \n",
    "    lower_threshold_val = sorted_edge_weights[lower_threshold_idx]   \n",
    "    \n",
    "    thresholded_connectome = np.copy(connectome)\n",
    "    for i in range(thresholded_connectome.shape[0]):\n",
    "        for j in range(thresholded_connectome.shape[1]):\n",
    "            if thresholded_connectome[i][j] > lower_threshold_val and thresholded_connectome[i][j] < upper_threshold_val:\n",
    "                thresholded_connectome[i][j] = 0.0\n",
    "    \n",
    "    # Compute maximum matching from sparsified graph\n",
    "    nx_graph = nx.from_numpy_matrix(thresholded_connectome)\n",
    "    max_matching = nx.max_weight_matching(nx_graph, maxcardinality=True)\n",
    "    \n",
    "    # Compute controllability stat from maximum matching\n",
    "    num_nodes = connectome.shape[0]\n",
    "    matched_nodes = set([node for node_pair in max_matching for node in node_pair])\n",
    "    num_unmatched_nodes = num_nodes - len(matched_nodes)\n",
    "    controllability = num_unmatched_nodes/num_nodes\n",
    "\n",
    "    return controllability"
   ]
  },
  {
   "cell_type": "raw",
   "metadata": {},
   "source": [
    "# The assortativity coefficient is a correlation coefficient between the strengths (weighted degrees) of all nodes\n",
    "# on two opposite ends of a link. A positive assortativity coefficient indicates that nodes tend to link to other\n",
    "# nodes with the same or similar strength.\n",
    "assortativity_statistic_time_series = {}\n",
    "\n",
    "# The global efficiency is the average inverse shortest path length in the network, and is inversely related \n",
    "# to the characteristic path length.\n",
    "global_efficiency_statistic_time_series = {}\n",
    "\n",
    "# The optimal community structure is a subdivision of the network into nonoverlapping groups of nodes in a way\n",
    "# that maximizes the number of within-group edges, and minimizes the number of between-group edges. \n",
    "# The modularity is a statistic that quantifies the degree to which the network may be subdivided into such clearly\n",
    "# delineated groups.\n",
    "modularity_statistic_time_series = {}\n",
    "\n",
    "# The fraction of nodes required to 'control' the state of the network:\n",
    "#  https://www.barabasilab.com/publications/controllability-of-complex-networks\n",
    "controllability_statistic_time_series = {}\n",
    "\n",
    "num_statistic_types = 4\n",
    "\n",
    "for k in all_subjects_all_trials_connectomes:\n",
    "    \n",
    "    print(k)\n",
    "    assortativity_statistic_time_series[k] = []\n",
    "    global_efficiency_statistic_time_series[k] = []\n",
    "    modularity_statistic_time_series[k] = []\n",
    "    controllability_statistic_time_series[k] = []\n",
    "    \n",
    "    for time_pt in all_subjects_all_trials_connectomes[k]:\n",
    "        assortativity_statistic_time_series[k].append(bct.assortativity_wei(time_pt))\n",
    "        global_efficiency_statistic_time_series[k].append(bct.efficiency_wei(time_pt))        \n",
    "        modularity_statistic_time_series[k].append(bct.modularity_und(time_pt)[1]) \n",
    "        controllability_statistic_time_series[k].append(controllability_statistic(time_pt))"
   ]
  },
  {
   "cell_type": "markdown",
   "metadata": {},
   "source": [
    "Plot timeseries of graph statistics."
   ]
  },
  {
   "cell_type": "raw",
   "metadata": {},
   "source": [
    "fig = plt.figure(figsize=(100, 20))\n",
    "fig.suptitle('Graph Statistic Timeseries')\n",
    "\n",
    "num_unique_statistic_modality_pairs = num_statistic_types*len(modularity_statistic_time_series)\n",
    "subplot_idx = 1\n",
    "\n",
    "for k in assortativity_statistic_time_series:\n",
    "    \n",
    "    t = np.arange(len(assortativity_statistic_time_series[k]))\n",
    "\n",
    "    # Modularity\n",
    "    fig.add_subplot(num_unique_statistic_modality_pairs, num_statistic_types, subplot_idx)\n",
    "    plt.plot(t, modularity_statistic_time_series[k], color=\"green\")\n",
    "    plt.title(\"{0} modularity\".format(k))\n",
    "    subplot_idx += 1\n",
    "    \n",
    "    # Assortativity\n",
    "    fig.add_subplot(num_unique_statistic_modality_pairs, num_statistic_types, subplot_idx)\n",
    "    plt.plot(t, assortativity_statistic_time_series[k], color=\"red\")\n",
    "    plt.title(\"{0} assortativity\".format(k))\n",
    "    subplot_idx += 1\n",
    "    \n",
    "    # Global Efficiency\n",
    "    fig.add_subplot(num_unique_statistic_modality_pairs, num_statistic_types, subplot_idx)\n",
    "    plt.plot(t, global_efficiency_statistic_time_series[k], color=\"blue\")\n",
    "    plt.title(\"{0} global efficiency\".format(k))\n",
    "    subplot_idx += 1\n",
    "\n",
    "plt.subplots_adjust(hspace=0.5)\n",
    "plt.savefig('output/hmm/graph_statistic_timeseries.png')\n",
    "plt.close()"
   ]
  },
  {
   "cell_type": "markdown",
   "metadata": {},
   "source": [
    "Compute correlation between all possible pairs of statistics across modalities."
   ]
  },
  {
   "cell_type": "raw",
   "metadata": {},
   "source": [
    "statistic_timeseries_correlation_matrix = np.zeros((num_unique_statistic_modality_pairs, num_unique_statistic_modality_pairs))\n",
    "labels = []\n",
    "\n",
    "i = -1\n",
    "j = -1\n",
    "\n",
    "for statistic_timeseries_a, statistic_name_a in zip([modularity_statistic_time_series, assortativity_statistic_time_series, global_efficiency_statistic_time_series], [\"modularity\", \"assortativity\", \"global efficiency\"]):\n",
    "    for k_a in statistic_timeseries_a:\n",
    "        i += 1\n",
    "        j = -1\n",
    "        \n",
    "        labels.append(\"{0} {1}\".format(k_a, statistic_name_a))\n",
    "        \n",
    "        for statistic_timeseries_b, statistic_name_b in zip([modularity_statistic_time_series, assortativity_statistic_time_series, global_efficiency_statistic_time_series], [\"modularity\", \"assortativity\", \"global efficiency\"]):\n",
    "            for k_b in statistic_timeseries_b:\n",
    "                \n",
    "                j += 1\n",
    "                corr = np.corrcoef(statistic_timeseries_a[k_a], statistic_timeseries_b[k_b])[0, 1]                \n",
    "                statistic_timeseries_correlation_matrix[i, j] = corr"
   ]
  },
  {
   "cell_type": "raw",
   "metadata": {},
   "source": [
    "f = plt.figure(figsize=(15, 20))\n",
    "\n",
    "plt.imshow(statistic_timeseries_correlation_matrix, cmap='gist_heat')\n",
    "plt.title(\"Cross Modality Correlations in Brain Graph Statistic Timeseries\").set_position([.5, 1.3])\n",
    "plt.axes().xaxis.set_ticks_position('top')\n",
    "plt.xticks(range(len(labels)), labels, rotation='vertical')\n",
    "plt.yticks(range(len(labels)), labels)\n",
    "plt.colorbar()\n",
    "\n",
    "f.savefig('output/hmm/graph_statistic_cross_modality_correlations.png')\n",
    "plt.close()"
   ]
  },
  {
   "cell_type": "code",
   "execution_count": null,
   "metadata": {},
   "outputs": [],
   "source": [
    "brain_graph_statistics_descriptions = [\n",
    "    \"fMRI Modularity\",\n",
    "    \"Alpha-Band EEG Modularity\",\n",
    "    \"Beta-Band EEG Modularity\",\n",
    "    \"Delta-Band EEG Modularity\",\n",
    "    \"Gamma-Band EEG Modularity\",\n",
    "    \"Theta-Band EEG Modularity\",\n",
    "    \n",
    "    \"fMRI Assortativity\",\n",
    "    \"Alpha-Band EEG Assortativity\",\n",
    "    \"Beta-Band EEG Assortativity\",\n",
    "    \"Delta-Band EEG Assortativity\",\n",
    "    \"Gamma-Band EEG Assortativity\",\n",
    "    \"Theta-Band EEG Assortativity\",\n",
    "    \n",
    "    \"fMRI Global Efficiency\",\n",
    "    \"Alpha-Band EEG Global Efficiency\",\n",
    "    \"Beta-Band EEG Global Efficiency\",\n",
    "    \"Delta-Band EEG Global Efficiency\",\n",
    "    \"Gamma-Band EEG Global Efficiency\",\n",
    "    \"Theta-Band EEG Global Efficiency\",\n",
    "]"
   ]
  },
  {
   "cell_type": "code",
   "execution_count": null,
   "metadata": {},
   "outputs": [],
   "source": [
    "brain_graph_statistics = pickle.load(open('output/hmm/graph_statistics/brain_graph_statistics_time_series.pkl', 'rb'))\n",
    "brain_graph_statistics_means = pickle.load(open('output/hmm/graph_statistics/brain_graph_statistics_means.pkl', 'rb'))\n",
    "brain_graph_statistics_vars = pickle.load(open('output/hmm/graph_statistics/brain_graph_statistics_vars.pkl', 'rb'))"
   ]
  },
  {
   "cell_type": "raw",
   "metadata": {},
   "source": [
    "brain_graph_statistics = np.array([\n",
    "    modularity_statistic_time_series['fmri'],\n",
    "    modularity_statistic_time_series['alpha'],\n",
    "    modularity_statistic_time_series['beta'],\n",
    "    modularity_statistic_time_series['delta'],\n",
    "    modularity_statistic_time_series['gamma'],\n",
    "    modularity_statistic_time_series['theta'],\n",
    "    \n",
    "    assortativity_statistic_time_series['fmri'],\n",
    "    assortativity_statistic_time_series['alpha'],\n",
    "    assortativity_statistic_time_series['beta'],\n",
    "    assortativity_statistic_time_series['delta'],\n",
    "    assortativity_statistic_time_series['gamma'],\n",
    "    assortativity_statistic_time_series['theta'],\n",
    "    \n",
    "    global_efficiency_statistic_time_series['fmri'],\n",
    "    global_efficiency_statistic_time_series['alpha'],\n",
    "    global_efficiency_statistic_time_series['beta'],\n",
    "    global_efficiency_statistic_time_series['delta'],\n",
    "    global_efficiency_statistic_time_series['gamma'],\n",
    "    global_efficiency_statistic_time_series['theta'],\n",
    "]).T\n",
    "\n",
    "brain_graph_statistics_means = np.mean(brain_graph_statistics, axis=0)\n",
    "brain_graph_statistics_vars = np.var(brain_graph_statistics, axis=0)\n",
    "\n",
    "with open('output/hmm/graph_statistics/brain_graph_statistics_time_series.pkl', 'wb') as f:\n",
    "    pickle.dump(brain_graph_statistics, f)\n",
    "    \n",
    "with open('output/hmm/graph_statistics/brain_graph_statistics_means.pkl', 'wb') as f:\n",
    "    pickle.dump(brain_graph_statistics_means, f)\n",
    "    \n",
    "with open('output/hmm/graph_statistics/brain_graph_statistics_vars.pkl', 'wb') as f:\n",
    "    pickle.dump(brain_graph_statistics_vars, f)"
   ]
  },
  {
   "cell_type": "code",
   "execution_count": null,
   "metadata": {},
   "outputs": [],
   "source": [
    "brain_graph_statistics.shape"
   ]
  },
  {
   "cell_type": "markdown",
   "metadata": {},
   "source": [
    "### HMM Hidden State Analysis Through Brain Graph Statistics"
   ]
  },
  {
   "cell_type": "code",
   "execution_count": null,
   "metadata": {},
   "outputs": [],
   "source": [
    "def plot_combined_hidden_state_statistics(hmm_model, hmm_model_decoded_state_sequence, title, path):\n",
    "    num_states_to_plot = min(hmm_model.means_.shape[0], 10)\n",
    "    subplot_idx = 1\n",
    "    \n",
    "    fig = plt.figure(figsize=(20*num_states_to_plot, 20))\n",
    "    fig.suptitle(title, fontsize=50)\n",
    "    subplot_idx = 1\n",
    "    \n",
    "    for state_idx in range(0, num_states_to_plot):\n",
    "        \n",
    "        time_series_idxs_in_state = hmm_model_decoded_state_sequence[hmm_model_decoded_state_sequence == state_idx]\n",
    "        time_series_statistics_for_state = brain_graph_statistics[time_series_idxs_in_state]\n",
    "        hidden_state_statistics = np.mean(time_series_statistics_for_state, axis=0)\n",
    "        \n",
    "        fig.add_subplot(1, num_states_to_plot, subplot_idx)\n",
    "        x = 0\n",
    "        for stat, stat_mean, stat_var in zip(hidden_state_statistics, brain_graph_statistics_means, brain_graph_statistics_vars):\n",
    "            z_stat = (stat - stat_mean)/np.sqrt(stat_var)\n",
    "            plt.bar(x, z_stat, align='center', width=0.7, color='blue' if z_stat > 0 else 'red')\n",
    "            x += 1\n",
    "        plt.ylim([-1.96, 1.96])\n",
    "        plt.ylabel(\"Z-Score of Statistic in Hidden State Compared to Overall Timeseries\")\n",
    "        plt.title(\"Hidden State {0}\".format(state_idx))\n",
    "        plt.xticks(range(len(brain_graph_statistics_descriptions)), brain_graph_statistics_descriptions, rotation='vertical')\n",
    "        subplot_idx += 1\n",
    "        \n",
    "\n",
    "    plt.savefig(path)\n",
    "    plt.close()"
   ]
  },
  {
   "cell_type": "code",
   "execution_count": null,
   "metadata": {},
   "outputs": [],
   "source": [
    "def plot_hidden_state_statistics(hmm_models, hmm_model_decoded_state_sequences, modalities, title, path):\n",
    "    num_models_to_plot = len(hmm_models)\n",
    "    num_states_to_plot = min(min([hmm_model.means_.shape[0] for hmm_model in hmm_models]), 10)\n",
    "    subplot_idx = 1\n",
    "    \n",
    "    fig = plt.figure(figsize=(20*num_states_to_plot, 20+20*num_models_to_plot))\n",
    "    fig.suptitle(title, fontsize=50)\n",
    "    subplot_idx = 1\n",
    "    \n",
    "    for hmm_model, hmm_model_decoded_state_sequence, modality in zip(hmm_models, hmm_model_decoded_state_sequences, modalities):\n",
    "        for state_idx in range(0, num_states_to_plot):\n",
    "\n",
    "            time_series_idxs_in_state = hmm_model_decoded_state_sequence[hmm_model_decoded_state_sequence == state_idx]\n",
    "            time_series_statistics_for_state = brain_graph_statistics[time_series_idxs_in_state]\n",
    "            hidden_state_statistics = np.mean(time_series_statistics_for_state, axis=0)\n",
    "\n",
    "            fig.add_subplot(num_models_to_plot, num_states_to_plot, subplot_idx)\n",
    "            x = 0\n",
    "            for stat, stat_mean, stat_var in zip(hidden_state_statistics, brain_graph_statistics_means, brain_graph_statistics_vars):\n",
    "                z_stat = (stat - stat_mean)/np.sqrt(stat_var)\n",
    "                plt.bar(x, z_stat, align='center', width=0.7, color='blue' if z_stat > 0 else 'red')\n",
    "                x += 1\n",
    "            plt.ylim([-1.96, 1.96])\n",
    "            plt.ylabel(\"Z-Score of Statistic in Hidden State Compared to Overall Timeseries\")\n",
    "            plt.title(\"{0} Hidden State {1}\".format(modality, state_idx))\n",
    "            plt.xticks(range(len(brain_graph_statistics_descriptions)), brain_graph_statistics_descriptions, rotation='vertical')\n",
    "            subplot_idx += 1\n",
    "        \n",
    "    plt.tight_layout()\n",
    "    plt.savefig(path)\n",
    "    plt.close()"
   ]
  },
  {
   "cell_type": "markdown",
   "metadata": {},
   "source": [
    "##### COMBINED EEG BANDS (Alpha+Beta+Delta+Gamma+Theta)"
   ]
  },
  {
   "cell_type": "code",
   "execution_count": null,
   "metadata": {},
   "outputs": [],
   "source": [
    "plot_combined_hidden_state_statistics(hmm_model=combined_alpha_beta_delta_gamma_theta_hmm_model,\n",
    "                                     hmm_model_decoded_state_sequence=combined_alpha_beta_delta_gamma_theta_decoded_state_sequence,\n",
    "                                     title=\"Brain Graph Statistic Hidden State Analysis of Combined Alpha+Beta+Delta+Gamma+Theta HMM\",\n",
    "                                     path='output/hmm/hidden-state-statistics-[alpha_beta_delta_gamma_theta]-[combined].png')"
   ]
  },
  {
   "cell_type": "markdown",
   "metadata": {},
   "source": [
    "##### COMBINED EEG BANDS (Broad)"
   ]
  },
  {
   "cell_type": "code",
   "execution_count": null,
   "metadata": {},
   "outputs": [],
   "source": [
    "plot_combined_hidden_state_statistics(hmm_model=broad_hmm_model,\n",
    "                                     hmm_model_decoded_state_sequence=broad_decoded_state_sequence,\n",
    "                                     title=\"Brain Graph Statistic Hidden State Analysis of Broad HMM\",\n",
    "                                     path='output/hmm/hidden-state-statistics-[broad]-[combined].png')"
   ]
  },
  {
   "cell_type": "markdown",
   "metadata": {},
   "source": [
    "##### COMBINED MODALITIES (fMRI+Alpha+Beta+Delta+Gamma+Theta)"
   ]
  },
  {
   "cell_type": "code",
   "execution_count": null,
   "metadata": {},
   "outputs": [],
   "source": [
    "plot_combined_hidden_state_statistics(hmm_model=combined_fmri_alpha_beta_delta_gamma_theta_hmm_model,\n",
    "                                     hmm_model_decoded_state_sequence=combined_fmri_alpha_beta_delta_gamma_theta_decoded_state_sequence,\n",
    "                                     title=\"Brain Graph Statistic Hidden State Analysis of fMRI+Alpha+Beta+Delta+Gamma+Theta HMM\",\n",
    "                                     path='output/hmm/hidden-state-statistics-[fmri_alpha_beta_delta_gamma_theta]-[combined].png')"
   ]
  },
  {
   "cell_type": "markdown",
   "metadata": {},
   "source": [
    "##### COMBINED MODALITIES (fMRI+Broad)"
   ]
  },
  {
   "cell_type": "code",
   "execution_count": null,
   "metadata": {},
   "outputs": [],
   "source": [
    "plot_combined_hidden_state_statistics(hmm_model=combined_fmri_broad_hmm_model,\n",
    "                                     hmm_model_decoded_state_sequence=combined_fmri_broad_decoded_state_sequence,\n",
    "                                     title=\"Brain Graph Statistic Hidden State Analysis of fMRI+Broad HMM\",\n",
    "                                     path='output/hmm/hidden-state-statistics-[fmri_broad]-[combined].png')"
   ]
  },
  {
   "cell_type": "markdown",
   "metadata": {},
   "source": [
    "##### SEPARATE EEG BANDS (Alpha+Beta+Delta+Gamma+Theta HMMs Trained Together)"
   ]
  },
  {
   "cell_type": "code",
   "execution_count": null,
   "metadata": {},
   "outputs": [],
   "source": [
    "plot_hidden_state_statistics(hmm_models=alpha_beta_delta_gamma_theta_hmm_models,\n",
    "                            hmm_model_decoded_state_sequences=alpha_beta_delta_gamma_theta_decoded_state_sequences,\n",
    "                            modalities=['Alpha', 'Beta', 'Delta', 'Gamma', 'Theta'],\n",
    "                            title=\"Brain Graph Statistic Hidden State Analysis of Jointly Trained Alpha+Beta+Delta+Gamma+Theta HMMs\",\n",
    "                            path='output/hmm/hidden-state-statistics-[alpha_beta_delta_gamma_theta]-[separate].png')"
   ]
  },
  {
   "cell_type": "markdown",
   "metadata": {},
   "source": [
    "##### SEPARATE MODALITIES (fMRI+Alpha+Beta+Delta+Gamma+Theta HMMs Trained Together)"
   ]
  },
  {
   "cell_type": "code",
   "execution_count": null,
   "metadata": {},
   "outputs": [],
   "source": [
    "plot_hidden_state_statistics(hmm_models=fmri_alpha_beta_delta_gamma_theta_hmm_models,\n",
    "                            hmm_model_decoded_state_sequences=fmri_alpha_beta_delta_gamma_theta_decoded_state_sequences,\n",
    "                            modalities=['fMRI', 'Alpha', 'Beta', 'Delta', 'Gamma', 'Theta'],\n",
    "                            title=\"Brain Graph Statistic Hidden State Analysis of Jointly Trained fMRI+Alpha+Beta+Delta+Gamma+Theta HMMs\",\n",
    "                            path='output/hmm/hidden-state-statistics-[fmri_alpha_beta_delta_gamma_theta]-[separate].png')"
   ]
  },
  {
   "cell_type": "markdown",
   "metadata": {},
   "source": [
    "##### SEPARATE MODALITIES (fMRI+Broad HMMs Trained Together)"
   ]
  },
  {
   "cell_type": "code",
   "execution_count": null,
   "metadata": {},
   "outputs": [],
   "source": [
    "plot_hidden_state_statistics(hmm_models=fmri_broad_hmm_models,\n",
    "                            hmm_model_decoded_state_sequences=fmri_broad_decoded_state_sequences,\n",
    "                            modalities=['fMRI', 'Broad'],\n",
    "                            title=\"Brain Graph Statistic Hidden State Analysis of Jointly Trained fMRI+Broad HMMs\",\n",
    "                            path='output/hmm/hidden-state-statistics-[fmri_broad]-[separate].png')"
   ]
  },
  {
   "cell_type": "markdown",
   "metadata": {},
   "source": [
    "##### Fit a HMM to the time series of the brain graph statistics"
   ]
  },
  {
   "cell_type": "code",
   "execution_count": null,
   "metadata": {},
   "outputs": [],
   "source": [
    "brain_graph_statistics_hmm_model, _ = train_optimal_hmm_on_data(brain_graph_statistics, pca_variance_retained=1.0)"
   ]
  },
  {
   "cell_type": "code",
   "execution_count": null,
   "metadata": {},
   "outputs": [],
   "source": [
    "brain_graph_statistics_hmm_model.means_.shape"
   ]
  },
  {
   "cell_type": "code",
   "execution_count": null,
   "metadata": {},
   "outputs": [],
   "source": [
    "# Hidden State Analysis\n",
    "num_hidden_states = brain_graph_statistics_hmm_model.means_.shape[0]\n",
    "\n",
    "f = plt.figure(figsize=(10*num_hidden_states, 20))\n",
    "f.suptitle('Brain Graph Statistic HMM Hidden State Analysis')\n",
    "subplot_idx = 1\n",
    "\n",
    "for i in range(num_hidden_states):\n",
    "\n",
    "    hidden_state = brain_graph_statistics_hmm_model.means_[i]\n",
    "\n",
    "    f.add_subplot(1, num_hidden_states, subplot_idx)\n",
    "    x = 0\n",
    "    for stat, stat_mean, stat_var in zip(hidden_state, brain_graph_statistics_means, brain_graph_statistics_vars):\n",
    "        z_stat = (stat - stat_mean)/np.sqrt(stat_var)\n",
    "        plt.bar(x, z_stat, align='center', width=0.7, color='blue' if z_stat > 0 else 'red')\n",
    "        x += 1\n",
    "    plt.ylim([-1.96, 1.96])\n",
    "    plt.ylabel(\"Z-Score of Statistic in Hidden State Compared to Overall Timeseries\")\n",
    "    plt.title(\"Hidden State {0}\".format(i))\n",
    "    plt.xticks(range(len(brain_graph_statistics_descriptions)), brain_graph_statistics_descriptions, rotation='vertical')\n",
    "    subplot_idx += 1\n",
    "\n",
    "plt.subplots_adjust(hspace=0.5)\n",
    "f.savefig('output/hmm/graph_statistic_hmm_hidden_state_analysis.png')\n",
    "plt.close()"
   ]
  },
  {
   "cell_type": "code",
   "execution_count": null,
   "metadata": {},
   "outputs": [],
   "source": [
    "# Transition Probabilities    \n",
    "plt.imshow(brain_graph_statistics_hmm_model.transmat_, cmap='gist_heat')\n",
    "plt.title('Brain Graph Statistic HMM Transition Probabilities')\n",
    "plt.xticks(np.arange(0, brain_graph_statistics_hmm_model.transmat_.shape[0], 1))\n",
    "plt.yticks(np.arange(0, brain_graph_statistics_hmm_model.transmat_.shape[0], 1))\n",
    "plt.colorbar()\n",
    "plt.savefig('output/hmm/graph_statistic_transition_probabilities.png')\n",
    "plt.close()"
   ]
  },
  {
   "cell_type": "code",
   "execution_count": null,
   "metadata": {},
   "outputs": [],
   "source": [
    "# Decoded State Sequence\n",
    "brain_graph_statistics_hmm_decoded_log_likelihood, brain_graph_statistics_hmm_decoded_state_sequence = brain_graph_statistics_hmm_model.decode(brain_graph_statistics)"
   ]
  },
  {
   "cell_type": "code",
   "execution_count": null,
   "metadata": {},
   "outputs": [],
   "source": [
    "# Mean Life Time Per State\n",
    "mean_life_time_per_state = []\n",
    "for state_id in range(0, brain_graph_statistics_hmm_model.means_.shape[0]):\n",
    "\n",
    "    # Count number of transitions out of state with state_id\n",
    "    num_transitions_out_of_state_with_state_id = 0\n",
    "    for i in range(0, len(brain_graph_statistics_hmm_decoded_state_sequence)-1):\n",
    "        if brain_graph_statistics_hmm_decoded_state_sequence[i] == state_id and brain_graph_statistics_hmm_decoded_state_sequence[i+1] != state_id:\n",
    "            num_transitions_out_of_state_with_state_id += 1\n",
    "\n",
    "    # Count total number of time points spent in state with state id\n",
    "    num_time_points_in_state_with_state_id = len(brain_graph_statistics_hmm_decoded_state_sequence[brain_graph_statistics_hmm_decoded_state_sequence == state_id])\n",
    "\n",
    "    # Compute mean life time\n",
    "    mean_life_time = num_time_points_in_state_with_state_id/num_transitions_out_of_state_with_state_id\n",
    "    mean_life_time_per_state.append(mean_life_time)\n",
    "\n",
    "\n",
    "# Plot mean life time per state\n",
    "plt.title('Brain Graph Statistic HMM Hidden State Mean Life Time')\n",
    "x = np.arange(brain_graph_statistics_hmm_model.means_.shape[0])\n",
    "plt.bar(x, height=mean_life_time_per_state)\n",
    "plt.xticks(x, [str(x_i) for x_i in x])\n",
    "\n",
    "plt.savefig('output/hmm/graph_statistic_hmm_mean_life_time.png')\n",
    "plt.close()"
   ]
  },
  {
   "cell_type": "code",
   "execution_count": null,
   "metadata": {},
   "outputs": [],
   "source": [
    "# Fractional Occupancy Per State\n",
    "fractional_occupancies_per_state = []\n",
    "for state_idx in range(0, brain_graph_statistics_hmm_model.means_.shape[0]):\n",
    "    fractional_occupancy = len(brain_graph_statistics_hmm_decoded_state_sequence[brain_graph_statistics_hmm_decoded_state_sequence == state_idx])/len(brain_graph_statistics_hmm_decoded_state_sequence)\n",
    "    fractional_occupancies_per_state.append(fractional_occupancy)\n",
    "\n",
    "# Plot fractional occupancy per state\n",
    "plt.title('Brain Graph Statistic HMM Hidden State Fractional Occupancy')\n",
    "x = np.arange(brain_graph_statistics_hmm_model.means_.shape[0])\n",
    "plt.bar(x, height=fractional_occupancies_per_state)\n",
    "plt.xticks(x, [str(x_i) for x_i in x])\n",
    "plt.savefig('output/hmm/graph_statistic_hmm_fractional_occupancy.png')\n",
    "plt.close()"
   ]
  },
  {
   "cell_type": "code",
   "execution_count": null,
   "metadata": {},
   "outputs": [],
   "source": [
    "TODO: Compute Controllability Statistic"
   ]
  }
 ],
 "metadata": {
  "kernelspec": {
   "display_name": "Python 3",
   "language": "python",
   "name": "python3"
  },
  "language_info": {
   "codemirror_mode": {
    "name": "ipython",
    "version": 3
   },
   "file_extension": ".py",
   "mimetype": "text/x-python",
   "name": "python",
   "nbconvert_exporter": "python",
   "pygments_lexer": "ipython3",
   "version": "3.6.5"
  }
 },
 "nbformat": 4,
 "nbformat_minor": 1
}
