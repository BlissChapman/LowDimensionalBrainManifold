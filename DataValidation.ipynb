{
 "cells": [
  {
   "cell_type": "code",
   "execution_count": 1,
   "metadata": {},
   "outputs": [],
   "source": [
    "import matplotlib.pyplot as plt\n",
    "import numpy as np\n",
    "import utils"
   ]
  },
  {
   "cell_type": "markdown",
   "metadata": {},
   "source": [
    "# Prepare Data"
   ]
  },
  {
   "cell_type": "code",
   "execution_count": 2,
   "metadata": {},
   "outputs": [],
   "source": [
    "all_subjects_all_trials_connectomes = utils.load_connectomes(utils.ALL_SUBJECT_IDS, utils.ALL_TRIAL_IDS)"
   ]
  },
  {
   "cell_type": "code",
   "execution_count": 3,
   "metadata": {},
   "outputs": [],
   "source": [
    "fmri_connectome_timeseries = all_subjects_all_trials_connectomes['fmri'].reshape(-1, 68*68)\n",
    "alpha_connectome_timeseries = all_subjects_all_trials_connectomes['alpha'].reshape(-1, 68*68)\n",
    "beta_connectome_timeseries = all_subjects_all_trials_connectomes['beta'].reshape(-1, 68*68)\n",
    "delta_connectome_timeseries = all_subjects_all_trials_connectomes['delta'].reshape(-1, 68*68)\n",
    "gamma_connectome_timeseries = all_subjects_all_trials_connectomes['gamma'].reshape(-1, 68*68)\n",
    "theta_connectome_timeseries = all_subjects_all_trials_connectomes['theta'].reshape(-1, 68*68)\n",
    "broad_connectome_timeseries = all_subjects_all_trials_connectomes['broad'].reshape(-1, 68*68)"
   ]
  },
  {
   "cell_type": "code",
   "execution_count": 4,
   "metadata": {},
   "outputs": [
    {
     "data": {
      "text/plain": [
       "(4624, 19980)"
      ]
     },
     "execution_count": 4,
     "metadata": {},
     "output_type": "execute_result"
    }
   ],
   "source": [
    "fmri_connectome_timeseries.T.shape"
   ]
  },
  {
   "cell_type": "markdown",
   "metadata": {},
   "source": [
    "# Average Correlation Between fMRI and EEG Bands Across Connectome"
   ]
  },
  {
   "cell_type": "code",
   "execution_count": 5,
   "metadata": {},
   "outputs": [],
   "source": [
    "sum_fmri_alpha_corr = 0\n",
    "sum_fmri_beta_corr = 0\n",
    "sum_fmri_delta_corr = 0\n",
    "sum_fmri_gamma_corr = 0\n",
    "sum_fmri_theta_corr = 0\n",
    "sum_fmri_broad_corr = 0\n",
    "\n",
    "num_d_counted = 0\n",
    "\n",
    "for fmri_d_timeseries, alpha_d_timeseries, beta_d_timeseries, delta_d_timeseries, gamma_d_timeseries, theta_d_timeseries, broad_d_timeseries in zip(fmri_connectome_timeseries.T, \n",
    "                                                                                                                                                    alpha_connectome_timeseries.T,\n",
    "                                                                                                                                                    beta_connectome_timeseries.T,\n",
    "                                                                                                                                                    delta_connectome_timeseries.T,\n",
    "                                                                                                                                                    gamma_connectome_timeseries.T,\n",
    "                                                                                                                                                    theta_connectome_timeseries.T,\n",
    "                                                                                                                                                    broad_connectome_timeseries.T):\n",
    "    epsilon = 0.000001\n",
    "    if np.var(fmri_d_timeseries) < epsilon or np.var(alpha_d_timeseries) < epsilon or np.var(beta_d_timeseries) < epsilon or np.var(delta_d_timeseries) < epsilon or np.var(gamma_d_timeseries) < epsilon or np.var(theta_d_timeseries) < epsilon or np.var(broad_d_timeseries) < epsilon:\n",
    "        continue\n",
    "        \n",
    "    sum_fmri_alpha_corr += np.corrcoef(fmri_d_timeseries, alpha_d_timeseries)[0, 1]\n",
    "    sum_fmri_beta_corr += np.corrcoef(fmri_d_timeseries, beta_d_timeseries)[0, 1]\n",
    "    sum_fmri_delta_corr += np.corrcoef(fmri_d_timeseries, delta_d_timeseries)[0, 1]\n",
    "    sum_fmri_gamma_corr += np.corrcoef(fmri_d_timeseries, gamma_d_timeseries)[0, 1]\n",
    "    sum_fmri_theta_corr += np.corrcoef(fmri_d_timeseries, theta_d_timeseries)[0, 1]\n",
    "    sum_fmri_broad_corr += np.corrcoef(fmri_d_timeseries, broad_d_timeseries)[0, 1]\n",
    "    num_d_counted += 1\n",
    "    \n",
    "avg_fmri_alpha_corr = sum_fmri_alpha_corr / num_d_counted\n",
    "avg_fmri_beta_corr = sum_fmri_beta_corr   / num_d_counted\n",
    "avg_fmri_delta_corr = sum_fmri_delta_corr / num_d_counted\n",
    "avg_fmri_gamma_corr = sum_fmri_gamma_corr / num_d_counted\n",
    "avg_fmri_theta_corr = sum_fmri_theta_corr / num_d_counted\n",
    "avg_fmri_broad_corr = sum_fmri_broad_corr / num_d_counted"
   ]
  },
  {
   "cell_type": "code",
   "execution_count": 6,
   "metadata": {},
   "outputs": [
    {
     "name": "stdout",
     "output_type": "stream",
     "text": [
      "Num Connectome Features Averaged: 4556\n",
      "Avg fMRI <-> Alpha Band Correlation Across Connectome: -0.0005\n",
      "Avg fMRI <-> Beta Band Correlation Across Connectome: 0.0004\n",
      "Avg fMRI <-> Delta Band Correlation Across Connectome: -0.0003\n",
      "Avg fMRI <-> Gamma Band Correlation Across Connectome: 0.0030\n",
      "Avg fMRI <-> Theta Band Correlation Across Connectome: -0.0005\n",
      "Avg fMRI <-> Broad Band Correlation Across Connectome: 0.0025\n"
     ]
    }
   ],
   "source": [
    "print(\"Num Connectome Features Averaged: {0}\".format(num_d_counted))\n",
    "print(\"Avg fMRI <-> Alpha Band Correlation Across Connectome: {0:.4f}\".format(avg_fmri_alpha_corr))\n",
    "print(\"Avg fMRI <-> Beta Band Correlation Across Connectome: {0:.4f}\".format(avg_fmri_beta_corr))\n",
    "print(\"Avg fMRI <-> Delta Band Correlation Across Connectome: {0:.4f}\".format(avg_fmri_delta_corr))\n",
    "print(\"Avg fMRI <-> Gamma Band Correlation Across Connectome: {0:.4f}\".format(avg_fmri_gamma_corr))\n",
    "print(\"Avg fMRI <-> Theta Band Correlation Across Connectome: {0:.4f}\".format(avg_fmri_theta_corr))\n",
    "print(\"Avg fMRI <-> Broad Band Correlation Across Connectome: {0:.4f}\".format(avg_fmri_broad_corr))"
   ]
  },
  {
   "cell_type": "markdown",
   "metadata": {},
   "source": [
    "# Visualize fMRI/EEG Connectome Dynamics"
   ]
  },
  {
   "cell_type": "code",
   "execution_count": null,
   "metadata": {},
   "outputs": [],
   "source": [
    "# for subject_id in ALL_SUBJECT_IDS:\n",
    "#     for trial_id in ALL_TRIAL_IDS:\n",
    "        \n",
    "#         # Attempt to load all connectome types\n",
    "#         connectomes = load_all_connectome_types(subject_id, trial_id,\n",
    "#                                                atlas='desikan', \n",
    "#                                                seconds_used_to_compute_fmri_connectome=60,\n",
    "#                                                exclude_bad_fmri_frames=True,\n",
    "#                                                filter_artifact_timepoints=True)\n",
    "        \n",
    "#         if connectomes is None:\n",
    "#             continue\n",
    "\n",
    "#         # Plot connectomes through time\n",
    "#         for t in range(0, connectomes['fmri'].shape[0]):\n",
    "            \n",
    "#             # Create figure and set title\n",
    "#             fig = plt.figure(figsize=(30, 35))\n",
    "#             fig.suptitle('Subject: \"{0}\" | Trial: {1} | Time: {2}'.format(subject_id, trial_id, t), fontsize=50)\n",
    "            \n",
    "#             # Plot connectomes\n",
    "#             subplot_idx = 1\n",
    "#             for connectome_id, connectome in connectomes.items():\n",
    "\n",
    "#                 ax = fig.add_subplot(len(connectomes), 2, subplot_idx)\n",
    "#                 plotting.plot_connectome(connectome[t], desikan_atlas_coordinates(), title='{0} Connectome'.format(connectome_id),\n",
    "#                                          edge_threshold='95%', node_size=20, colorbar=True, axes=ax)\n",
    "#                 subplot_idx += 1\n",
    "            \n",
    "#                 ax = fig.add_subplot(len(connectomes), 2, subplot_idx)\n",
    "#                 plotting.plot_matrix(connectome[t], vmin=-1., vmax=1., colorbar=True, axes=ax)\n",
    "#                 subplot_idx += 1\n",
    "    \n",
    "#             plt.savefig('output/connectomes_through_time/subject={0}_trial={1}_t={2}.png'.format(subject_id, trial_id, t))"
   ]
  }
 ],
 "metadata": {
  "kernelspec": {
   "display_name": "Python 3",
   "language": "python",
   "name": "python3"
  },
  "language_info": {
   "codemirror_mode": {
    "name": "ipython",
    "version": 3
   },
   "file_extension": ".py",
   "mimetype": "text/x-python",
   "name": "python",
   "nbconvert_exporter": "python",
   "pygments_lexer": "ipython3",
   "version": "3.6.5"
  }
 },
 "nbformat": 4,
 "nbformat_minor": 1
}
