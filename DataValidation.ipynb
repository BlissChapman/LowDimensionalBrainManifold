{
 "cells": [
  {
   "cell_type": "code",
   "execution_count": null,
   "metadata": {},
   "outputs": [],
   "source": [
    "import matplotlib.pyplot as plt\n",
    "import numpy as np\n",
    "import utils\n",
    "\n",
    "from sklearn.feature_selection import mutual_info_regression"
   ]
  },
  {
   "cell_type": "markdown",
   "metadata": {},
   "source": [
    "# fMRI Data Example Subject Timeseries"
   ]
  },
  {
   "cell_type": "code",
   "execution_count": null,
   "metadata": {},
   "outputs": [],
   "source": [
    "fmri_timeseries = utils.load_fmri_timeseries('T28_28', '1')"
   ]
  },
  {
   "cell_type": "code",
   "execution_count": null,
   "metadata": {},
   "outputs": [],
   "source": [
    "fmri_timeseries.shape"
   ]
  },
  {
   "cell_type": "code",
   "execution_count": null,
   "metadata": {},
   "outputs": [],
   "source": [
    "i = 1\n",
    "for timeseries in fmri_timeseries:\n",
    "    plt.plot(timeseries)\n",
    "    plt.title(str(i))\n",
    "    plt.show()\n",
    "    i += 1"
   ]
  },
  {
   "cell_type": "markdown",
   "metadata": {},
   "source": [
    "# Average Mutual Information between fMRI and EEG Bands Across Connectome for Single Subject"
   ]
  },
  {
   "cell_type": "code",
   "execution_count": null,
   "metadata": {},
   "outputs": [],
   "source": [
    "def mutual_information_between_connectomes(a, b):\n",
    "    mutual_information_across_connectome = []\n",
    "\n",
    "    for d in range(a.shape[1]):        \n",
    "        a_timeseries = a[:, d].reshape(-1, 1)\n",
    "        b_timeseries = b[:, d]\n",
    "        mutual_information_d = mutual_info_regression(a_timeseries, b_timeseries)\n",
    "        mutual_information_across_connectome.append(mutual_information_d)\n",
    "        \n",
    "    return np.mean(mutual_information_across_connectome)"
   ]
  },
  {
   "cell_type": "code",
   "execution_count": null,
   "metadata": {},
   "outputs": [],
   "source": [
    "fmri_connectome = utils.compute_fmri_connectomes('T28_28', '1', 60)\n",
    "\n",
    "alpha_connectome = utils.load_eeg_connectome('T28_28', '1', 'alpha')\n",
    "beta_connectome = utils.load_eeg_connectome('T28_28', '1', 'beta')\n",
    "delta_connectome = utils.load_eeg_connectome('T28_28', '1', 'delta')\n",
    "gamma_connectome = utils.load_eeg_connectome('T28_28', '1', 'gamma')\n",
    "theta_connectome = utils.load_eeg_connectome('T28_28', '1', 'theta')\n",
    "broad_connectome = utils.load_eeg_connectome('T28_28', '1', 'broad')"
   ]
  },
  {
   "cell_type": "code",
   "execution_count": null,
   "metadata": {},
   "outputs": [],
   "source": [
    "fmri_connectome.shape"
   ]
  },
  {
   "cell_type": "code",
   "execution_count": null,
   "metadata": {},
   "outputs": [],
   "source": [
    "alpha_connectome.shape"
   ]
  },
  {
   "cell_type": "code",
   "execution_count": null,
   "metadata": {},
   "outputs": [],
   "source": [
    "for i in range(30, alpha_connectome.shape[0]):\n",
    "    alpha_connectome[i] = np.mean(alpha_connectome[i-30:i, :, :], axis=0)\n",
    "    beta_connectome[i] = np.mean(beta_connectome[i-30:i, :, :], axis=0)\n",
    "    delta_connectome[i] = np.mean(delta_connectome[i-30:i, :, :], axis=0)\n",
    "    gamma_connectome[i] = np.mean(gamma_connectome[i-30:i, :, :], axis=0)\n",
    "    theta_connectome[i] = np.mean(theta_connectome[i-30:i, :, :], axis=0)\n",
    "    broad_connectome[i] = np.mean(broad_connectome[i-30:i, :, :], axis=0)"
   ]
  },
  {
   "cell_type": "code",
   "execution_count": null,
   "metadata": {},
   "outputs": [],
   "source": [
    "alpha_connectome.shape"
   ]
  },
  {
   "cell_type": "code",
   "execution_count": null,
   "metadata": {},
   "outputs": [],
   "source": [
    "alpha_connectome = alpha_connectome[30:]\n",
    "beta_connectome = beta_connectome[30:]\n",
    "delta_connectome = delta_connectome[30:]\n",
    "gamma_connectome = gamma_connectome[30:]\n",
    "theta_connectome = theta_connectome[30:]\n",
    "broad_connectome = broad_connectome[30:]"
   ]
  },
  {
   "cell_type": "code",
   "execution_count": null,
   "metadata": {},
   "outputs": [],
   "source": [
    "alpha_connectome.shape"
   ]
  },
  {
   "cell_type": "code",
   "execution_count": null,
   "metadata": {},
   "outputs": [],
   "source": [
    "fmri_connectome  = fmri_connectome.reshape(-1, 68*68)\n",
    "alpha_connectome = alpha_connectome.reshape(-1, 68*68)\n",
    "beta_connectome  = beta_connectome.reshape(-1, 68*68)\n",
    "delta_connectome  = delta_connectome.reshape(-1, 68*68)\n",
    "gamma_connectome  = gamma_connectome.reshape(-1, 68*68)\n",
    "theta_connectome  = theta_connectome.reshape(-1, 68*68)\n",
    "broad_connectome  = broad_connectome.reshape(-1, 68*68)"
   ]
  },
  {
   "cell_type": "code",
   "execution_count": null,
   "metadata": {},
   "outputs": [],
   "source": [
    "fmri_connectome.shape"
   ]
  },
  {
   "cell_type": "markdown",
   "metadata": {},
   "source": [
    "### MI Between fMRI and EEG Bands"
   ]
  },
  {
   "cell_type": "code",
   "execution_count": null,
   "metadata": {},
   "outputs": [],
   "source": [
    "mutual_information_between_connectomes(fmri_connectome, fmri_connectome)"
   ]
  },
  {
   "cell_type": "code",
   "execution_count": null,
   "metadata": {},
   "outputs": [],
   "source": [
    "mutual_information_between_connectomes(fmri_connectome, alpha_connectome)"
   ]
  },
  {
   "cell_type": "code",
   "execution_count": null,
   "metadata": {},
   "outputs": [],
   "source": [
    "mutual_information_between_connectomes(fmri_connectome, beta_connectome)"
   ]
  },
  {
   "cell_type": "code",
   "execution_count": null,
   "metadata": {},
   "outputs": [],
   "source": [
    "mutual_information_between_connectomes(fmri_connectome, delta_connectome)"
   ]
  },
  {
   "cell_type": "code",
   "execution_count": null,
   "metadata": {},
   "outputs": [],
   "source": [
    "mutual_information_between_connectomes(fmri_connectome, gamma_connectome)"
   ]
  },
  {
   "cell_type": "code",
   "execution_count": null,
   "metadata": {},
   "outputs": [],
   "source": [
    "mutual_information_between_connectomes(fmri_connectome, theta_connectome)"
   ]
  },
  {
   "cell_type": "code",
   "execution_count": null,
   "metadata": {},
   "outputs": [],
   "source": [
    "mutual_information_between_connectomes(fmri_connectome, broad_connectome)"
   ]
  },
  {
   "cell_type": "markdown",
   "metadata": {},
   "source": [
    "### MI Between Time-Randomized fMRI and EEG Bands"
   ]
  },
  {
   "cell_type": "markdown",
   "metadata": {},
   "source": [
    "NOTE TO READER: A real null model should really be constructed to validate the conclusion that fMRI and EEG share dynamics beyond random chance. This has been done in previous work by Jonathan. This experiment here is just a data sanity check."
   ]
  },
  {
   "cell_type": "code",
   "execution_count": null,
   "metadata": {},
   "outputs": [],
   "source": [
    "randomized_fmri_connectome = np.random.permutation(fmri_connectome)\n",
    "randomized_fmri_connectome.shape"
   ]
  },
  {
   "cell_type": "code",
   "execution_count": null,
   "metadata": {},
   "outputs": [],
   "source": [
    "mutual_information_between_connectomes(randomized_fmri_connectome, randomized_fmri_connectome)"
   ]
  },
  {
   "cell_type": "code",
   "execution_count": null,
   "metadata": {},
   "outputs": [],
   "source": [
    "mutual_information_between_connectomes(randomized_fmri_connectome, fmri_connectome)"
   ]
  },
  {
   "cell_type": "code",
   "execution_count": null,
   "metadata": {},
   "outputs": [],
   "source": [
    "mutual_information_between_connectomes(randomized_fmri_connectome, alpha_connectome)"
   ]
  },
  {
   "cell_type": "code",
   "execution_count": null,
   "metadata": {},
   "outputs": [],
   "source": [
    "mutual_information_between_connectomes(randomized_fmri_connectome, beta_connectome)"
   ]
  },
  {
   "cell_type": "code",
   "execution_count": null,
   "metadata": {},
   "outputs": [],
   "source": [
    "mutual_information_between_connectomes(randomized_fmri_connectome, delta_connectome)"
   ]
  },
  {
   "cell_type": "code",
   "execution_count": null,
   "metadata": {},
   "outputs": [],
   "source": [
    "mutual_information_between_connectomes(randomized_fmri_connectome, gamma_connectome)"
   ]
  },
  {
   "cell_type": "code",
   "execution_count": null,
   "metadata": {},
   "outputs": [],
   "source": [
    "mutual_information_between_connectomes(randomized_fmri_connectome, theta_connectome)"
   ]
  },
  {
   "cell_type": "markdown",
   "metadata": {},
   "source": [
    "### MI Between Broad and EEG Bands"
   ]
  },
  {
   "cell_type": "code",
   "execution_count": null,
   "metadata": {},
   "outputs": [],
   "source": [
    "mutual_information_between_connectomes(broad_connectome, broad_connectome)"
   ]
  },
  {
   "cell_type": "code",
   "execution_count": null,
   "metadata": {},
   "outputs": [],
   "source": [
    "mutual_information_between_connectomes(broad_connectome, alpha_connectome)"
   ]
  },
  {
   "cell_type": "code",
   "execution_count": null,
   "metadata": {},
   "outputs": [],
   "source": [
    "mutual_information_between_connectomes(broad_connectome, beta_connectome)"
   ]
  },
  {
   "cell_type": "code",
   "execution_count": null,
   "metadata": {},
   "outputs": [],
   "source": [
    "mutual_information_between_connectomes(broad_connectome, delta_connectome)"
   ]
  },
  {
   "cell_type": "code",
   "execution_count": null,
   "metadata": {},
   "outputs": [],
   "source": [
    "mutual_information_between_connectomes(broad_connectome, gamma_connectome)"
   ]
  },
  {
   "cell_type": "code",
   "execution_count": null,
   "metadata": {},
   "outputs": [],
   "source": [
    "mutual_information_between_connectomes(broad_connectome, theta_connectome)"
   ]
  },
  {
   "cell_type": "markdown",
   "metadata": {},
   "source": [
    "# Average Mutual Information Between fMRI and EEG Bands Across All Subjects and All Trials and Entire Connectome"
   ]
  },
  {
   "cell_type": "code",
   "execution_count": null,
   "metadata": {},
   "outputs": [],
   "source": [
    "all_subjects_all_trials_connectomes = utils.load_connectomes(utils.ALL_SUBJECT_IDS, utils.ALL_TRIAL_IDS)"
   ]
  },
  {
   "cell_type": "code",
   "execution_count": null,
   "metadata": {},
   "outputs": [],
   "source": [
    "fmri_connectome_timeseries  = all_subjects_all_trials_connectomes['fmri'].reshape(-1, 68*68)\n",
    "alpha_connectome_timeseries = all_subjects_all_trials_connectomes['alpha'].reshape(-1, 68*68)\n",
    "beta_connectome_timeseries  = all_subjects_all_trials_connectomes['beta'].reshape(-1, 68*68)\n",
    "delta_connectome_timeseries = all_subjects_all_trials_connectomes['delta'].reshape(-1, 68*68)\n",
    "gamma_connectome_timeseries = all_subjects_all_trials_connectomes['gamma'].reshape(-1, 68*68)\n",
    "theta_connectome_timeseries = all_subjects_all_trials_connectomes['theta'].reshape(-1, 68*68)\n",
    "broad_connectome_timeseries = all_subjects_all_trials_connectomes['broad'].reshape(-1, 68*68)"
   ]
  },
  {
   "cell_type": "markdown",
   "metadata": {},
   "source": [
    "### MI Between fMRI and EEG Bands"
   ]
  },
  {
   "cell_type": "code",
   "execution_count": null,
   "metadata": {},
   "outputs": [],
   "source": [
    "mutual_information_between_connectomes(fmri_connectome_timeseries, fmri_connectome_timeseries)"
   ]
  },
  {
   "cell_type": "code",
   "execution_count": null,
   "metadata": {},
   "outputs": [],
   "source": [
    "mutual_information_between_connectomes(fmri_connectome_timeseries, alpha_connectome_timeseries)"
   ]
  },
  {
   "cell_type": "code",
   "execution_count": null,
   "metadata": {},
   "outputs": [],
   "source": [
    "mutual_information_between_connectomes(fmri_connectome_timeseries, beta_connectome_timeseries)"
   ]
  },
  {
   "cell_type": "code",
   "execution_count": null,
   "metadata": {},
   "outputs": [],
   "source": [
    "mutual_information_between_connectomes(fmri_connectome_timeseries, delta_connectome_timeseries)"
   ]
  },
  {
   "cell_type": "code",
   "execution_count": null,
   "metadata": {},
   "outputs": [],
   "source": [
    "mutual_information_between_connectomes(fmri_connectome_timeseries, gamma_connectome_timeseries)"
   ]
  },
  {
   "cell_type": "code",
   "execution_count": null,
   "metadata": {},
   "outputs": [],
   "source": [
    "mutual_information_between_connectomes(fmri_connectome_timeseries, theta_connectome_timeseries)"
   ]
  },
  {
   "cell_type": "code",
   "execution_count": null,
   "metadata": {},
   "outputs": [],
   "source": [
    "mutual_information_between_connectomes(fmri_connectome_timeseries, broad_connectome_timeseries)"
   ]
  },
  {
   "cell_type": "markdown",
   "metadata": {},
   "source": [
    "### MI Between Time-Randomized fMRI and EEG Bands"
   ]
  },
  {
   "cell_type": "markdown",
   "metadata": {},
   "source": [
    "NOTE TO READER: A real null model should really be constructed to validate the conclusion that fMRI and EEG share dynamics beyond random chance. This has been done in previous work by Jonathan. This experiment here is just a data sanity check."
   ]
  },
  {
   "cell_type": "code",
   "execution_count": null,
   "metadata": {},
   "outputs": [],
   "source": [
    "randomized_fmri_connectome_timeseries = np.random.permutation(fmri_connectome_timeseries)"
   ]
  },
  {
   "cell_type": "code",
   "execution_count": null,
   "metadata": {},
   "outputs": [],
   "source": [
    "mutual_information_between_connectomes(randomized_fmri_connectome_timeseries, alpha_connectome_timeseries)"
   ]
  },
  {
   "cell_type": "code",
   "execution_count": null,
   "metadata": {},
   "outputs": [],
   "source": [
    "mutual_information_between_connectomes(randomized_fmri_connectome_timeseries, beta_connectome_timeseries)"
   ]
  },
  {
   "cell_type": "code",
   "execution_count": null,
   "metadata": {},
   "outputs": [],
   "source": [
    "mutual_information_between_connectomes(randomized_fmri_connectome_timeseries, delta_connectome_timeseries)"
   ]
  },
  {
   "cell_type": "code",
   "execution_count": null,
   "metadata": {},
   "outputs": [],
   "source": [
    "mutual_information_between_connectomes(randomized_fmri_connectome_timeseries, gamma_connectome_timeseries)"
   ]
  },
  {
   "cell_type": "code",
   "execution_count": null,
   "metadata": {},
   "outputs": [],
   "source": [
    "mutual_information_between_connectomes(randomized_fmri_connectome_timeseries, theta_connectome_timeseries)"
   ]
  },
  {
   "cell_type": "code",
   "execution_count": null,
   "metadata": {},
   "outputs": [],
   "source": [
    "mutual_information_between_connectomes(randomized_fmri_connectome_timeseries, broad_connectome_timeseries)"
   ]
  },
  {
   "cell_type": "markdown",
   "metadata": {},
   "source": [
    "# Visualize fMRI/EEG Connectome Dynamics"
   ]
  },
  {
   "cell_type": "code",
   "execution_count": null,
   "metadata": {},
   "outputs": [],
   "source": [
    "# for subject_id in ALL_SUBJECT_IDS:\n",
    "#     for trial_id in ALL_TRIAL_IDS:\n",
    "        \n",
    "#         # Attempt to load all connectome types\n",
    "#         connectomes = load_all_connectome_types(subject_id, trial_id,\n",
    "#                                                atlas='desikan', \n",
    "#                                                seconds_used_to_compute_fmri_connectome=60,\n",
    "#                                                exclude_bad_fmri_frames=True,\n",
    "#                                                filter_artifact_timepoints=True)\n",
    "        \n",
    "#         if connectomes is None:\n",
    "#             continue\n",
    "\n",
    "#         # Plot connectomes through time\n",
    "#         for t in range(0, connectomes['fmri'].shape[0]):\n",
    "            \n",
    "#             # Create figure and set title\n",
    "#             fig = plt.figure(figsize=(30, 35))\n",
    "#             fig.suptitle('Subject: \"{0}\" | Trial: {1} | Time: {2}'.format(subject_id, trial_id, t), fontsize=50)\n",
    "            \n",
    "#             # Plot connectomes\n",
    "#             subplot_idx = 1\n",
    "#             for connectome_id, connectome in connectomes.items():\n",
    "\n",
    "#                 ax = fig.add_subplot(len(connectomes), 2, subplot_idx)\n",
    "#                 plotting.plot_connectome(connectome[t], desikan_atlas_coordinates(), title='{0} Connectome'.format(connectome_id),\n",
    "#                                          edge_threshold='95%', node_size=20, colorbar=True, axes=ax)\n",
    "#                 subplot_idx += 1\n",
    "            \n",
    "#                 ax = fig.add_subplot(len(connectomes), 2, subplot_idx)\n",
    "#                 plotting.plot_matrix(connectome[t], vmin=-1., vmax=1., colorbar=True, axes=ax)\n",
    "#                 subplot_idx += 1\n",
    "    \n",
    "#             plt.savefig('output/connectomes_through_time/subject={0}_trial={1}_t={2}.png'.format(subject_id, trial_id, t))"
   ]
  }
 ],
 "metadata": {
  "kernelspec": {
   "display_name": "Python 3",
   "language": "python",
   "name": "python3"
  },
  "language_info": {
   "codemirror_mode": {
    "name": "ipython",
    "version": 3
   },
   "file_extension": ".py",
   "mimetype": "text/x-python",
   "name": "python",
   "nbconvert_exporter": "python",
   "pygments_lexer": "ipython3",
   "version": "3.6.5"
  }
 },
 "nbformat": 4,
 "nbformat_minor": 1
}
